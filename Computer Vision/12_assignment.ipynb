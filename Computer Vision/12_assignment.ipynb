{
 "cells": [
  {
   "cell_type": "markdown",
   "id": "6e893795",
   "metadata": {},
   "source": [
    "# Assignment 12"
   ]
  }
 ],
 "metadata": {},
 "nbformat": 4,
 "nbformat_minor": 5
}
