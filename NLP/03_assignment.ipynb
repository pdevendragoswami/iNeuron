{
 "cells": [
  {
   "cell_type": "markdown",
   "id": "e0ef9892",
   "metadata": {},
   "source": [
    "# Assignment 3"
   ]
  }
 ],
 "metadata": {},
 "nbformat": 4,
 "nbformat_minor": 5
}
