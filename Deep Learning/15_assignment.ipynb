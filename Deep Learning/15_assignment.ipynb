{
 "cells": [
  {
   "cell_type": "markdown",
   "id": "68ff60a2",
   "metadata": {},
   "source": [
    "# Assignment 15"
   ]
  }
 ],
 "metadata": {},
 "nbformat": 4,
 "nbformat_minor": 5
}
