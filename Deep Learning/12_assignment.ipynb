{
 "cells": [
  {
   "cell_type": "markdown",
   "id": "2bd2753e",
   "metadata": {},
   "source": [
    "# Assignment 12"
   ]
  }
 ],
 "metadata": {},
 "nbformat": 4,
 "nbformat_minor": 5
}
