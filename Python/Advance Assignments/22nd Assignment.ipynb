{
 "cells": [
  {
   "cell_type": "markdown",
   "metadata": {},
   "source": [
    "1. What are the benefits of the built-in array package, if any?\n",
    "\n",
    "    The built-in array:\n",
    "    - represent multiple data items of the same type using a single name.\n",
    "    - we can accesse the elements randomly by using the index number.\n",
    "    - allocate memory in contiguous memory locations for all its elements. \n",
    "    - allocate a fixed amount of memory for all elements upfront, arrays prevent memory overflow or shortage issues, enhancing overall memory management efficiency."
   ]
  },
  {
   "cell_type": "markdown",
   "metadata": {},
   "source": [
    "2. What are some of the array package's limitations?\n",
    "\n",
    "    The limitations of arrays are as follows:\n",
    "\n",
    "    - Arrays require the number of elements to be known beforehand and have a fixed size.\n",
    "    - Once declared, array size cannot be changed, and memory allocation cannot be adjusted.\n",
    "    - Insertion and deletion operations are challenging due to the need for shifting elements, which can be costly.\n",
    "    - Over-allocating memory can lead to wastage, while under-allocation can cause problems.\n",
    "    - Elements must be of the same data type."
   ]
  },
  {
   "cell_type": "markdown",
   "metadata": {},
   "source": [
    "3. Describe the main differences between the array and numpy packages ?\n",
    "\n",
    "    - The array package lacks support for numerical calculations, while NumPy offers extensive numerical operations.\n",
    "    - Arrays are single-dimensional, while NumPy arrays can have multiple dimensions.\n",
    "    - Accessing items in arrays is straightforward via index positions, while NumPy arrays use row and column indices, which can be slightly slower.\n",
    "    - Arrays don't form a tabular structure, whereas NumPy arrays can represent data in a tabular format."
   ]
  },
  {
   "cell_type": "markdown",
   "metadata": {},
   "source": [
    "4. Explain the distinctions between the empty, ones, and zeros functions ?\n",
    "\n",
    "    - Empty Function: In Python, an empty function is one that doesn't contain any statements within its body. To define such a function without causing an error, we use the pass statement, which acts as a placeholder. However, in NumPy, there isn't a specific function called empty.However, We can create an uninitialized array with numpy.empty(shape, dtype).\n",
    "  \n",
    "    - Ones Function: numpy.ones(shape, dtype) returns a new array filled with ones, where the shape and data type are specified.\n",
    "  \n",
    "    - Zeros Function: numpy.zeros(shape, dtype) returns a new array filled with zeros, where the shape and data type are specified."
   ]
  },
  {
   "cell_type": "markdown",
   "metadata": {},
   "source": [
    "5. In the fromfunction function, which is used to construct new arrays, what is the role of the callable argument ?\n",
    "\n",
    "    The callable argument in the fromfunction function, used to create new arrays, defines a function that  determines the values of the elements in the resulting array. This function is applied to each coordinate of the array and it is called with N parameters, where N is the rank of the array's shape. Each parameter represents the coordinates of the array along a specific axis."
   ]
  },
  {
   "cell_type": "markdown",
   "metadata": {},
   "source": [
    "6. What happens when a numpy array is combined with a single-value operand (a scalar, such as an int or a floating-point value) through addition, as in the expression A + n ?\n",
    "\n",
    "    When a NumPy array is combined with a scalar operand (such as an integer or a floating-point value) through addition, as in the expression A + n, the scalar value is added to each element of the array. This means that the scalar value is added element-wise to every element within the array."
   ]
  },
  {
   "cell_type": "markdown",
   "metadata": {},
   "source": [
    "7. Can array-to-scalar operations use combined operation-assign operators (such as += or *=)? What is the outcome ?\n",
    "\n",
    "    Yes, array-to-scalar operations can utilize combined operation-assign operators (such as += or *=). The outcome is that the specified operation is applied to all elements of the array, modifying each element accordingly."
   ]
  },
  {
   "cell_type": "markdown",
   "metadata": {},
   "source": [
    "8. Does a numpy array contain fixed-length strings? What happens if you allocate a longer string to one of these arrays ?\n",
    "\n",
    "    Yes, it's possible to have fixed-length strings in a NumPy array. The dtype of a NumPy array containing strings is determined by the maximum length of any string in the array. Once set, the array can only store new strings with a length not exceeding this maximum length.\n",
    "\n",
    "    If you attempt to assign a longer string to an element in the array, NumPy will truncate the string to fit within the specified length. Any characters beyond the maximum length will be discarded, retaining only those within the limit."
   ]
  },
  {
   "cell_type": "markdown",
   "metadata": {},
   "source": [
    "9. What happens when you combine two numpy arrays using an operation like addition (+) or multiplication (*)? What are the conditions for combining two numpy arrays ?\n",
    "\n",
    "    When we combine two NumPy arrays using operations like addition (+) or multiplication (*), the operation is applied element-wise, meaning each element in one array is combined with the corresponding element in the other array.\n",
    "\n",
    "    The conditions for combining two NumPy arrays are that they must have compatible shapes and data types. Additionally, they must adhere to NumPy's broadcasting rules, which allow arrays with different shapes to be combined under certain conditions."
   ]
  },
  {
   "cell_type": "markdown",
   "metadata": {},
   "source": [
    "10. What is the best way to use a Boolean array to mask another array ?\n",
    "\n",
    "    The best way to use a Boolean array to mask another array is by using the numpy package's masked_where function."
   ]
  },
  {
   "cell_type": "markdown",
   "metadata": {},
   "source": [
    "11. What are three different ways to get the standard deviation of a wide collection of data using both standard Python and its packages? Sort the three of them by how quickly they execute ?\n",
    "\n",
    "    Three different methods to compute the standard deviation of a wide collection of data are NumPy's np.std function, statistics module and math module.\n",
    "\n",
    "    In terms of execution speed, the sorted order would be:\n",
    "    \n",
    "    - np.std (NumPy)\n",
    "    - statistics module (Python standard library)\n",
    "    - math module (Python standard library)"
   ]
  },
  {
   "cell_type": "markdown",
   "metadata": {},
   "source": [
    "12. What is the dimensionality of a Boolean mask-generated array ?\n",
    "\n",
    "    The dimensionality of a Boolean mask-generated array is identical to that of the input array."
   ]
  }
 ],
 "metadata": {
  "language_info": {
   "name": "python"
  }
 },
 "nbformat": 4,
 "nbformat_minor": 2
}
