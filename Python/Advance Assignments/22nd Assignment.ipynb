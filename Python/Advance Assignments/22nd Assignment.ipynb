{
 "cells": [
  {
   "cell_type": "markdown",
   "metadata": {},
   "source": [
    "1. What are the benefits of the built-in array package, if any?\n",
    "\n",
    "    The built-in array:\n",
    "    - represent multiple data items of the same type using a single name.\n",
    "    - we can accesse the elements randomly by using the index number.\n",
    "    - allocate memory in contiguous memory locations for all its elements. \n",
    "    - allocate a fixed amount of memory for all elements upfront, arrays prevent memory overflow or shortage issues, enhancing overall memory management efficiency."
   ]
  },
  {
   "cell_type": "markdown",
   "metadata": {},
   "source": [
    "Q2. What are some of the array package's limitations ?\n",
    "Ans: The number of elements to be stored in an array should be known in advance. An array is a static structure (which means the array is of fixed size). Once declared the size of the array cannot be modified. The memory which is allocated to it cannot be increased or decreased.\n",
    "\n",
    "Insertion and deletion are quite difficult in an array as the elements are stored in consecutive memory locations and the shifting operation is costly.\n",
    "\n",
    "Allocating more memory than the requirement leads to wastage of memory space and less allocation of memory also leads to a problem\n",
    "\n"
   ]
  },
  {
   "cell_type": "markdown",
   "metadata": {},
   "source": [
    "Q3. Describe the main differences between the array and numpy packages ?\n",
    "Ans: The array package doesn't provide any help with numerical calculation with the items insdie it in number form while NumPy give you a wide variety of numerical operations.\n",
    "\n",
    "An array is a single dimensional entity which hold the numerical data, while numpy can have more than 1 dimension.\n",
    "\n",
    "In case of array, item can be accessed by its index position and it is easy task while in numpy item is accessed by its column and row index, which makes it slightly time taking. Same goes with appending operation.\n",
    "\n",
    "In case of array we do not form a tabular structure, while in numpy it forms a tabular structure\n",
    "\n"
   ]
  },
  {
   "cell_type": "markdown",
   "metadata": {},
   "source": [
    "Q4. Explain the distinctions between the empty, ones, and zeros functions ?\n",
    "Ans: The distinctions between the empty, ones, and zero functions are as follows :\n",
    "\n",
    "Empty function: An empty function is a function that does not contain any statement within its body. If you try to write a function definition without any statement in python ,it will return an error. To avoid this, we use pass statement. pass is a special statement in Python that does nothing. It only works as a dummy statement.\n",
    "Ones: This function returns a new array of given shape and data type, where the element’s value is 1.\n",
    "Zeros: This function returns a new array of given shape and data type, where the element’s value is 0.\n"
   ]
  },
  {
   "cell_type": "markdown",
   "metadata": {},
   "source": [
    "Q5. In the fromfunction function, which is used to construct new arrays, what is the role of the callable argument ?\n",
    "Ans: Its function is to execute the function over each coordinate and the resulting array. The function is called with N parameters, where N is the rank of shape. Each parameter represents the coordinates of the array varying along a specific axis.\n",
    "\n",
    "In the `fromfunction` function, which is utilized to construct new arrays, the role of the `callable` argument is to execute the function over each coordinate to generate the values of the resulting array. This callable function is invoked with N parameters, where N corresponds to the rank of the array's shape. Each parameter represents the coordinates of the array, varying along a specific axis.\n",
    "\n",
    "The role of the `callable` argument in the `fromfunction` function, used to construct new arrays, is to execute the specified function over each coordinate of the array. This function is called with N parameters, where N corresponds to the rank of the array's shape. Each parameter represents the coordinates of the array, varying along a specific axis."
   ]
  },
  {
   "cell_type": "markdown",
   "metadata": {},
   "source": [
    "Q6. What happens when a numpy array is combined with a single-value operand (a scalar, such as an int or a floating-point value) through addition, as in the expression A + n ?\n",
    "Ans: If any scaler value such as integer is added to the numpy array then all the elements inside the array will add that value in it.\n",
    "\n",
    "When a NumPy array is combined with a single-value operand (a scalar, such as an integer or a floating-point value) through addition, as in the expression A + n, the scalar value is added to each element of the array. In other words, the scalar value is broadcasted to match the shape of the array, and then added element-wise to each corresponding element of the array.\n",
    "\n",
    "When a NumPy array is combined with a scalar operand (such as an integer or a floating-point value) through addition, as in the expression A + n, the scalar value is added to each element of the array. This means that the scalar value is added element-wise to every element within the array."
   ]
  },
  {
   "cell_type": "markdown",
   "metadata": {},
   "source": [
    "7. Can array-to-scalar operations use combined operation-assign operators (such as += or *=)? What is the outcome ?\n",
    "\n",
    "    Yes, array-to-scalar operations can utilize combined operation-assign operators (such as += or *=). The outcome is that the specified operation is applied to all elements of the array, modifying each element accordingly."
   ]
  },
  {
   "cell_type": "markdown",
   "metadata": {},
   "source": [
    "8. Does a numpy array contain fixed-length strings? What happens if you allocate a longer string to one of these arrays ?\n",
    "\n",
    "    Yes, it's possible to have fixed-length strings in a NumPy array. The dtype of a NumPy array containing strings is determined by the maximum length of any string in the array. Once set, the array can only store new strings with a length not exceeding this maximum length.\n",
    "\n",
    "    If you attempt to assign a longer string to an element in the array, NumPy will truncate the string to fit within the specified length. Any characters beyond the maximum length will be discarded, retaining only those within the limit."
   ]
  },
  {
   "cell_type": "markdown",
   "metadata": {},
   "source": [
    "9. What happens when you combine two numpy arrays using an operation like addition (+) or multiplication (*)? What are the conditions for combining two numpy arrays ?\n",
    "\n",
    "    When we combine two NumPy arrays using operations like addition (+) or multiplication (*), the operation is applied element-wise, meaning each element in one array is combined with the corresponding element in the other array.\n",
    "\n",
    "    The conditions for combining two NumPy arrays are that they must have compatible shapes and data types. Additionally, they must adhere to NumPy's broadcasting rules, which allow arrays with different shapes to be combined under certain conditions."
   ]
  },
  {
   "cell_type": "markdown",
   "metadata": {},
   "source": [
    "10. What is the best way to use a Boolean array to mask another array ?\n",
    "\n",
    "    The best way to use a Boolean array to mask another array is by using the numpy package's masked_where function."
   ]
  },
  {
   "cell_type": "markdown",
   "metadata": {},
   "source": [
    "11. What are three different ways to get the standard deviation of a wide collection of data using both standard Python and its packages? Sort the three of them by how quickly they execute ?\n",
    "\n",
    "    Three different methods to compute the standard deviation of a wide collection of data are NumPy's np.std function, statistics module and math module.\n",
    "\n",
    "    In terms of execution speed, the sorted order would be:\n",
    "    \n",
    "    - np.std (NumPy)\n",
    "    - statistics module (Python standard library)\n",
    "    - math module (Python standard library)"
   ]
  },
  {
   "cell_type": "markdown",
   "metadata": {},
   "source": [
    "12. What is the dimensionality of a Boolean mask-generated array ?\n",
    "\n",
    "    The dimensionality of a Boolean mask-generated array is identical to that of the input array."
   ]
  }
 ],
 "metadata": {
  "language_info": {
   "name": "python"
  }
 },
 "nbformat": 4,
 "nbformat_minor": 2
}
