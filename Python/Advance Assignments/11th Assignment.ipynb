{
 "cells": [
  {
   "cell_type": "markdown",
   "metadata": {},
   "source": [
    "1. What is the concept of a metaclass?\n",
    "\n",
    "    A metaclass in Python is a class that defines the behavior of other classes. Essentially, it's a class of a class. In Python, every class is an instance of a metaclass. For example, the built-in types such as int, str, float, list, tuple, etc., are instances of their respective metaclasses."
   ]
  },
  {
   "cell_type": "markdown",
   "metadata": {},
   "source": [
    "2. What is the best way to declare a class's metaclass?\n",
    "\n",
    "    The best way to declare a class's metaclass is by using the metaclass keyword in the class definition."
   ]
  },
  {
   "cell_type": "code",
   "execution_count": 1,
   "metadata": {},
   "outputs": [
    {
     "name": "stdout",
     "output_type": "stream",
     "text": [
      "<class 'type'>\n",
      "<class '__main__.Meta'>\n"
     ]
    }
   ],
   "source": [
    "class Meta(type):\n",
    "    pass\n",
    "\n",
    "class MyClass(metaclass=Meta):\n",
    "    pass\n",
    "\n",
    "print(type(Meta))\n",
    "print(type(MyClass))"
   ]
  },
  {
   "cell_type": "markdown",
   "metadata": {},
   "source": [
    "3. How do class decorators overlap with metaclasses for handling classes ?\n",
    "\n",
    "    Class decorators and metaclasses are both used to modify the behavior of classes and instances in Python.\n",
    "\n",
    "    - Class decorators: They are functions applied directly to class definitions using the `@decorator_name` syntax. They modify the class after it's defined and are simpler to implement.\n",
    "\n",
    "    - Metaclasses: They are classes themselves, used as templates to create classes. They define the behavior of classes and their instances at a fundamental level, operating when the class is defined.\n"
   ]
  },
  {
   "cell_type": "markdown",
   "metadata": {},
   "source": [
    "4. How do class decorators overlap with metaclasses for handling instances?\n",
    "\n",
    "    Class decorators and metaclasses are both used to modify the behavior of classes and instances in Python.\n",
    "\n",
    "    - Class decorators: They are functions applied directly to class definitions using the `@decorator_name` syntax. They modify the class after it's defined and are simpler to implement.\n",
    "\n",
    "    - Metaclasses: They are classes themselves, used as templates to create classes. They define the behavior of classes and their instances at a fundamental level, operating when the class is defined."
   ]
  }
 ],
 "metadata": {
  "kernelspec": {
   "display_name": "base",
   "language": "python",
   "name": "python3"
  },
  "language_info": {
   "codemirror_mode": {
    "name": "ipython",
    "version": 3
   },
   "file_extension": ".py",
   "mimetype": "text/x-python",
   "name": "python",
   "nbconvert_exporter": "python",
   "pygments_lexer": "ipython3",
   "version": "3.11.5"
  }
 },
 "nbformat": 4,
 "nbformat_minor": 2
}
