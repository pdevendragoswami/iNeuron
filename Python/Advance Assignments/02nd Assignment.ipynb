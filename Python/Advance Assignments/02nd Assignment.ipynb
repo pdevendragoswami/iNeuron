{
 "cells": [
  {
   "cell_type": "markdown",
   "metadata": {},
   "source": [
    "1. What is the relationship between classes and modules?\n",
    "\n",
    "    Class is a blueprint for creating a new object.Modules are simply files with the . py extension containing Python code that can be imported inside another Python Program.\n",
    "\n",
    "    Modules can contain classes.We can define one or more classes within a module along with other code.\n",
    "\n",
    "    We can import classes from modules. This allows us to use the classes defined in one module in another module by importing them.\n",
    "\n",
    "    Classes can be organized within modules to keep related classes together. This helps in better organizing and managing larger projects."
   ]
  },
  {
   "cell_type": "markdown",
   "metadata": {},
   "source": [
    "2. How do you make instances and classes?\n",
    "\n",
    "    When creating a class in Python, we use the class keyword followed by the class name and a colon. Inside the class definition, we can define methods, including the __init__ method, which initializes the instance attributes.\n",
    "\n",
    "    To create instances of a class, we call the class by its name and pass any required arguments to its __init__ method. These arguments initialize the instance attributes.\n",
    "\n",
    "    Here Employee is a class created with class keyword with arguments gender and salary and 'abc' is an instance of class Employee with attributes 'Male' and 1000."
   ]
  },
  {
   "cell_type": "code",
   "execution_count": 1,
   "metadata": {},
   "outputs": [],
   "source": [
    "class Employee:\n",
    "    def __init__(self, gender,salary):         \n",
    "        self.gender = gender         \n",
    "        self.salary = salary\n",
    "\n",
    "abc = Employee('Male',1000)"
   ]
  },
  {
   "cell_type": "markdown",
   "metadata": {},
   "source": [
    "3. Where and how should be class attributes created?\n",
    "\n",
    "    Class attributes should be created inside the class definition but outside of any class methods. They are typically placed right after the class declaration. Class attributes are shared among all instances of the class and are accessed using the class name itself or an instance of the class.\n",
    "    \n",
    "    In below example, no_of_wheels is a class attribute of the Car class. It is defined directly within the class body but outside of any methods. All instances of the Person class share the same species attribute"
   ]
  },
  {
   "cell_type": "code",
   "execution_count": 2,
   "metadata": {},
   "outputs": [
    {
     "name": "stdout",
     "output_type": "stream",
     "text": [
      "4\n"
     ]
    }
   ],
   "source": [
    "class Car:\n",
    "    no_of_wheels = 4; # this is a class attribute\n",
    "    def __init__(self,color,price,engine):\n",
    "        self.color = color # All this are instance attributes\n",
    "        self.price = price\n",
    "        self.engine = engine\n",
    "\n",
    "maruti = Car('Black',500000,'petrol')\n",
    "\n",
    "print(maruti.no_of_wheels)"
   ]
  },
  {
   "cell_type": "markdown",
   "metadata": {},
   "source": [
    "4. Where and how are instance attributes created?\n",
    "\n",
    "    Instance attributes are created within a class. When you create an instance of a class (an object), instance attributes are typically defined within the class constructor method (__init__()).Unlike class attributes, instance attributes are not shared by all objects of the class. Instead each object maintains its copy of instance attributes at object level. whereas incase of class attributes all instances of class refer to a single copy.\n",
    "\n",
    "    Example: In the below sample code we are creating a class Person with instance variables name and age which will be provided when an instance of class Person is created."
   ]
  },
  {
   "cell_type": "code",
   "execution_count": 3,
   "metadata": {},
   "outputs": [
    {
     "name": "stdout",
     "output_type": "stream",
     "text": [
      "ABC\n",
      "24\n"
     ]
    }
   ],
   "source": [
    "class Person:\n",
    "    def __init__(self,name,age):\n",
    "        self.name = name # All this are instance attributes\n",
    "        self.age = age\n",
    "\n",
    "obj1 = Person('ABC',24)\n",
    "obj2 = Person('XYZ',24)\n",
    "\n",
    "print(obj1.name)\n",
    "print(obj2.age)\n",
    "#obj1 and obj2 are both the instances of class Person with different instance variables."
   ]
  },
  {
   "cell_type": "markdown",
   "metadata": {},
   "source": [
    "5. What does the term \"self\" in a Python class mean?\n",
    "\n",
    "    self represents the instance/object of the class.It is a parameter not a keyword.We can any assign any name to it. By using the “self” keyword we can access the attributes and methods of the class.\n",
    "\n"
   ]
  },
  {
   "cell_type": "code",
   "execution_count": 4,
   "metadata": {},
   "outputs": [
    {
     "name": "stdout",
     "output_type": "stream",
     "text": [
      "{'name': 'ABC', 'age': 24, 'gender': 'Male'}\n",
      "{'name': 'XYZ', 'age': 24, 'gender': 'Female'}\n"
     ]
    }
   ],
   "source": [
    "class Person:\n",
    "    def __init__(self,name,age,gender):\n",
    "        self.name = name # All this are instance attributes\n",
    "        self.age = age\n",
    "        self.gender = gender\n",
    "\n",
    "obj1 = Person('ABC',24, 'Male')\n",
    "obj2 = Person('XYZ',24, 'Female')\n",
    "\n",
    "print(obj1.__dict__)\n",
    "print(obj2.__dict__)\n"
   ]
  },
  {
   "cell_type": "markdown",
   "metadata": {},
   "source": [
    "6. How does a Python class handle operator overloading?\n",
    "\n",
    "    Python Classes handles operator overloading by defining special methods called as Magic methods.These methods, denoted by double underscores (__).\n",
    "    \n",
    "    Example: Magic methods for basic arithmetic operators are:\n",
    "\n",
    "    - '+' -> __add__()\n",
    "    - '-' -> __sub__()\n",
    "    - '*' -> __mul__()\n",
    "    \n",
    "    - '/' -> __div__()\n",
    "\n"
   ]
  },
  {
   "cell_type": "code",
   "execution_count": 5,
   "metadata": {},
   "outputs": [
    {
     "name": "stdout",
     "output_type": "stream",
     "text": [
      "The total number of pages in 2 books is 300\n"
     ]
    }
   ],
   "source": [
    "class Book:\n",
    "    def __init__(self,pages):\n",
    "        self.pages = pages\n",
    "    def __add__(self,other):\n",
    "        return self.pages + other.pages\n",
    "    \n",
    "b1 = Book(100)\n",
    "b2 = Book(200)\n",
    "print(f'The total number of pages in 2 books is {b1+b2}')\n"
   ]
  },
  {
   "cell_type": "markdown",
   "metadata": {},
   "source": [
    "7. When do you consider allowing operator overloading of your classes?\n",
    "\n",
    "    When we want to have redefine the meaning of operator depending on the context, we use operator overloading.\n",
    "    For example, '+' can be used for addition for numerical object while the same '+' can be used for concatenation for string object\n",
    "\n"
   ]
  },
  {
   "cell_type": "markdown",
   "metadata": {},
   "source": [
    "8. What is the most popular form of operator overloading?\n",
    "\n",
    "    The most popular form of operator overloading in python is achieved through special methods called Magic methods which typically begin and end with double underscore (`__`)"
   ]
  },
  {
   "cell_type": "code",
   "execution_count": 6,
   "metadata": {},
   "outputs": [
    {
     "name": "stdout",
     "output_type": "stream",
     "text": [
      "Sum of 2 integers -> 10\n",
      "String Concatenation -> Hello Python\n"
     ]
    }
   ],
   "source": [
    "class Addition:\n",
    "\n",
    "    def __init__(self,a):\n",
    "        self.a = a\n",
    "\n",
    "    def __add__(self,other):\n",
    "        return self.a+other.a\n",
    "    \n",
    "\n",
    "obj1 = Addition(2)\n",
    "obj2 = Addition(8)\n",
    "obj3 = Addition('Hello')\n",
    "obj4 = Addition(' Python')\n",
    "\n",
    "print(f'Sum of 2 integers -> {obj1+obj2}')\n",
    "print(f'String Concatenation -> {obj3+obj4}')"
   ]
  },
  {
   "cell_type": "markdown",
   "metadata": {},
   "source": [
    "9. What are the two most important concepts to grasp in order to comprehend Python OOP code?\n",
    "\n",
    "    Two fundamental concepts to grasp in order to comprehend Python OOP code are:\n",
    "    - Classes and Objects\n",
    "    - Inheritance\n",
    "\n",
    "    Along with these 2, the important concepts to grasp are:\n",
    "    - Abstraction\n",
    "    - Polymorphism\n",
    "    - Encapsulation\n"
   ]
  }
 ],
 "metadata": {
  "kernelspec": {
   "display_name": "base",
   "language": "python",
   "name": "python3"
  },
  "language_info": {
   "codemirror_mode": {
    "name": "ipython",
    "version": 3
   },
   "file_extension": ".py",
   "mimetype": "text/x-python",
   "name": "python",
   "nbconvert_exporter": "python",
   "pygments_lexer": "ipython3",
   "version": "3.11.5"
  }
 },
 "nbformat": 4,
 "nbformat_minor": 2
}
