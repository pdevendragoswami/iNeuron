{
 "cells": [
  {
   "cell_type": "markdown",
   "metadata": {},
   "source": [
    "1. Compare and contrast the float and Decimal classes' benefits and drawbacks ?\n",
    "\n",
    "    - Both the float and Decimal classes store numerical values in Python.\n",
    "    \n",
    "    - Use floats when convenience and speed are priorities, as they provide a quick approximation of the declared number.\n",
    "\n",
    "    - Use decimals when precision is crucial. Although decimals can have precision issues, they are generally more precise than floats.\n",
    "\n",
    "    - While decimals may be slower in performance compared to floats, the precision benefits often outweigh this drawback, especially for applications where accuracy is paramount."
   ]
  },
  {
   "cell_type": "markdown",
   "metadata": {},
   "source": [
    "2. Decimal('1.200') and Decimal('1.2') are two objects to consider. In what sense are these the same object? Are these just two ways of representing the exact same value, or do they correspond to different internal states ?\n",
    "\n",
    "    Both Decimal('1.200') and Decimal('1.2') represent the same numerical value. However, they may have different internal representations. Decimal('1.200') maintains a precision of three decimal places, while Decimal('1.2') represents the number with one decimal place."
   ]
  },
  {
   "cell_type": "markdown",
   "metadata": {},
   "source": [
    "3. What happens if the equality of Decimal('1.200') and Decimal('1.2') is checked ?\n",
    "\n",
    "    When the equality of Decimal('1.200') and Decimal('1.2') is checked, the result is True. Despite the difference in precision (the number of decimal places), both values represent the same numerical quantity, so they are considered equal."
   ]
  },
  {
   "cell_type": "markdown",
   "metadata": {},
   "source": [
    "4. Why is it preferable to start a Decimal object with a string rather than a floating-point value ?\n",
    "\n",
    "    Starting a Decimal object with a string is preferred over using a floating-point value because converting a float to Decimal can introduce rounding errors. By initializing with a string, We ensure precise representation without potential loss of accuracy."
   ]
  },
  {
   "cell_type": "markdown",
   "metadata": {},
   "source": [
    "5. In an arithmetic phrase, how simple is it to combine Decimal objects with integers ?\n",
    "\n",
    "    We can combine Decimal objects with integers using the Decimal() constructor provided by the decimal module in Python.\n",
    "\n"
   ]
  },
  {
   "cell_type": "markdown",
   "metadata": {},
   "source": [
    "6. Can Decimal objects and floating-point values be combined easily ?\n",
    "\n",
    "    Yes, Decimal objects and floating-point values can be combined.\n",
    "\n",
    "    To achieve this, floating-point values should be converted to Decimal objects and vice versa and perform the required operations as per the requirement."
   ]
  },
  {
   "cell_type": "markdown",
   "metadata": {},
   "source": [
    "7. Using the Fraction class but not the Decimal class, give an example of a quantity that can be expressed with absolute precision ?\n",
    "\n",
    "    An example of a quantity that can be expressed with absolute precision using the Fraction class, but not the Decimal class, is the value 0.5, which can be represented as 1/2."
   ]
  },
  {
   "cell_type": "markdown",
   "metadata": {},
   "source": [
    "8. Consider the following two fraction objects: Fraction(1, 2) and Fraction(1, 2). (5, 10). Is the internal state of these two objects the same? Why do you think that is ?\n",
    "\n",
    "    No, the internal state of the two Fraction objects Fraction(1, 2) and Fraction(5, 10) is not the same, even though they represent the same value 1/2.\n",
    "\n",
    "    The internal state of the two Fraction objects is not the same due to normalization."
   ]
  },
  {
   "cell_type": "markdown",
   "metadata": {},
   "source": [
    "9. How do the Fraction class and the integer type (int) relate to each other? Containment or inheritance ?\n",
    "\n",
    "    The Fraction class and the integer type (int) are related through containment.\n",
    "    \n",
    "    Containment means that an instance of one class (Fraction) is stored within another class (int) as a component or attribute. Here, a Fraction object may contain integer values as its numerator and denominator."
   ]
  }
 ],
 "metadata": {
  "kernelspec": {
   "display_name": "base",
   "language": "python",
   "name": "python3"
  },
  "language_info": {
   "codemirror_mode": {
    "name": "ipython",
    "version": 3
   },
   "file_extension": ".py",
   "mimetype": "text/x-python",
   "name": "python",
   "nbconvert_exporter": "python",
   "pygments_lexer": "ipython3",
   "version": "3.11.5"
  }
 },
 "nbformat": 4,
 "nbformat_minor": 2
}
