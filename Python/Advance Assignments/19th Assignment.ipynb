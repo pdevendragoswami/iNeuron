{
 "cells": [
  {
   "cell_type": "markdown",
   "metadata": {},
   "source": [
    "1. Define the relationship between a class and its instances. Is it a one-to-one or a one-to-many partnership, for example?\n",
    "\n",
    "    The relationship between a class and its instances is actually a one-to-many relationship. This means that for every class definition, you can create multiple instances (objects) of that class. "
   ]
  },
  {
   "cell_type": "markdown",
   "metadata": {},
   "source": [
    "2. What kind of data is held only in an instance?\n",
    "\n",
    "    Instance objects contain instance variables, which are specific to that particular instance object.\n",
    "\n"
   ]
  },
  {
   "cell_type": "markdown",
   "metadata": {},
   "source": [
    "3. What kind of knowledge is stored in a class?\n",
    "\n",
    "    In a class, knowledge refers to the blueprint or structure that defines its data members and member functions. It acts as a template for creating instances (objects) that can access and utilize these attributes and behaviors defined within the class."
   ]
  },
  {
   "cell_type": "markdown",
   "metadata": {},
   "source": [
    "4. What exactly is a method, and how is it different from a regular function?\n",
    "\n",
    "    A method is a function that is defined within a class and is associated with instances of that class. It can access and manipulate the data (instance variables) of its associated instance. In contrast, a regular function is defined independently of any class and does not have access to or manipulate the data of any specific instance."
   ]
  },
  {
   "cell_type": "markdown",
   "metadata": {},
   "source": [
    "5. Is inheritance supported in Python, and if so, what is the syntax?\n",
    "\n",
    "    Yes, inheritance is supported in Python.There are various type of inheritance supported in Python like:\n",
    "    - Single Inheritance\n",
    "    - Multiple Inheritence\n",
    "    - Multilevel lInheritence\n",
    "    - Hybrid Inheritence\n",
    "    - Hierracial Inheritence"
   ]
  },
  {
   "cell_type": "code",
   "execution_count": 1,
   "metadata": {},
   "outputs": [],
   "source": [
    "class Person:\n",
    "    def __init__(self, fname, lname):\n",
    "        self.first_name = fname\n",
    "        self.last_name = lname\n",
    "\n",
    "class Student(Person):\n",
    "    pass"
   ]
  },
  {
   "cell_type": "markdown",
   "metadata": {},
   "source": [
    "6. How much encapsulation (making instance or class variables private) does Python support?\n",
    "\n",
    "    Encapsulation is process of binding the code and data into a single unit.Python supports encapsulation by allowing variables and methods to be hidden or restricted from direct access. This helps prevent accidental modification of data and encourages access through methods, promoting data integrity and security. Variables or methods starting with a single underscore (_) are considered protected, while those starting with double underscores (__) are treated as private."
   ]
  },
  {
   "cell_type": "markdown",
   "metadata": {},
   "source": [
    "7. How do you distinguish between a class variable and an instance variable?\n",
    "\n",
    "    - Class Attribute (Class Variable): It is available to all instance objects of that class. There's only one copy of the class attribute maintained by the Python Virtual Machine (PVM) at the class level.\n",
    "\n",
    "    - Instance Attribute (Instance Variable): It is accessible only to the specific object or instance of that class. Each instance maintains its own copy of instance attributes, managed by the PVM at the object/instance level."
   ]
  },
  {
   "cell_type": "markdown",
   "metadata": {},
   "source": [
    "8. When, if ever, can self be included in a class's method definitions?\n",
    "\n",
    "    Yes, self can be included in a class's method definitions to access instance variables and other methods within the class."
   ]
  },
  {
   "cell_type": "markdown",
   "metadata": {},
   "source": [
    "9. What is the difference between the __add__ and the __radd__ methods ?\n",
    "\n",
    "    The __add__ method is called when the object is on the left side of the + operator, while the __radd__ method is called when the object is on the right side of the + operator and the left operand does not support addition with the object.\n",
    "    \n",
    "    If the __add__ method returns NotImplemented, Python will then check if the right-hand operand implements __radd__, and if so, it will call __radd__ instead of raising a TypeError."
   ]
  },
  {
   "cell_type": "markdown",
   "metadata": {},
   "source": [
    "10. When is it necessary to use a reflection method? When do you not need it, even though you support the operation in question?\n",
    "\n",
    "    A reflection method is necessary when we need to access or manipulate methods or attributes of an object dynamically, especially when the method or attribute name cannot be determined until runtime.\n",
    "\n",
    "    We do not need to use reflection when the method or attribute name is known at compile time, as we can directly access them using regular syntax without the need for dynamic resolution."
   ]
  },
  {
   "cell_type": "markdown",
   "metadata": {},
   "source": [
    "11. What is the __iadd__ method called?\n",
    "\n",
    "- The __iadd__ method is called when we use the += operator, which is equivalent to calling a.__iadd__(b)."
   ]
  },
  {
   "cell_type": "markdown",
   "metadata": {},
   "source": [
    "12. Is the _ _init_ _ method inherited by subclasses? What do you do if you need to customize its behavior within a subclass ?\n",
    "\n",
    "    Yes, the _ _init_ _ method is inherited by subclasses. To customize its behavior within a subclass, we can use the super() method."
   ]
  }
 ],
 "metadata": {
  "kernelspec": {
   "display_name": "base",
   "language": "python",
   "name": "python3"
  },
  "language_info": {
   "codemirror_mode": {
    "name": "ipython",
    "version": 3
   },
   "file_extension": ".py",
   "mimetype": "text/x-python",
   "name": "python",
   "nbconvert_exporter": "python",
   "pygments_lexer": "ipython3",
   "version": "3.11.5"
  }
 },
 "nbformat": 4,
 "nbformat_minor": 2
}
