{
 "cells": [
  {
   "cell_type": "markdown",
   "metadata": {},
   "source": [
    "1. What is the concept of an abstract superclass?\n",
    "\n",
    "    An abstract superclass considered as a blueprint for other classes. It defines a set of methods that must be implemented by its subclasses. However, it cannot be instantiated directly; instead, it provides a structure and common behavior that subclasses inherit and build upon.\n",
    "\n",
    "    A class which contains one or more abstract methods is called an abstract class.\n",
    "\n",
    "    Whereas an abstract method is a method that has a declaration but does not have an implementation."
   ]
  },
  {
   "cell_type": "code",
   "execution_count": 1,
   "metadata": {},
   "outputs": [
    {
     "name": "stdout",
     "output_type": "stream",
     "text": [
      "I have 3 sides\n",
      "I have 5 sides\n"
     ]
    }
   ],
   "source": [
    "from abc import ABC, abstractmethod\n",
    "\n",
    "class Polygon(ABC): # Abstract Class\n",
    "    @abstractmethod\n",
    "    def no_of_sides(self): # Abstract Method\n",
    "        pass\n",
    "\n",
    "class Triangle(Polygon):\n",
    "    def no_of_sides(self):  # Overriding abstract method in child class Triangle\n",
    "        print(\"I have 3 sides\")\n",
    "\n",
    "class Pentagon(Polygon):\n",
    "    def no_of_sides(self): # Overriding abstract method in child class Pentagon\n",
    "        print(\"I have 5 sides\")\n",
    "\n",
    "# Creating instances of subclasses\n",
    "triangle = Triangle()\n",
    "pentagon = Pentagon()\n",
    "\n",
    "# Calling overridden methods\n",
    "triangle.no_of_sides()  # Output: I have 3 sides\n",
    "pentagon.no_of_sides()  # Output: I have 5 sides"
   ]
  },
  {
   "cell_type": "markdown",
   "metadata": {},
   "source": [
    "2. What happens when a class statement's top level contains a basic assignment statement?\n",
    "\n",
    "    When a class statement's top level contains a basic assignment statement, it typically defines a class attribute or class-level variable.\n",
    "\n",
    "    On the other hand, assignment statements inside methods of a class typically define instance attributes or local variables.\n",
    "\n",
    "    Class attributes are attributes that are associated with the class itself rather than with instances of the class. These attributes are accessible via the class name and are shared among all instances of the class."
   ]
  },
  {
   "cell_type": "code",
   "execution_count": 2,
   "metadata": {},
   "outputs": [
    {
     "name": "stdout",
     "output_type": "stream",
     "text": [
      "This is a class attribute\n"
     ]
    }
   ],
   "source": [
    "class MyClass:\n",
    "    class_attribute = \"This is a class attribute\"\n",
    "\n",
    "# Accessing class attribute\n",
    "print(MyClass.class_attribute)  # Output: This is a class attribute"
   ]
  },
  {
   "cell_type": "markdown",
   "metadata": {},
   "source": [
    "3. Why does a class need to manually call a superclass's init method?\n",
    "\n",
    "    When a child class defines its own __init__ method, it does not automatically call the __init__ method of the parent class. If the parent class has initialization logic that needs to be executed, the child class should explicitly call the parent class's __init__ method using super().__init__(). This ensures that both the parent class's initialization logic and the child class's initialization logic are executed correctly.\n"
   ]
  },
  {
   "cell_type": "code",
   "execution_count": 3,
   "metadata": {},
   "outputs": [
    {
     "name": "stdout",
     "output_type": "stream",
     "text": [
      "{'name': 'ABC', 'age': 23, 'salary': 10000}\n"
     ]
    }
   ],
   "source": [
    "class Person:\n",
    "    def __init__(self,name,age):\n",
    "        self.name = name\n",
    "        self.age = age       \n",
    "\n",
    "class Employee(Person):\n",
    "    def __init__(self,name,age,salary):\n",
    "        super().__init__(name,age)\n",
    "        self.salary = salary\n",
    "        \n",
    "emp_1 = Employee('ABC',23,10000)\n",
    "\n",
    "print(emp_1.__dict__)"
   ]
  },
  {
   "cell_type": "markdown",
   "metadata": {},
   "source": [
    "4. How can you augment, instead of completely replacing, an inherited method?\n",
    "\n",
    "    By using the super() method within the child class, we can augment, instead of completely replacing, an inherited method."
   ]
  },
  {
   "cell_type": "code",
   "execution_count": 4,
   "metadata": {},
   "outputs": [
    {
     "name": "stdout",
     "output_type": "stream",
     "text": [
      "{'name': 'ABC', 'age': 23, 'salary': 10000}\n"
     ]
    }
   ],
   "source": [
    "class Person:\n",
    "    def __init__(self,name,age):\n",
    "        self.name = name\n",
    "        self.age = age       \n",
    "\n",
    "class Employee(Person):\n",
    "    def __init__(self,name,age,salary):\n",
    "        super().__init__(name,age)\n",
    "        self.salary = salary\n",
    "        \n",
    "emp_1 = Employee('ABC',23,10000)\n",
    "\n",
    "print(emp_1.__dict__)"
   ]
  },
  {
   "cell_type": "markdown",
   "metadata": {},
   "source": [
    "5. How is the local scope of a class different from that of a function?\n",
    "\n",
    "    \"Local scope within a function refers to variables defined within the function itself. These variables are accessible from their point of definition until the function completes execution. They exist as long as the function is active.\n",
    "\n",
    "    Similarly, within a class, variables defined in the class body but outside of methods are known as class-level variables or class attributes. They possess a local scope within the class and can be referenced using their bare names within the same scope. Additionally, they can be accessed from outside the class scope by using the attribute access operator (.) on the class or an instance of the class.\""
   ]
  }
 ],
 "metadata": {
  "kernelspec": {
   "display_name": "base",
   "language": "python",
   "name": "python3"
  },
  "language_info": {
   "codemirror_mode": {
    "name": "ipython",
    "version": 3
   },
   "file_extension": ".py",
   "mimetype": "text/x-python",
   "name": "python",
   "nbconvert_exporter": "python",
   "pygments_lexer": "ipython3",
   "version": "3.11.5"
  }
 },
 "nbformat": 4,
 "nbformat_minor": 2
}
