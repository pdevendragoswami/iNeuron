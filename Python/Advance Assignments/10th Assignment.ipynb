{
 "cells": [
  {
   "cell_type": "markdown",
   "metadata": {},
   "source": [
    "1. What is the difference between __getattr__ and __getattribute__?\n",
    "\n",
    "    - __getattribute__ is used to find attributes of a class, and it raises an AttributeError if it fails to find the attribute.\n",
    "    \n",
    "    - On the other hand, __getattr__ is called only if __getattribute__ raises an AttributeError, and it serves as a fallback mechanism for accessing attributes that do not actually exist on the class.\n",
    "\n",
    "    - Both __getattribute__ and __getattr__  must be defined in same class. If no attribute is found, __getattr__ returns a default value. \n",
    "\n",
    "    - So main difference is that __getattr__ is called for attributes that don't actually exist on a class."
   ]
  },
  {
   "cell_type": "markdown",
   "metadata": {},
   "source": [
    "2. What is the difference between properties and descriptors?\n",
    "\n",
    "    - Properties are a built-in Python feature that allows us to define getter, setter, and deleter methods for class attributes while Descriptors are a more general-purpose mechanism for defining custom attribute access behavior in Python.\n",
    "    - Properties are created using the property() function or by using the @property, @<property_name>.setter, and @<property_name>.deleter decorators while descriptors are implemented by defining classes with __get__, __set__, and __delete__ methods, collectively known as the descriptor protocol.\n",
    "    - Properties provide a way to encapsulate attribute access and define computed attributes with custom behavior while Descriptors can be used to define reusable components for attribute access logic and are not tied to a specific class or attribute."
   ]
  },
  {
   "cell_type": "markdown",
   "metadata": {},
   "source": [
    "3. What are the key differences in functionality between getattr and getattribute, as well as properties and descriptors?\n",
    "\n",
    "    The key differences in functionality between `__getattr__`, `__getattribute__`, properties, and descriptors are as follows:\n",
    "\n",
    "   1. __getattr__: \n",
    "      - Python invokes this method whenever you request an attribute that hasn't already been defined.\n",
    "      - It serves as a fallback mechanism for accessing undefined attributes.\n",
    "\n",
    "   2. __getattribute__: \n",
    "      - This method is invoked before looking at the actual attributes on the object.\n",
    "      - If present, Python invokes `__getattribute__` for every attribute access, regardless of whether the attribute exists or not.\n",
    "      - It allows for customizing attribute access behavior at a lower level.\n",
    "\n",
    "   3. Properties: \n",
    "      - Properties allow you to bind getter, setter, and deleter functions to an attribute name using the `property()` function or the `@property` decorator.\n",
    "      - They provide a convenient way to encapsulate attribute access and define computed attributes with custom behavior.\n",
    "      - Properties are used to manage attribute access within a class, ensuring controlled access to class attributes.\n",
    "\n",
    "   4. Descriptors: \n",
    "      - Descriptors enable you to bind getter, setter, and deleter functions into a separate descriptor class.\n",
    "      - You then assign an instance of this descriptor class to the attribute name in your main class.\n",
    "      - Descriptors offer more flexibility than properties and can be reused across multiple classes.\n",
    "      - They are commonly used for implementing advanced attribute management, such as lazy loading, data validation, or proxying attribute access.\n",
    "\n",
    "      In summary, while `__getattr__` and `__getattribute__` are methods for customizing attribute access behavior within a class, properties and descriptors provide higher-level constructs for achieving similar goals with more flexibility and reusability."
   ]
  }
 ],
 "metadata": {
  "language_info": {
   "name": "python"
  }
 },
 "nbformat": 4,
 "nbformat_minor": 2
}
