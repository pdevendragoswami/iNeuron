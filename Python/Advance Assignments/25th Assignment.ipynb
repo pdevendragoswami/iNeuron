{
 "cells": [
  {
   "cell_type": "markdown",
   "metadata": {},
   "source": [
    "1. What is the distinction between a numpy array and a pandas data frame? Is there a way to convert between the two if there is ?\n",
    "\n",
    "   - Numpy Array:-\n",
    "      - Numpy arrays are homogeneous collections of elements, all of the same data type.\n",
    "\n",
    "      - Numpy arrays provide support for mathematical operations and array-oriented computing.\n",
    "\n",
    "      - Numpy arrays are indexed by a tuple of non-negative integers.\n",
    "\n",
    "      - Numpy arrays are more efficient for numerical operations and are suitable for mathematical computations.\n",
    "     \n",
    "   - Pandas DataFrame:-\n",
    "      - Pandas DataFrames are heterogeneous tabular data structures with labeled axes (rows and columns). Each column in a DataFrame can have a different data type.\n",
    "\n",
    "      - Pandas DataFrames offer more high-level data manipulation tools, such as indexing, merging, grouping, and time-series functionality.\n",
    "\n",
    "      - Pandas DataFrames can be indexed by row labels, column labels, or a combination of both.\n",
    "\n",
    "      - Pandas DataFrames are more flexible for data analysis tasks, especially when dealing with heterogeneous data and labeled axes.\n",
    "\n",
    "   To convert a Numpy array to a Pandas DataFrame, we use the pd.DataFrame().\n",
    "\n",
    "      - Dataframe=pandas.DataFrame(array)\n",
    "\n",
    "\n",
    "   To convert a Pandas DataFrame to a Numpy array, use the .values.\n",
    "   \n",
    "      - arr = Dataframes.values\n",
    "\n"
   ]
  },
  {
   "cell_type": "markdown",
   "metadata": {
    "vscode": {
     "languageId": "plaintext"
    }
   },
   "source": [
    "2. What can go wrong when an user enters in a stock-ticker symbol, and how do you handle it?\n",
    "\n",
    "    When users enter stock ticker symbols, issues like invalid symbols, missing data, or symbol changes can occur.\n",
    "    \n",
    "    To handle this:\n",
    "    - Validate input to ensure correctness.\n",
    "    - Implement error handling for missing or invalid data.\n",
    "    - Offer symbol lookup for guidance.\n",
    "    - Maintain a backup data source.\n",
    "    - Provide clear instructions for entering symbols."
   ]
  },
  {
   "cell_type": "markdown",
   "metadata": {},
   "source": [
    "3. Identify some of the plotting techniques that are used to produce a stock-market chart ?\n",
    "\n",
    "    Candlestick chart, Line chart, and OHLC (Open, High, Low, Close) chart are commonly used for stock market visualization."
   ]
  },
  {
   "cell_type": "markdown",
   "metadata": {},
   "source": [
    "4. Why is it essential to print a legend on a stock market chart ?\n",
    "\n",
    "    A legend is essential on a stock market chart to identify and differentiate between various stocks or data series being plotted, facilitating comparison and analysis."
   ]
  },
  {
   "cell_type": "markdown",
   "metadata": {},
   "source": [
    "5. What is the best way to limit the length of a pandas data frame to less than a year ?\n",
    "\n",
    "    To limit the length of a pandas DataFrame to less than a year, utilize the start and end parameters. Specify the start date to begin from and the end date to limit the duration. Additionally, adjust parameters such as periods to define the duration and frequency to specify data frequency within this timeframe."
   ]
  },
  {
   "cell_type": "markdown",
   "metadata": {},
   "source": [
    "6. What is the definition of a 180-day moving average ?\n",
    "\n",
    "    The 180-day moving average is a line on charts that represents the average price over the past 180 days.It assists traders in assessing trends, discerning potential support or resistance zones, and gaining insights into the direction of the trend."
   ]
  },
  {
   "cell_type": "markdown",
   "metadata": {},
   "source": [
    "7. Did the chapter's final example use \"indirect\" importing? If so, how exactly do you do it?\n",
    "\n",
    "    Indirect importing, or nested importing, involves importing a module within a function or method using the import statement. This way, the module is only loaded when the function is called, allowing for better resource management and namespace control."
   ]
  }
 ],
 "metadata": {
  "language_info": {
   "name": "python"
  }
 },
 "nbformat": 4,
 "nbformat_minor": 2
}
