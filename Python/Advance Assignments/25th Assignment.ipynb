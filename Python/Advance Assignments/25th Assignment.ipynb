{
 "cells": [
  {
   "cell_type": "markdown",
   "metadata": {},
   "source": [
    "Q1. What is the distinction between a numpy array and a pandas data frame? Is there a way to convert between the two if there is ?\n",
    "\n",
    "\n",
    "Ans: Numpy Ndarray provides a lot of convenient and optimized methods for performing several mathematical operations on vectors.\n",
    "\n",
    "Pandas Dataframe is an in-memory 2-dimensional tabular representation of data. In simpler words, it can be seen as a spreadsheet having rows and columns.\n",
    "\n",
    "Conversion : \n",
    "\n",
    "Numpy arrays and Pandas DataFrames are both data structures used in Python for handling and manipulating data.\n",
    "\n",
    "1. **Structure**:\n",
    "   - Numpy arrays are homogeneous collections of elements, all of the same data type.\n",
    "   - Pandas DataFrames are heterogeneous tabular data structures with labeled axes (rows and columns). Each column in a DataFrame can have a different data type.\n",
    "\n",
    "2. **Functionality**:\n",
    "   - Numpy arrays provide support for mathematical operations and array-oriented computing.\n",
    "   - Pandas DataFrames offer more high-level data manipulation tools, such as indexing, merging, grouping, and time-series functionality.\n",
    "\n",
    "3. **Indexing**:\n",
    "   - Numpy arrays are indexed by a tuple of non-negative integers.\n",
    "   - Pandas DataFrames can be indexed by row labels, column labels, or a combination of both.\n",
    "\n",
    "4. **Flexibility**:\n",
    "   - Numpy arrays are more efficient for numerical operations and are suitable for mathematical computations.\n",
    "   - Pandas DataFrames are more flexible for data analysis tasks, especially when dealing with heterogeneous data and labeled axes.\n",
    "\n",
    "To convert between a Numpy array and a Pandas DataFrame:\n",
    "\n",
    "- To convert a Numpy array to a Pandas DataFrame, you can use the `pd.DataFrame()` constructor, passing the Numpy array as an argument.\n",
    "\n",
    "Dataframe=pandas.DataFrame(array)\n",
    "\n",
    "\n",
    "- To convert a Pandas DataFrame to a Numpy array, you can use the `.values` attribute of the DataFrame.\n",
    "  \n",
    "  arr = Dataframes.values\n",
    "\n"
   ]
  },
  {
   "cell_type": "code",
   "execution_count": null,
   "metadata": {
    "vscode": {
     "languageId": "plaintext"
    }
   },
   "outputs": [],
   "source": [
    "Q2. What can go wrong when an user enters in a stock-ticker symbol, and how do you handle it?"
   ]
  },
  {
   "cell_type": "markdown",
   "metadata": {},
   "source": [
    "Q3. Identify some of the plotting techniques that are used to produce a stock-market chart ?\n",
    "Ans: Bar chart, Line Chart are used for plotting.\n",
    "\n"
   ]
  },
  {
   "cell_type": "markdown",
   "metadata": {},
   "source": [
    "Q4. Why is it essential to print a legend on a stock market chart ?\n",
    "Ans: Legend will help comparison between different stocks, so will be essential on a stock market chart\n",
    "\n"
   ]
  },
  {
   "cell_type": "markdown",
   "metadata": {},
   "source": [
    "Q5. What is the best way to limit the length of a pandas data frame to less than a year ?\n",
    "Ans: : We can use start and end parameters for that. In start we write the date from where we are starting and at the end we write the end date. SO within this span we can restric the duration.Also we can use the parameters like periods for how much times we need the duration and we can also use the frequency parameter.\n",
    "\n"
   ]
  },
  {
   "cell_type": "markdown",
   "metadata": {},
   "source": [
    "Q6. What is the definition of a 180-day moving average ?\n",
    "Ans: : The 180-day moving average is represented as a line on charts and represents the average price over the past 180 days. The moving average can give traders a sense regarding whether the trend is up or down, while also identifying potential support or resistance areas."
   ]
  },
  {
   "cell_type": "markdown",
   "metadata": {},
   "source": [
    "Q7. Did the chapter's final example use \"indirect\" importing? If so, how exactly do you do it?"
   ]
  }
 ],
 "metadata": {
  "language_info": {
   "name": "python"
  }
 },
 "nbformat": 4,
 "nbformat_minor": 2
}
