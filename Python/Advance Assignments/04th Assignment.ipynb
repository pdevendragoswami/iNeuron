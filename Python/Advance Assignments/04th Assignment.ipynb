{
 "cells": [
  {
   "cell_type": "markdown",
   "metadata": {},
   "source": [
    "1. Which two operator overloading methods can you use in your classes to support iteration?\n",
    "\n",
    "    `__iter__` and `__next__` are the operator overloading methods in python that support iteration and are collectively called iterator protocol.\n",
    "\n",
    "    `__iter__` returns the iterator object and is called at the start of loop in our respective class(when an iterator is requested for an object).\n",
    "\n",
    "    `__next__` is called to retrieve the next item from the iterator and return the next item in the sequence or raise a `StopIteration` exception when the iteration is complete."
   ]
  },
  {
   "cell_type": "markdown",
   "metadata": {},
   "source": [
    "2. In what contexts do the two operator overloading methods manage printing?\n",
    "\n",
    "    `__str__` and `__repr__` are two operator overloading methods that manage printing.\n",
    "    \n",
    "    `__str__` method is called when the `str()` function is used on an object or when the `print()` function is called with the object as an argument. It should return a string representation of the object.\n",
    "    \n",
    "    `__repr__` method is called when the `repr()` function is used on an object. It should return a string that represents a \"formal\" or \"official\" string representation of the object, which ideally should be a valid Python expression that could be used to recreate the object."
   ]
  },
  {
   "cell_type": "code",
   "execution_count": 1,
   "metadata": {},
   "outputs": [
    {
     "name": "stdout",
     "output_type": "stream",
     "text": [
      "MyClass instance with x=3 and y=5\n",
      "MyClass(3, 5)\n"
     ]
    }
   ],
   "source": [
    "class MyClass:\n",
    "    def __init__(self, x, y):\n",
    "        self.x = x\n",
    "        self.y = y\n",
    "    \n",
    "    def __str__(self):\n",
    "        return f\"MyClass instance with x={self.x} and y={self.y}\"\n",
    "    \n",
    "    def __repr__(self):\n",
    "        return f\"MyClass({self.x}, {self.y})\"\n",
    "\n",
    "# Creating an instance of MyClass\n",
    "obj = MyClass(3, 5)\n",
    "\n",
    "# Printing the object directly\n",
    "print(obj)\n",
    "\n",
    "# Using repr() function to get the official representation\n",
    "print(repr(obj))  # Calls __repr__"
   ]
  },
  {
   "cell_type": "markdown",
   "metadata": {},
   "source": [
    "3. In a class, how do you intercept slice operations?\n",
    "\n",
    "    To intercept slice operations in a class, we implement the __getitem__ method along with slice function.\n",
    "    \n",
    "    The `__getitem__` method allows objects of a class to be accessed using the square bracket notation ([]), and it can be used to customize behavior for different types of indexing, including slice operations."
   ]
  },
  {
   "cell_type": "markdown",
   "metadata": {},
   "source": [
    "4. In a class, how do you capture in-place addition?\n",
    "\n",
    "    a+b is normal addition Whereas a+=b is inplace addition operation.To capture in-place addition within a class, we define the __iadd__ method. This method is invoked when the += operator is used with instances of your class. It  store the value of addition in itself."
   ]
  },
  {
   "cell_type": "code",
   "execution_count": 2,
   "metadata": {},
   "outputs": [
    {
     "name": "stdout",
     "output_type": "stream",
     "text": [
      "8\n"
     ]
    }
   ],
   "source": [
    "class MyClass:\n",
    "    def __init__(self, value):\n",
    "        self.value = value\n",
    "\n",
    "    def __iadd__(self, other):\n",
    "        self.value += other\n",
    "        return self.value\n",
    "\n",
    "\n",
    "obj = MyClass(5)\n",
    "obj += 3\n",
    "print(obj)"
   ]
  },
  {
   "cell_type": "markdown",
   "metadata": {},
   "source": [
    "5. When is it appropriate to use operator overloading?\n",
    " \n",
    "    Operator overloading is used when we need to assign a different meaning to an operator than its default behavior within user-defined functions. This allows us to customize the behavior of operators to better fit the specific context of our classes and operations."
   ]
  },
  {
   "cell_type": "code",
   "execution_count": 3,
   "metadata": {},
   "outputs": [
    {
     "name": "stdout",
     "output_type": "stream",
     "text": [
      "Result: 4\n",
      "Result: HelloWorld\n"
     ]
    }
   ],
   "source": [
    "class Point:\n",
    "    def __init__(self, x):\n",
    "        self.x = x\n",
    "\n",
    "    # Overloading the addition operator\n",
    "    def __add__(self, other):\n",
    "        return self.x + other.x\n",
    "    \n",
    "point1 = Point(1)\n",
    "point2 = Point(3)\n",
    "point3 = Point('Hello')\n",
    "point4 = Point('World')\n",
    "\n",
    "\n",
    "result1 = point1 + point2\n",
    "result2 = point3 + point4\n",
    "print(\"Result:\", result1)\n",
    "print(\"Result:\", result2)"
   ]
  }
 ],
 "metadata": {
  "kernelspec": {
   "display_name": "base",
   "language": "python",
   "name": "python3"
  },
  "language_info": {
   "codemirror_mode": {
    "name": "ipython",
    "version": 3
   },
   "file_extension": ".py",
   "mimetype": "text/x-python",
   "name": "python",
   "nbconvert_exporter": "python",
   "pygments_lexer": "ipython3",
   "version": "3.11.5"
  }
 },
 "nbformat": 4,
 "nbformat_minor": 2
}
