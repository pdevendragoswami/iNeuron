{
 "cells": [
  {
   "cell_type": "markdown",
   "metadata": {},
   "source": [
    "1. If you have any, what are your choices for increasing the comparison between different figures on the same graph?\n",
    "\n",
    "    Matplotlib provides a convenient method called subplots for enhancing the comparison between different figures on the same graph. Subplots allow for the creation of a group of smaller axes, where each axis represents a plot, within a single figure."
   ]
  },
  {
   "cell_type": "markdown",
   "metadata": {},
   "source": [
    "2. Can you explain the benefit of compound interest over a higher rate of interest that does not compound after reading this chapter?\n",
    "\n",
    "    Compound interest enables money to grow at a faster rate compared to simple interest. This is because, with compound interest, you not only earn returns on the initial investment but also on the accumulated returns at the end of each compounding period, whether it's daily, monthly, quarterly, or annually. This compounding effect results in accelerated growth of the investment over time."
   ]
  },
  {
   "cell_type": "markdown",
   "metadata": {},
   "source": [
    "3. What is a histogram, exactly? Name a numpy method for creating such a graph ?\n",
    "\n",
    "    A histogram is a graphical representation that displays the distribution of numerical data by dividing it into intervals or bins and counting the frequency of observations falling into each bin. Each bar in the histogram represents the count or frequency of data points within a particular range.\n",
    "\n",
    "    The numpy method used for creating a histogram is numpy.histogram()."
   ]
  },
  {
   "cell_type": "markdown",
   "metadata": {},
   "source": [
    "4. If necessary, how do you change the aspect ratios between the X and Y axes ?\n",
    "\n",
    "    To change the aspect ratios between the X and Y axes, we can adjust the figure size using the figure(figsize=(width, height)) function provided by the matplotlib.pyplot library."
   ]
  },
  {
   "cell_type": "markdown",
   "metadata": {},
   "source": [
    "5. Compare and contrast the three types of array multiplication between two numpy arrays: dot product, outer product, and regular multiplication of two numpy arrays ?\n",
    "\n",
    "    Regular multiplication of two NumPy arrays involves multiplying corresponding elements of the arrays together.\n",
    "\n",
    "    Dot product involves matrix multiplication, where rows of one array are multiplied by columns of the second array, resulting in a new array with dimensions based on the shapes of the original arrays.\n",
    "\n",
    "    Outer product computes the outer product of two arrays, where every element of the first array is multiplied by every element of the second array, resulting in a new array with dimensions equal to the product of the sizes of the two input arrays."
   ]
  },
  {
   "cell_type": "markdown",
   "metadata": {},
   "source": [
    "6. Before you buy a home, which numpy function will you use to measure your monthly mortgage payment ?\n",
    "\n",
    "    Before purchasing a home, we can use the numpy function np.pmt(rate, nper, pv) to calculate your monthly mortgage payment.\n",
    "    Here,\n",
    "    - rate represents the periodic interest rate,\n",
    "    - nper denotes the number of payment periods, and\n",
    "    - pv indicates the total value of the mortgage loan."
   ]
  },
  {
   "cell_type": "markdown",
   "metadata": {},
   "source": [
    "7. Can string data be stored in numpy arrays? If so, list at least one restriction that applies to this data ?\n",
    "\n",
    "    Yes, string data can be stored in numpy arrays. However, one restriction is that the length of each string should be consistent throughout the array. This means that the maximum length of any string in the array determines the overall size of the string data type for the entire array. "
   ]
  }
 ],
 "metadata": {
  "language_info": {
   "name": "python"
  }
 },
 "nbformat": 4,
 "nbformat_minor": 2
}
