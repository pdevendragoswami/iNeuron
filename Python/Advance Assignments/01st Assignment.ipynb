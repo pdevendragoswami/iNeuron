{
 "cells": [
  {
   "cell_type": "markdown",
   "metadata": {},
   "source": [
    "1. What is the purpose of Python's OOP?\n",
    "\n",
    "    Object-oriented programming is a type of programming which is bases on objects.\n",
    "    - It follows bottom up approach.\n",
    "    - It implement real-world entities like inheritance, polymorphisms, encapsulation, etc.\n",
    "    - It wrap the data and the functions that work on that together as a single unit.\n",
    "    - It helps us top divide the big code into small program.\n",
    "    - The code can be reused, therefore it reduce the redundancy."
   ]
  },
  {
   "cell_type": "markdown",
   "metadata": {},
   "source": [
    "2. Where does an inheritance search look for an attribute?\n",
    "\n",
    "    An inheritance search for an attribute follows a specific pattern:\n",
    "\n",
    "    - Initially, Python looks for the attribute within the instance itself.\n",
    "    - If the attribute isn't found in the instance, Python proceeds to search within the class from which the instance was created.\n",
    "    - Next, Python searches in the superclass or superclasses, following the class hierarchy specified in the class header.\n",
    "    - If the attribute remains unfound after traversing through the superclass chain, Python finally looks into the built-in object class, which serves as the ultimate base class for all Python objects."
   ]
  },
  {
   "cell_type": "markdown",
   "metadata": {},
   "source": [
    "3. How do you distinguish between a class object and an instance object?\n",
    "\n",
    "    We can distinguish between a class object and an instance object as follows:\n",
    "\n",
    "   Class Object:\n",
    "   - A class object is created when the class itself is defined.\n",
    "   - It represents the class definition and contains attributes and methods that are common to all instances of the class.\n",
    "   - Class objects can be used to access class-level variables and methods but cannot access instance-specific data.\n",
    "\n",
    "\n",
    "   Instance Object:\n",
    "   - An instance object, also known as an instance, is created when the class is instantiated or when you create an object of the class.\n",
    "   - It represents a specific occurrence of the class and has its own unique attributes and methods.\n",
    "   - Instance objects can access both class-level variables/methods and instance-specific data.\n",
    "\n",
    "\n",
    "\n"
   ]
  },
  {
   "cell_type": "markdown",
   "metadata": {},
   "source": [
    "4. What makes the first argument in a class’s method function special?\n",
    "\n",
    "    There are 3 types of methods in class.\n",
    "    - instance method(object level methods)\n",
    "    - class method(class level methods)\n",
    "    - static method(utility level methods)\n",
    "\n",
    "    In instance method, self is the first argument which refers to the object itself.\n",
    "    In class method, cls is the first arugment which refers to the class itself."
   ]
  },
  {
   "cell_type": "markdown",
   "metadata": {},
   "source": [
    "5. What is the purpose of the init method?\n",
    "\n",
    "    It is also known as constructur and used to initilize the instance of the class.It automatically invoked when an instance of a class is created.Its primary purpose is to initialize the attributes of the class instance."
   ]
  },
  {
   "cell_type": "markdown",
   "metadata": {},
   "source": [
    "6. What is the process for creating a class instance?\n",
    "    \n",
    "    To create a class instance, we call the class by its name and pass the arguments to the class, which is defined inside init method."
   ]
  },
  {
   "cell_type": "code",
   "execution_count": 1,
   "metadata": {},
   "outputs": [],
   "source": [
    "class Car:\n",
    "    def __init__(self, make, model, year):\n",
    "        self.make = make\n",
    "        self.model = model\n",
    "        self.year = year\n",
    "\n",
    "# Creating an instance of the Car class\n",
    "my_car = Car(\"Toyota\", \"Camry\", 2020)"
   ]
  },
  {
   "cell_type": "markdown",
   "metadata": {},
   "source": [
    "7. What is the process for creating a class?\n",
    "\n",
    "    class keyword is used to created a class in python.\n",
    "\n",
    "    The syntax to create a class in python is class <classname>:\n",
    "\n",
    "    Example: class Car: ➞ this creates a class called Car"
   ]
  },
  {
   "cell_type": "markdown",
   "metadata": {},
   "source": [
    "8. How would you define the superclasses of a class?\n",
    "\n",
    "    The superclasses of a class are the classes from which the current class inherits attributes and methods"
   ]
  },
  {
   "cell_type": "code",
   "execution_count": 2,
   "metadata": {},
   "outputs": [
    {
     "name": "stdout",
     "output_type": "stream",
     "text": [
      "Animal speaks\n",
      "Dog barks\n"
     ]
    }
   ],
   "source": [
    "class Animal:\n",
    "    def speak(self):\n",
    "        print(\"Animal speaks\")\n",
    "\n",
    "class Dog(Animal):  # Dog class inherits from Animal class\n",
    "    def bark(self):\n",
    "        print(\"Dog barks\")\n",
    "\n",
    "# Dog class inherits the speak method from Animal class\n",
    "dog = Dog()\n",
    "dog.speak()\n",
    "dog.bark() "
   ]
  }
 ],
 "metadata": {
  "kernelspec": {
   "display_name": "base",
   "language": "python",
   "name": "python3"
  },
  "language_info": {
   "codemirror_mode": {
    "name": "ipython",
    "version": 3
   },
   "file_extension": ".py",
   "mimetype": "text/x-python",
   "name": "python",
   "nbconvert_exporter": "python",
   "pygments_lexer": "ipython3",
   "version": "3.11.5"
  }
 },
 "nbformat": 4,
 "nbformat_minor": 2
}
