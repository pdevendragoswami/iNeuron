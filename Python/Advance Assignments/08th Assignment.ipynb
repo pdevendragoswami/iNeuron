{
 "cells": [
  {
   "cell_type": "code",
   "execution_count": null,
   "metadata": {},
   "outputs": [],
   "source": []
  },
  {
   "cell_type": "markdown",
   "metadata": {},
   "source": [
    "1. What are the two latest user-defined exception constraints in Python 3.X?\n",
    "Ans: raise and assert are the two latest user-defined exception constraints in Python 3.X\n",
    "\n"
   ]
  },
  {
   "cell_type": "markdown",
   "metadata": {},
   "source": [
    "Q2. How are class-based exceptions that have been raised matched to handlers?\n",
    "Ans: In python, Users can define custom exceptions by creating a new class. This exception class has to be derived, either directly or indirectly from built-in Exception class. This new exception class like other exceptions can be raised using the raise statement with an optional error message.\n",
    "\n",
    "class ToYoungException(Exception):\n",
    "    def __init__(self,msg):\n",
    "        self.msg = msg\n",
    "age = 12\n",
    "if age <= 18: raise ToYoungException('To Young For Voting')\n",
    "---------------------------------------------------------------------------\n",
    "ToYoungException                          Traceback (most recent call last)\n",
    "<ipython-input-1-b97f009151c8> in <module>()\n",
    "      3         self.msg = msg\n",
    "      4 age = 12\n",
    "----> 5 if age <= 18: raise ToYoungException('To Young For Voting')\n",
    "\n",
    "ToYoungException: To Young For Voting\n"
   ]
  },
  {
   "cell_type": "markdown",
   "metadata": {},
   "source": [
    "Q3. Describe two methods for attaching context information to exception artefacts ?\n",
    "Ans: The process() method of LoggerAdapter is where the contextual information is added to the logging output. its passes the message and keyword arguments of the logging call, and it passes back modified versions of these to use in the call to the underlying logger.\n",
    "\n",
    "Other method that can be used is exception(), Logs a messgae with level ERROR on this logger. The arguments are interpreted as for debug(). Exception info is added to the logging message.\n",
    "\n"
   ]
  },
  {
   "cell_type": "markdown",
   "metadata": {},
   "source": [
    "Q4. Describe two methods for specifying the text of an exception object's error message ?\n",
    "Ans: raise and assert are two methods for specifying the text of an exception object's error message.raise statement is used to trigger explicit exception, if certain condition is not as per requirement of programmer. it helps in triggering exception as per need of programmer and logic.\n",
    "\n",
    "There are few assertions that programmer always want to be True to avoid code failure. This type of requirment is fullfilled by assert statement. This statement takes a Boolean Condition output of which if True, further program executes. if output of assert statement is False it raises an Assertion Error.\n",
    "\n"
   ]
  },
  {
   "cell_type": "markdown",
   "metadata": {},
   "source": [
    "Q5. Why do you no longer use string-based exceptions?\n",
    "Ans: String-based Exceptions doesn't inherit from Exceptions. so plain exceptions catch all exceptions and not only system."
   ]
  },
  {
   "cell_type": "markdown",
   "metadata": {},
   "source": []
  }
 ],
 "metadata": {
  "language_info": {
   "name": "python"
  }
 },
 "nbformat": 4,
 "nbformat_minor": 2
}
