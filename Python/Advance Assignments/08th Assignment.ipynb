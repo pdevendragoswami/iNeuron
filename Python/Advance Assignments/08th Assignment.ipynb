{
 "cells": [
  {
   "cell_type": "markdown",
   "metadata": {},
   "source": [
    "1. What are the two latest user-defined exception constraints in Python 3.X?\n",
    "\n",
    "    raise and assert are the two latest user-defined exception constraints in Python 3.X"
   ]
  },
  {
   "cell_type": "markdown",
   "metadata": {},
   "source": [
    "2. How are class-based exceptions that have been raised matched to handlers?\n",
    "\n",
    "    When an exception is raised in Python, the interpreter looks for an exception handler to handle it. Class-based exceptions are matched to handlers based on their inheritance hierarchy. If an exception class is derived from another exception class, handlers for the base class will also handle exceptions of the derived class. This means that if an exception handler is defined for a base class, it will also handle exceptions of any derived classes."
   ]
  },
  {
   "cell_type": "code",
   "execution_count": 1,
   "metadata": {},
   "outputs": [
    {
     "ename": "TooYoungException",
     "evalue": "Too Young For Voting",
     "output_type": "error",
     "traceback": [
      "\u001b[1;31m---------------------------------------------------------------------------\u001b[0m",
      "\u001b[1;31mTooYoungException\u001b[0m                         Traceback (most recent call last)",
      "Cell \u001b[1;32mIn[1], line 8\u001b[0m\n\u001b[0;32m      5\u001b[0m age \u001b[38;5;241m=\u001b[39m \u001b[38;5;241m12\u001b[39m\n\u001b[0;32m      7\u001b[0m \u001b[38;5;28;01mif\u001b[39;00m age \u001b[38;5;241m<\u001b[39m\u001b[38;5;241m=\u001b[39m \u001b[38;5;241m18\u001b[39m:\n\u001b[1;32m----> 8\u001b[0m     \u001b[38;5;28;01mraise\u001b[39;00m TooYoungException(\u001b[38;5;124m'\u001b[39m\u001b[38;5;124mToo Young For Voting\u001b[39m\u001b[38;5;124m'\u001b[39m)\n",
      "\u001b[1;31mTooYoungException\u001b[0m: Too Young For Voting"
     ]
    }
   ],
   "source": [
    "class TooYoungException(Exception):\n",
    "    def __init__(self, msg):\n",
    "        super().__init__(msg)\n",
    "\n",
    "age = 12\n",
    "\n",
    "if age <= 18:\n",
    "    raise TooYoungException('Too Young For Voting')"
   ]
  },
  {
   "cell_type": "markdown",
   "metadata": {},
   "source": [
    "3. Describe two methods for attaching context information to exception artefacts ?\n",
    "\n",
    "    The first method for attaching context information to exception artifacts is by using the process() method of LoggerAdapter. This method adds contextual information to the logging output by modifying the message and keyword arguments of the logging call before passing them to the underlying logger.\n",
    "\n",
    "    Another method is using the exception() method, which logs a message with level ERROR. Similar to other logging methods, it accepts message and additional arguments. When used in exception handling, it automatically adds exception information to the logging message, providing context about the error."
   ]
  },
  {
   "cell_type": "markdown",
   "metadata": {},
   "source": [
    "4. Describe two methods for specifying the text of an exception object's error message ?\n",
    "\n",
    "    raise and assert are two methods for specifying the text of an exception object's error message.\n",
    "\n",
    "    - The raise statement allows explicit raising of exceptions with custom error messages. It enables programmers to trigger exceptions based on specific conditions or requirements. By providing the exception type and a descriptive error message, the raise statement helps communicate the reason for the exception.\n",
    "    \n",
    "    - The assert statement verifies conditions that programmers expect to be true. If the condition provided to the assert statement evaluates to True, the program continues execution normally. However, if the condition evaluates to False, an AssertionError is raised with an optional error message. This allows programmers to specify the text of the error message associated with the failed assertion, providing clarity on the cause of the assertion failure.\n",
    "\n"
   ]
  },
  {
   "cell_type": "markdown",
   "metadata": {},
   "source": [
    "5. Why do you no longer use string-based exceptions?\n",
    "\n",
    "    String-based exceptions are no longer used because they do not inherit from the Exception class in Python. As a result, plain exception handlers catch all exceptions, not just system exceptions."
   ]
  }
 ],
 "metadata": {
  "kernelspec": {
   "display_name": "base",
   "language": "python",
   "name": "python3"
  },
  "language_info": {
   "codemirror_mode": {
    "name": "ipython",
    "version": 3
   },
   "file_extension": ".py",
   "mimetype": "text/x-python",
   "name": "python",
   "nbconvert_exporter": "python",
   "pygments_lexer": "ipython3",
   "version": "3.11.5"
  }
 },
 "nbformat": 4,
 "nbformat_minor": 2
}
