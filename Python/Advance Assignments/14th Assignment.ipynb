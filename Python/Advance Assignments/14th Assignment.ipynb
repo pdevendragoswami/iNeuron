{
 "cells": [
  {
   "cell_type": "markdown",
   "metadata": {},
   "source": [
    "1. Is an assignment operator like += only for show? Is it possible that it would lead to faster results at the runtime ?\n",
    "\n",
    "    The += operator is not just for show; it can lead to faster results at runtime compared to using the + operator for assignment.\n",
    "\n",
    "    A += 1 is more efficient because A += 1 is optimized internally. It directly increments the value of A without creating a new object, whereas A = A + 1 involves creating a new object (resulting from the addition operation) and then assigning it back to A, which can be less efficient."
   ]
  },
  {
   "cell_type": "markdown",
   "metadata": {},
   "source": [
    "2. What is the smallest no of statements you'd have to write in most programming languages to replace the \n",
    "\n",
    "    The smallest number of statements required to replace the expression a, b = a + b, a would typically be 4.\n",
    "    \n",
    "    Two statements for assigning initial values to variables a and b, and two statements for reassignment, i.e., a = a + b and b = a."
   ]
  },
  {
   "cell_type": "markdown",
   "metadata": {},
   "source": [
    "3. In Python, what is the most effective way to set a list of 100 integers to 0?\n",
    "\n",
    "    We can efficiently set a list of 100 integers to 0 in Python using either the repetition operator (*) or list comprehension."
   ]
  },
  {
   "cell_type": "code",
   "execution_count": 1,
   "metadata": {},
   "outputs": [
    {
     "name": "stdout",
     "output_type": "stream",
     "text": [
      "[0, 0, 0, 0, 0, 0, 0, 0, 0, 0, 0, 0, 0, 0, 0, 0, 0, 0, 0, 0, 0, 0, 0, 0, 0, 0, 0, 0, 0, 0, 0, 0, 0, 0, 0, 0, 0, 0, 0, 0, 0, 0, 0, 0, 0, 0, 0, 0, 0, 0, 0, 0, 0, 0, 0, 0, 0, 0, 0, 0, 0, 0, 0, 0, 0, 0, 0, 0, 0, 0, 0, 0, 0, 0, 0, 0, 0, 0, 0, 0, 0, 0, 0, 0, 0, 0, 0, 0, 0, 0, 0, 0, 0, 0, 0, 0, 0, 0, 0, 0]\n",
      "[0, 0, 0, 0, 0, 0, 0, 0, 0, 0, 0, 0, 0, 0, 0, 0, 0, 0, 0, 0, 0, 0, 0, 0, 0, 0, 0, 0, 0, 0, 0, 0, 0, 0, 0, 0, 0, 0, 0, 0, 0, 0, 0, 0, 0, 0, 0, 0, 0, 0, 0, 0, 0, 0, 0, 0, 0, 0, 0, 0, 0, 0, 0, 0, 0, 0, 0, 0, 0, 0, 0, 0, 0, 0, 0, 0, 0, 0, 0, 0, 0, 0, 0, 0, 0, 0, 0, 0, 0, 0, 0, 0, 0, 0, 0, 0, 0, 0, 0, 0]\n"
     ]
    }
   ],
   "source": [
    "# Method 1: Using the repetition operator\n",
    "list_zero = [0] * 100\n",
    "print(list_zero)\n",
    "\n",
    "# Method 2: Using list comprehension\n",
    "zero_list = [0 for _ in range(100)]\n",
    "print(zero_list)"
   ]
  },
  {
   "cell_type": "markdown",
   "metadata": {},
   "source": [
    "4. What is the most effective way to initialise a list of 99 integers that repeats the sequence 1, 2, 3? S If necessary, show step-by-step instructions on how to accomplish this.\n",
    "\n",
    "    The most effective way to initialize a list of 99 integers that repeats the sequence 1, 2, 3 is to use list comprehension."
   ]
  },
  {
   "cell_type": "code",
   "execution_count": 2,
   "metadata": {},
   "outputs": [
    {
     "name": "stdout",
     "output_type": "stream",
     "text": [
      "[1, 2, 3, 1, 2, 3, 1, 2, 3, 1, 2, 3, 1, 2, 3, 1, 2, 3, 1, 2, 3, 1, 2, 3, 1, 2, 3, 1, 2, 3, 1, 2, 3, 1, 2, 3, 1, 2, 3, 1, 2, 3, 1, 2, 3, 1, 2, 3, 1, 2, 3, 1, 2, 3, 1, 2, 3, 1, 2, 3, 1, 2, 3, 1, 2, 3, 1, 2, 3, 1, 2, 3, 1, 2, 3, 1, 2, 3, 1, 2, 3, 1, 2, 3, 1, 2, 3, 1, 2, 3, 1, 2, 3, 1, 2, 3, 1, 2, 3]\n"
     ]
    }
   ],
   "source": [
    "my_list = [1, 2, 3] * 33  # Repeat the sequence 33 times to get 99 integers\n",
    "print(my_list)"
   ]
  },
  {
   "cell_type": "markdown",
   "metadata": {},
   "source": [
    "5. If you're using IDLE to run a Python application, explain how to print a multidimensional list as efficiently?\n",
    "\n",
    "    To print a multidimensional list efficiently in IDLE, we can directly iterate through each sublist and print its elements using a single loop, along with the join() method to concatenate the elements of each sublist."
   ]
  },
  {
   "cell_type": "code",
   "execution_count": 3,
   "metadata": {},
   "outputs": [
    {
     "name": "stdout",
     "output_type": "stream",
     "text": [
      "1 1 2 2 3 3 4 4 5 5 "
     ]
    }
   ],
   "source": [
    "my_list = [[1, 1], [2, 2], [3, 3], [4, 4], [5, 5]]  # 2 dimensional List\n",
    "\n",
    "# Using a single loop and join method for efficient printing\n",
    "for sublist in my_list:\n",
    "    print(' '.join(map(str, sublist)), end=\" \")"
   ]
  },
  {
   "cell_type": "markdown",
   "metadata": {},
   "source": [
    "6. Is it possible to use list comprehension with a string? If so, how can you go about doing it?\n",
    "\n",
    "    Yes, it is possible to use list comprehension with a string in Python. "
   ]
  },
  {
   "cell_type": "code",
   "execution_count": 4,
   "metadata": {},
   "outputs": [
    {
     "name": "stdout",
     "output_type": "stream",
     "text": [
      "['i', 'N', 'e', 'u', 'r', 'o', 'n']\n"
     ]
    }
   ],
   "source": [
    "# Using list comprehension with a string\n",
    "my_list = [char for char in 'iNeuron']\n",
    "print(my_list)"
   ]
  },
  {
   "cell_type": "markdown",
   "metadata": {},
   "source": [
    "7. From the command line, how do you get support with a user-written Python programme? Is this possible from inside IDLE?\n",
    "\n",
    "    To obtain support for a user-written Python program from the command line, follow these steps:\n",
    "\n",
    "    - Open a command prompt (Windows) or terminal window (Linux/Mac).\n",
    "    - Navigate to the directory where your Python program is located, using the cd command.\n",
    "    - Once in the correct directory, execute the Python program by typing python filename.py, where filename.py is the name of your Python script.\n",
    "\n",
    "    Regarding getting support for a user-written Python program from IDLE:\n",
    "\n",
    "    - Open IDLE, the Python Integrated Development and Learning Environment.\n",
    "    - Create a new script file by selecting File → New File from the menu.\n",
    "    - Write or paste your Python code into the new file.\n",
    "    - Save the file with a .py extension using File → Save or File → Save As...\n",
    "    - Run the script by selecting Run → Run Module from the menu.\n",
    "    - View the output in the interactive Python shell within IDLE."
   ]
  },
  {
   "cell_type": "markdown",
   "metadata": {},
   "source": [
    "8. Functions are said to be “first-class objects” in Python but not in most other languages, such as C++ or Java. What can you do in Python with a function (callable object) that you can't do in C or C++?\n",
    "\n",
    "    Functions are first-class objects in python, which allow us to:\n",
    "    \n",
    "    - Assign functions to variables.\n",
    "    - Pass functions as arguments to other functions.\n",
    "    - Return functions from other functions.\n",
    "    - Store functions in data structures like lists, dictionaries, and sets.\n"
   ]
  },
  {
   "cell_type": "markdown",
   "metadata": {},
   "source": [
    "9. How do you distinguish between a wrapper, a wrapped feature, and a decorator?\n",
    "\n",
    "    A decorator is a function that takes another function as an argument, adds some functionality to it, and then returns the modified function.\n",
    "\n",
    "    The function being modified is known as the wrapped feature.\n",
    "    \n",
    "    While the function that adds the functionality is called the wrapper.So, the wrapper is the function that decorates or enhances the wrapped feature."
   ]
  },
  {
   "cell_type": "markdown",
   "metadata": {},
   "source": [
    "10. If a function is a generator function, what does it return?\n",
    "\n",
    "    If a function is a generator function, it returns a lazy iterator. Unlike regular functions that generate and store all values in memory at once, generator functions use the yield keyword to produce values on-the-fly as they are requested. This lazy evaluation allows for efficient memory usage, particularly with large datasets, as the values are generated dynamically and not stored in memory simultaneously."
   ]
  },
  {
   "cell_type": "markdown",
   "metadata": {},
   "source": [
    "11. What is the one improvement that must be made to a function in order for it to become a generator function in the Python language?\n",
    "\n",
    "    To convert a regular function into a generator function, we need to replace the return statements with yield statements."
   ]
  },
  {
   "cell_type": "markdown",
   "metadata": {},
   "source": [
    "12. Identify at least one benefit of generators.\n",
    "\n",
    "    Generators use the yield statement to produce values lazily, allowing them to iterate over a sequence without storing it entirely in memory. This saves memory, making generators ideal for working with large datasets or when memory conservation is important during iteration."
   ]
  }
 ],
 "metadata": {
  "kernelspec": {
   "display_name": "base",
   "language": "python",
   "name": "python3"
  },
  "language_info": {
   "codemirror_mode": {
    "name": "ipython",
    "version": 3
   },
   "file_extension": ".py",
   "mimetype": "text/x-python",
   "name": "python",
   "nbconvert_exporter": "python",
   "pygments_lexer": "ipython3",
   "version": "3.11.5"
  }
 },
 "nbformat": 4,
 "nbformat_minor": 2
}
