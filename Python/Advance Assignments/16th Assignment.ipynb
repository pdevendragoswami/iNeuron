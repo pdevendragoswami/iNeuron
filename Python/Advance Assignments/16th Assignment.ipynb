{
 "cells": [
  {
   "cell_type": "markdown",
   "metadata": {},
   "source": [
    "1. What is the benefit of regular expressions?\n",
    "\n",
    "    Regular expressions, also called regex or regexp, used to match the  specific text patterns within strings.It  simplifies the extraction of desired patterns from text, allowing programmers to write cleaner, more concise code. Additionally, regex reduces reliance on repetitive if/else statements."
   ]
  },
  {
   "cell_type": "markdown",
   "metadata": {},
   "source": [
    "2. Describe the difference between the effects of \"(ab)c+\" and \"a(bc)+\" Which of these, if any, is the unqualified pattern \"abc+\"?\n",
    "\n",
    "    \"(ab)c+\" matches sequences where \"ab\" appears followed by one or more \"c\"s, while \"a(bc)+\" matches sequences where \"a\" is followed by one or more occurrences of \"bc\".\n",
    "    \n",
    "    The unqualified pattern \"abc+\" refers to \"a\" followed by \"b\"s followed by one or more occurance of \"c\". Among the given patterns, \"(ab)c+\" matches \"abc+\"."
   ]
  },
  {
   "cell_type": "markdown",
   "metadata": {},
   "source": [
    "3. How much do you need to use the following sentence while using regular expressions?\n",
    "\n",
    "    import re\n",
    "\n",
    "    The sentence \"import re\" is typically used at the beginning of Python scripts or programs when we want to utilize regular expressions."
   ]
  },
  {
   "cell_type": "markdown",
   "metadata": {},
   "source": [
    "4. Which characters have special significance in square brackets when expressing a range, and under what circumstances?\n",
    "\n",
    "    In regular expressions, the characters with special significance when expressing a range within square brackets are:\n",
    "\n",
    "    - Hyphen (-): It denotes a range of characters when placed between two characters inside square brackets. For example, [a-z] represents all lowercase letters from 'a' to 'z'.\n",
    "\n",
    "    - Caret (^): When used as the first character inside square brackets, it negates the character class, matching any character not listed within the square brackets. For example, [^0-9] matches any character except digits."
   ]
  },
  {
   "cell_type": "markdown",
   "metadata": {},
   "source": [
    "5. How does compiling a regular-expression object benefit you?  \n",
    "\n",
    "    Compiling a regular expression into a regex object allows us to efficiently use the same pattern for matching multiple strings and avoid rewriting the pattern each time you search."
   ]
  },
  {
   "cell_type": "markdown",
   "metadata": {},
   "source": [
    "6. What are some examples of how to use the match object returned by re. match and re. search?\n",
    "\n",
    "    The re. search() and re. match() both are functions of re module and return the first match of a substring found in the string.\n",
    "\n",
    "    re. match() searches only from the beginning of the string and returns a match object if found. But if a match of substring is found somewhere in the middle of the string, it returns none.\n",
    "\n",
    "    While re. Search() searches for the whole string even if the string contains multi-lines and tries to find a match of the substring in all the lines of the string\n"
   ]
  },
  {
   "cell_type": "code",
   "execution_count": 1,
   "metadata": {},
   "outputs": [
    {
     "name": "stdout",
     "output_type": "stream",
     "text": [
      "<re.Match object; span=(66, 72), match='string'>\n",
      "None\n",
      "<re.Match object; span=(0, 6), match='string'>\n",
      "<re.Match object; span=(0, 6), match='string'>\n"
     ]
    }
   ],
   "source": [
    "import re\n",
    "\n",
    "Substring = 'string'\n",
    "String1 = 'We are learning regex with ineuron. regex is very useful for string matching. It is fast too.'\n",
    "String2 = 'string We are learning regex with ineuron. regex is very useful for string matching. It is fast too.'\n",
    "\n",
    "print(re.search(Substring, String1, re.IGNORECASE))\n",
    "print(re.match(Substring, String1, re.IGNORECASE))\n",
    "print(re.search(Substring, String2, re.IGNORECASE))\n",
    "print(re.match(Substring, String2, re.IGNORECASE))"
   ]
  },
  {
   "cell_type": "markdown",
   "metadata": {},
   "source": [
    "7. What is the difference between using a vertical bar (|) as an alteration and using square brackets as a character set?\n",
    "\n",
    "    vertical bar (|) provides alternatives(or option) between entire patterns, and square brackets define a set of characters from which the regex engine matches a single character."
   ]
  },
  {
   "cell_type": "markdown",
   "metadata": {},
   "source": [
    "8. In regular-expression search patterns, why is it necessary to use the raw-string indicator (r)? In replacement strings?\n",
    "\n",
    "    In regular expression search patterns,he raw-string indicator (r) is used to ensure that backslashes () are interpreted literally and not as escape characters."
   ]
  }
 ],
 "metadata": {
  "kernelspec": {
   "display_name": "base",
   "language": "python",
   "name": "python3"
  },
  "language_info": {
   "codemirror_mode": {
    "name": "ipython",
    "version": 3
   },
   "file_extension": ".py",
   "mimetype": "text/x-python",
   "name": "python",
   "nbconvert_exporter": "python",
   "pygments_lexer": "ipython3",
   "version": "3.11.5"
  }
 },
 "nbformat": 4,
 "nbformat_minor": 2
}
