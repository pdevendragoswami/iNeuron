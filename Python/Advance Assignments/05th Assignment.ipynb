{
 "cells": [
  {
   "cell_type": "markdown",
   "metadata": {},
   "source": [
    "1. What is the meaning of multiple inheritance?\n",
    "\n",
    "    In Multiple inheritance,a class can inherit attributes and methods from more than one parent class. This means that a subclass can have multiple parent classes, allowing it to inherit and combine features from all of them."
   ]
  },
  {
   "cell_type": "code",
   "execution_count": 1,
   "metadata": {},
   "outputs": [],
   "source": [
    "class Parent_one:\n",
    "    pass\n",
    "class Parent_two:\n",
    "    pass\n",
    "class child(Parent_one,Parent_two):\n",
    "    pass"
   ]
  },
  {
   "cell_type": "markdown",
   "metadata": {},
   "source": [
    "2. What is the concept of delegation?\n",
    "\n",
    "    The concept of delegation in programming refers to the act of passing responsibility for a particular task or operation to another object or component. Instead of directly performing the task itself, an object delegates the responsibility to another object, typically one specialized in handling that task. Delegation allows for better code organization, separation of concerns, and code reuse."
   ]
  },
  {
   "cell_type": "code",
   "execution_count": 2,
   "metadata": {},
   "outputs": [
    {
     "name": "stdout",
     "output_type": "stream",
     "text": [
      "Hey, I am back\n",
      "Hey, I am back\n",
      "Hey, I am back\n",
      "I am the main class\n"
     ]
    }
   ],
   "source": [
    "class MyClass:\n",
    "    def greet(self):\n",
    "        print('Hey, I am back')\n",
    "        \n",
    "    def identify(self):\n",
    "        print('I am the main class')\n",
    "\n",
    "class NewClass:\n",
    "    def __init__(self, my_class_instance):\n",
    "        self.main_instance = my_class_instance\n",
    "        \n",
    "    def welcome(self):\n",
    "        self.main_instance.greet()\n",
    "\n",
    "\n",
    "my_instance = MyClass()\n",
    "new_instance = NewClass(my_instance)\n",
    "\n",
    "# Call methods from MyClass directly and through NewClass\n",
    "my_instance.greet()\n",
    "new_instance.main_instance.greet()\n",
    "new_instance.welcome()\n",
    "new_instance.main_instance.identify()\n"
   ]
  },
  {
   "cell_type": "markdown",
   "metadata": {},
   "source": [
    "3. What is the concept of composition?\n",
    "\n",
    "    The concept of composition in object-oriented programming involves creating complex objects by combining simpler objects as components. Rather than relying on inheritance, where objects inherit behavior and attributes from a parent class, composition emphasizes building objects through relationships where one object \"has\" another object as a part of its structure.\n"
   ]
  },
  {
   "cell_type": "code",
   "execution_count": 3,
   "metadata": {},
   "outputs": [
    {
     "name": "stdout",
     "output_type": "stream",
     "text": [
      "Total Salary: 9600\n"
     ]
    }
   ],
   "source": [
    "class Salary:\n",
    "    def __init__(self, pay):\n",
    "        self.pay = pay\n",
    "\n",
    "    def get_total(self):\n",
    "        return self.pay * 12\n",
    "\n",
    "class Employee:\n",
    "    def __init__(self, pay, bonus):\n",
    "        self.pay = pay\n",
    "        self.bonus = bonus\n",
    "        self.obj_salary = Salary(self.pay)\n",
    "\n",
    "    def annual_salary(self):\n",
    "        return f'Total Salary: {self.obj_salary.get_total()}'\n",
    "\n",
    "obj_emp = Employee(800, 500)\n",
    "print(obj_emp.annual_salary())"
   ]
  },
  {
   "cell_type": "markdown",
   "metadata": {},
   "source": [
    "4. What are bound methods and how do we use them?\n",
    "\n",
    "    Bound methods are those methods that are attributes of a class and accessed via an instance. It is also known as the instance method since it depends on the instance. In the bound method, the instance itself is automatically passed as the first argument(referred as self). We can simply access them through an instance of the class. Python automatically binds the instance to the method, enabling it to access and manipulate instance attributes."
   ]
  },
  {
   "cell_type": "code",
   "execution_count": 4,
   "metadata": {},
   "outputs": [
    {
     "name": "stdout",
     "output_type": "stream",
     "text": [
      "Called method_one\n",
      "Called method_two\n",
      "Called method_two\n",
      "Called method_three\n",
      "Called method_three\n"
     ]
    }
   ],
   "source": [
    "class Test:\n",
    "    def method_one(self):\n",
    "        print(\"Called method_one\")\n",
    "\n",
    "    @classmethod\n",
    "    def method_two(cls):\n",
    "        print(\"Called method_two\")\n",
    "\n",
    "    @staticmethod\n",
    "    def method_three():\n",
    "        print(\"Called method_three\")\n",
    "\n",
    "# Creating an instance of the Test class\n",
    "obj = Test()\n",
    "\n",
    "# Calling instance method\n",
    "obj.method_one() \n",
    "\n",
    "# Calling class method\n",
    "Test.method_two()  \n",
    "obj.method_two()   \n",
    "\n",
    "# Calling static method\n",
    "Test.method_three()  \n",
    "obj.method_three() "
   ]
  },
  {
   "cell_type": "markdown",
   "metadata": {},
   "source": [
    "5. What is the purpose of pseudoprivate attributes?\n",
    "\n",
    "    The purpose of pseudoprivate attributes in Python is to provide a way for class authors to create attributes that are not easily accessible from outside the class. Pseudoprivate attributes are created by prefixing their names with double underscores (__), causing Python to perform name mangling."
   ]
  },
  {
   "cell_type": "code",
   "execution_count": 5,
   "metadata": {},
   "outputs": [
    {
     "name": "stdout",
     "output_type": "stream",
     "text": [
      "I am hidden!\n"
     ]
    },
    {
     "ename": "AttributeError",
     "evalue": "'MyClass' object has no attribute '__secret'",
     "output_type": "error",
     "traceback": [
      "\u001b[1;31m---------------------------------------------------------------------------\u001b[0m",
      "\u001b[1;31mAttributeError\u001b[0m                            Traceback (most recent call last)",
      "Cell \u001b[1;32mIn[5], line 15\u001b[0m\n\u001b[0;32m     11\u001b[0m \u001b[38;5;28mprint\u001b[39m(obj\u001b[38;5;241m.\u001b[39mget_secret())  \n\u001b[0;32m     13\u001b[0m \u001b[38;5;66;03m# Attempting to access the pseudoprivate attribute directly\u001b[39;00m\n\u001b[1;32m---> 15\u001b[0m \u001b[38;5;28mprint\u001b[39m(obj\u001b[38;5;241m.\u001b[39m__secret)\n",
      "\u001b[1;31mAttributeError\u001b[0m: 'MyClass' object has no attribute '__secret'"
     ]
    }
   ],
   "source": [
    "class MyClass:\n",
    "    def __init__(self):\n",
    "        self.__secret = \"I am hidden!\"\n",
    "\n",
    "    def get_secret(self):\n",
    "        return self.__secret\n",
    "\n",
    "obj = MyClass()\n",
    "\n",
    "# Accessing the attribute through a getter method\n",
    "print(obj.get_secret())  \n",
    "\n",
    "# Attempting to access the pseudoprivate attribute directly\n",
    "\n",
    "print(obj.__secret)"
   ]
  }
 ],
 "metadata": {
  "kernelspec": {
   "display_name": "base",
   "language": "python",
   "name": "python3"
  },
  "language_info": {
   "codemirror_mode": {
    "name": "ipython",
    "version": 3
   },
   "file_extension": ".py",
   "mimetype": "text/x-python",
   "name": "python",
   "nbconvert_exporter": "python",
   "pygments_lexer": "ipython3",
   "version": "3.11.5"
  }
 },
 "nbformat": 4,
 "nbformat_minor": 2
}
