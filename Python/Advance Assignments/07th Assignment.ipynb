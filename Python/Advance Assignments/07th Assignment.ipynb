{
 "cells": [
  {
   "cell_type": "markdown",
   "metadata": {},
   "source": [
    "1. What is the purpose of the try statement?\n",
    "\n",
    "    The try statement is used for exception handling.It allows us to define a block of code containing statements that might raise exceptions during runtime.If an exception occurs within the try block, the program flow is redirected to the corresponding except block (if specified), where we can handle the exception.This prevents the program from crashing due to unhandled exceptions, ensuring that the program can continue executing even in the presence of errors.\n"
   ]
  },
  {
   "cell_type": "code",
   "execution_count": 1,
   "metadata": {},
   "outputs": [
    {
     "name": "stdout",
     "output_type": "stream",
     "text": [
      "Cannot divide by zero.\n"
     ]
    }
   ],
   "source": [
    "try:\n",
    "    result = 10 / 0  # This will raise a ZeroDivisionError\n",
    "except ZeroDivisionError:\n",
    "    print(\"Cannot divide by zero.\")"
   ]
  },
  {
   "cell_type": "markdown",
   "metadata": {},
   "source": [
    "2. What are the two most popular try statement variations?\n",
    "\n",
    "    - try-except: is used to catch and handle exceptions that occur within a block of code. The code inside the except block is executed if an exception occurs within the try block.\n",
    "\n",
    "    - try-finally: is used to execute the code regardless of whether an exception occurs or not. The code in the finally block is always executed, even if an exception occurs within the try block."
   ]
  },
  {
   "cell_type": "markdown",
   "metadata": {},
   "source": [
    "3. What is the purpose of the raise statement?\n",
    "\n",
    "    - `raise` statement is used to manually trigger the exception based on a certain condition. If the condition provided turns true, an exception is raised."
   ]
  },
  {
   "cell_type": "markdown",
   "metadata": {},
   "source": [
    "4. What does the assert statement do, and what other statement is it like?\n",
    "\n",
    "    The assert statement in Python is used to assert or validate that a certain condition is true. If the condition evaluates to False, the assert statement raises an AssertionError with an optional error message.\n",
    "    - `assert` is primarily used for debugging and sanity-checking during development. It helps ensure that certain conditions hold true during program execution.\n",
    "    - `raise` is used to explicitly raise exceptions to handle error conditions or exceptional cases during program execution."
   ]
  },
  {
   "cell_type": "code",
   "execution_count": 2,
   "metadata": {},
   "outputs": [
    {
     "ename": "AssertionError",
     "evalue": "this is not a valid statement",
     "output_type": "error",
     "traceback": [
      "\u001b[1;31m---------------------------------------------------------------------------\u001b[0m",
      "\u001b[1;31mAssertionError\u001b[0m                            Traceback (most recent call last)",
      "Cell \u001b[1;32mIn[2], line 1\u001b[0m\n\u001b[1;32m----> 1\u001b[0m \u001b[38;5;28;01massert\u001b[39;00m(\u001b[38;5;241m2\u001b[39m \u001b[38;5;241m==\u001b[39m \u001b[38;5;241m4\u001b[39m), \u001b[38;5;124mf\u001b[39m\u001b[38;5;124m'\u001b[39m\u001b[38;5;124mthis is not a valid statement\u001b[39m\u001b[38;5;124m'\u001b[39m\n",
      "\u001b[1;31mAssertionError\u001b[0m: this is not a valid statement"
     ]
    }
   ],
   "source": [
    "assert(2 == 4), f'this is not a valid statement'"
   ]
  },
  {
   "cell_type": "markdown",
   "metadata": {},
   "source": [
    "5. What is the purpose of the with/as argument, and what other statement is it like?\n",
    "\n",
    "    The purpose of the `with/as` statement in Python is to simplify resource management, particularly for objects that need to be explicitly closed or released after use. It is commonly used with file I/O operations, database connections, and other resources that require cleanup.\n",
    "\n",
    "    Similar to `try/finally` blocks, the `with/as` statement focuses on resource management, ensuring that resources are properly released after use. However, it provides a more concise and readable syntax, making code more expressive and easier to maintain."
   ]
  },
  {
   "cell_type": "code",
   "execution_count": 3,
   "metadata": {},
   "outputs": [],
   "source": [
    "with open('sample_file.txt', 'w') as file:\n",
    "    file.write('Hello World')"
   ]
  }
 ],
 "metadata": {
  "kernelspec": {
   "display_name": "base",
   "language": "python",
   "name": "python3"
  },
  "language_info": {
   "codemirror_mode": {
    "name": "ipython",
    "version": 3
   },
   "file_extension": ".py",
   "mimetype": "text/x-python",
   "name": "python",
   "nbconvert_exporter": "python",
   "pygments_lexer": "ipython3",
   "version": "3.11.5"
  }
 },
 "nbformat": 4,
 "nbformat_minor": 2
}
