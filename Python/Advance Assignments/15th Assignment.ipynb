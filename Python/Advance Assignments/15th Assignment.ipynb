{
 "cells": [
  {
   "cell_type": "markdown",
   "metadata": {},
   "source": [
    "1. What are the new features added in Python 3.8 version?\n",
    "\n",
    "    The new features added in Python 3.8 version include:\n",
    "\n",
    "    - Walrus Operator: This operator (:=) allows assigning and returning a value within the same expression, eliminating the need to initialize a variable beforehand. It's useful for compact code and is nicknamed the \"Walrus Operator\" due to its visual similarity to a walrus.\n",
    "\n",
    "    - yield and return without parentheses: Both yield and return statements now support returning multiple values without requiring parentheses.\n",
    "\n",
    "    - Reversed with dictionaries: The reversed() function can now be used with dictionaries to iterate over their elements in reverse order.\n",
    "\n",
    "    - Dictionary Comprehensions Modification: Dictionary comprehensions have been updated to compute the key first and the value second.\n",
    "\n",
    "    - importlib_metadata module: A new utility module called importlib_metadata provides an API for accessing metadata of installed packages, such as entry points or top-level names.\n",
    "\n",
    "    - Support for = in f-strings: f-strings now support the = symbol for easy string interpolation.\n",
    "\n",
    "    - pow() function enhancement: The pow() function's three-argument form now calculates the modular multiplicative inverse when the exponent is -1.\n",
    "\n",
    "    - csv.DictReader returns dictionaries: The csv.DictReader now returns instances of dictionaries instead of collections.OrderedDict.\n",
    "\n",
    "    - Syntax warning for missing commas: Python displays an informative syntax warning instead of a TypeError when a comma is missed in code, such as when creating a list of tuples."
   ]
  },
  {
   "cell_type": "code",
   "execution_count": 1,
   "metadata": {},
   "outputs": [
    {
     "name": "stderr",
     "output_type": "stream",
     "text": [
      "<>:26: SyntaxWarning: 'tuple' object is not callable; perhaps you missed a comma?\n",
      "<>:26: SyntaxWarning: 'tuple' object is not callable; perhaps you missed a comma?\n",
      "C:\\Users\\Devendra\\AppData\\Local\\Temp\\ipykernel_4360\\1982553575.py:26: SyntaxWarning: 'tuple' object is not callable; perhaps you missed a comma?\n",
      "  r_list = [(1, 2) (3, 4)]\n"
     ]
    },
    {
     "name": "stdout",
     "output_type": "stream",
     "text": [
      "15\n",
      "('Hello', 'Good Morning')\n",
      "(0, 0) (1, 1) (2, 4) (3, 9) (4, 16) Role: \"Data Scientist\"\n",
      "Name: \"Mr ABC\"\n",
      "The length of string is len_string = 31\n"
     ]
    },
    {
     "ename": "TypeError",
     "evalue": "'tuple' object is not callable",
     "output_type": "error",
     "traceback": [
      "\u001b[1;31m---------------------------------------------------------------------------\u001b[0m",
      "\u001b[1;31mTypeError\u001b[0m                                 Traceback (most recent call last)",
      "Cell \u001b[1;32mIn[1], line 26\u001b[0m\n\u001b[0;32m     23\u001b[0m \u001b[38;5;28mprint\u001b[39m(\u001b[38;5;124mf\u001b[39m\u001b[38;5;124m'\u001b[39m\u001b[38;5;124mThe length of string is \u001b[39m\u001b[38;5;132;01m{\u001b[39;00mlen_string\u001b[38;5;250m \u001b[39m\u001b[38;5;132;01m= }\u001b[39;00m\u001b[38;5;124m'\u001b[39m)\n\u001b[0;32m     25\u001b[0m \u001b[38;5;66;03m# Syntax warning for missing commas\u001b[39;00m\n\u001b[1;32m---> 26\u001b[0m r_list \u001b[38;5;241m=\u001b[39m [(\u001b[38;5;241m1\u001b[39m, \u001b[38;5;241m2\u001b[39m) (\u001b[38;5;241m3\u001b[39m, \u001b[38;5;241m4\u001b[39m)]\n",
      "\u001b[1;31mTypeError\u001b[0m: 'tuple' object is not callable"
     ]
    }
   ],
   "source": [
    "# Walrus Operator\n",
    "if (sum := 10 + 5) > 10:\n",
    "    print(sum) \n",
    "\n",
    "# yield and return\n",
    "def hello():\n",
    "    return 'Hello', 'Good Morning'\n",
    "print(hello()) \n",
    "\n",
    "def count():\n",
    "    for i in range(5):\n",
    "        yield i, i**2\n",
    "for ele in count():\n",
    "    print(ele, end=\" \") \n",
    "\n",
    "# Reversed with dictionaries\n",
    "t_dict = {\"Name\": \"Mr ABC\", \"Role\": \"Data Scientist\"}\n",
    "for ele in reversed(t_dict):\n",
    "    print(f'{ele}: \"{t_dict[ele]}\"')\n",
    "\n",
    "# Using = in f-strings\n",
    "len_string = len(\"iNeuron Full Stack Data Science\")\n",
    "print(f'The length of string is {len_string = }')\n",
    "\n",
    "# Syntax warning for missing commas\n",
    "r_list = [(1, 2) (3, 4)] \n"
   ]
  },
  {
   "cell_type": "markdown",
   "metadata": {},
   "source": [
    "2. What is monkey patching in Python?\n",
    "\n",
    "    Monkey patching refers to the practice of dynamically modifying classes or modules at runtime. This allows developers to change the behavior of code without altering its original source code."
   ]
  },
  {
   "cell_type": "code",
   "execution_count": 2,
   "metadata": {},
   "outputs": [
    {
     "name": "stdout",
     "output_type": "stream",
     "text": [
      "monkey_f() is being called\n"
     ]
    }
   ],
   "source": [
    "class A:\n",
    "    def func(self):\n",
    "        print(\"func() is being called\")\n",
    "\n",
    "def monkey_f(self):\n",
    "    print(\"monkey_f() is being called\")\n",
    "\n",
    "# Monkey patching: Replace the func method of class A with monkey_f\n",
    "A.func = monkey_f\n",
    "\n",
    "# Create an instance of class A\n",
    "some_object = A()\n",
    "\n",
    "# Call the modified func method\n",
    "some_object.func()"
   ]
  },
  {
   "cell_type": "markdown",
   "metadata": {},
   "source": [
    "3. What is the difference between a shallow copy and deep copy?\n",
    "\n",
    "    The difference between a shallow copy and deep copy is as follows:\n",
    "\n",
    "    Shallow Copy:\n",
    "    - Created using the copy() method.\n",
    "    - Changes made in the copied object will affect the original object.\n",
    "    - Both objects reference the same memory location.\n",
    "\n",
    "    Deep Copy:\n",
    "    - Created using the deepcopy() method.\n",
    "    - Changes made in the copied object do not affect the original object.\n",
    "    - Both objects reference different memory locations.\n"
   ]
  },
  {
   "cell_type": "code",
   "execution_count": 3,
   "metadata": {},
   "outputs": [
    {
     "name": "stdout",
     "output_type": "stream",
     "text": [
      "Original Elements of each List:\n",
      "[1, 2, [3, 4], 5, 6]\n",
      "[1, 2, [3, 4], 5, 6]\n",
      "[1, 2, [3, 4], 5, 6]\n",
      "\n",
      "New Elements of each List:\n",
      "[1, 2, [3, 4], 5, 20]\n",
      "[10, 2, [3, 4], 5, 6]\n",
      "[1, 2, [3, 4], 5, 20]\n"
     ]
    }
   ],
   "source": [
    "from copy import deepcopy\n",
    "\n",
    "# Original list\n",
    "original_list = [1, 2, [3, 4], 5, 6]\n",
    "\n",
    "# Perform deep copy\n",
    "copied_list_deep = deepcopy(original_list)\n",
    "\n",
    "# Shallow copy\n",
    "copied_list_shallow = original_list\n",
    "\n",
    "# Print original elements of each list\n",
    "print(\"Original Elements of each List:\")\n",
    "print(original_list)\n",
    "print(copied_list_deep)\n",
    "print(copied_list_shallow)\n",
    "\n",
    "# Modify copied_list_deep and copied_list_shallow\n",
    "copied_list_deep[0] = 10\n",
    "copied_list_shallow[-1] = 20\n",
    "\n",
    "# Print new elements of each list\n",
    "print(\"\\nNew Elements of each List:\")\n",
    "print(original_list)\n",
    "print(copied_list_deep)\n",
    "print(copied_list_shallow)\n"
   ]
  },
  {
   "cell_type": "markdown",
   "metadata": {},
   "source": [
    "4. What is the maximum possible length of an identifier?\n",
    "\n",
    "    The maximum possible length of an identifier in Python is 79 characters. Python is case-sensitive when it comes to identifiers. Although Python technically allows unlimited identifier length, it's recommended to adhere to the 79-character limit specified in PEP-8 for code readability and style consistency."
   ]
  },
  {
   "cell_type": "markdown",
   "metadata": {},
   "source": [
    "5. What is generator comprehension?\n",
    "\n",
    "    Generator comprehension is a concise way to define a generator in Python using a single-line expression. It shares similarities with list comprehension but uses round brackets instead of square brackets.\n",
    "\n",
    "    The key advantage of generator comprehension is its memory efficiency. It yields one item at a time and generates items only when requested, unlike list comprehension which pre-allocates memory for the entire list."
   ]
  },
  {
   "cell_type": "code",
   "execution_count": 4,
   "metadata": {},
   "outputs": [
    {
     "name": "stdout",
     "output_type": "stream",
     "text": [
      "[0, 1, 2, 3, 4, 5, 6, 7, 8, 9]\n",
      "<generator object <genexpr> at 0x000001B0E5A4D700>\n",
      "0 2 4 6 8 "
     ]
    }
   ],
   "source": [
    "in_list = [x for x in range(10)]  # List Comprehension\n",
    "print(in_list)\n",
    "\n",
    "out_gen = (x for x in in_list if x % 2 == 0)  # Generator Comprehension\n",
    "print(out_gen)  # Returns a Generator Object\n",
    "\n",
    "for ele in out_gen:\n",
    "    print(ele, end=\" \")"
   ]
  }
 ],
 "metadata": {
  "kernelspec": {
   "display_name": "base",
   "language": "python",
   "name": "python3"
  },
  "language_info": {
   "codemirror_mode": {
    "name": "ipython",
    "version": 3
   },
   "file_extension": ".py",
   "mimetype": "text/x-python",
   "name": "python",
   "nbconvert_exporter": "python",
   "pygments_lexer": "ipython3",
   "version": "3.11.5"
  }
 },
 "nbformat": 4,
 "nbformat_minor": 2
}
