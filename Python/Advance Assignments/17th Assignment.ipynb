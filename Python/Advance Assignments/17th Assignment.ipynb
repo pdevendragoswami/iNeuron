{
 "cells": [
  {
   "cell_type": "markdown",
   "metadata": {},
   "source": [
    "1. Explain the difference between greedy and non-greedy syntax with visual terms in as few words as possible. What is the bare minimum effort required to transform a greedy pattern into a non-greedy one? What characters or characters can you introduce or change?\n",
    "\n",
    "    Greedy syntax captures the longest possible match, while non-greedy syntax captures the shortest possible match. To transform a greedy pattern into a non-greedy one, simply add a \"?\" after the quantifier(e.g., \"*?\" or \"+?\")."
   ]
  },
  {
   "cell_type": "code",
   "execution_count": 1,
   "metadata": {},
   "outputs": [
    {
     "name": "stdout",
     "output_type": "stream",
     "text": [
      "Greedy Matches: ['vvvvvv', '']\n",
      "Non-Greedy Matches: ['', 'v', '', 'v', '', 'v', '', 'v', '', 'v', '', 'v', '']\n"
     ]
    }
   ],
   "source": [
    "import re\n",
    "\n",
    "x = \"vvvvvv\"\n",
    "greedy_matches = re.findall(\"v*\", x ) # Greedy Match Syntax\n",
    "print(\"Greedy Matches:\", greedy_matches) \n",
    "\n",
    "non_greedy_matches = re.findall(\"v*?\", x ) # Non Greedy Match Syntax\n",
    "print(\"Non-Greedy Matches:\", non_greedy_matches)"
   ]
  },
  {
   "cell_type": "markdown",
   "metadata": {},
   "source": [
    "2. When exactly does greedy versus non-greedy make a difference? What if you're looking for a non-greedy match but the only one available is greedy?\n",
    "\n",
    "    Greedy matching aims for the longest match, while non-greedy matching aims for the shortest.Greedy versus non-greedy matching matters when there are multiple possible matches.If only a greedy match is available whenwe need a non-greedy one, we can utilize additional filtering or pattern matching techniques in regex to identify the required pattern."
   ]
  },
  {
   "cell_type": "markdown",
   "metadata": {},
   "source": [
    "3. In a simple match of a string, which looks only for one match and does not do any replacement, is the use of a nontagged group likely to make any practical difference?\n",
    "\n",
    "    In a simple match without replacement, using a non-tagged group doesn't usually make a practical difference. Non-tagged groups are mainly used for capturing or applying quantifiers, which aren't necessary when seeking just one match.\n"
   ]
  },
  {
   "cell_type": "code",
   "execution_count": 2,
   "metadata": {},
   "outputs": [
    {
     "name": "stdout",
     "output_type": "stream",
     "text": [
      "Phone number found -> 234\n",
      "Phone number found -> 234\n"
     ]
    }
   ],
   "source": [
    "import re\n",
    "\n",
    "phoneNumRegex = re.compile(r'\\d\\d\\d')  # Non-tagged group\n",
    "num = phoneNumRegex.search('My number is 234-567-8901.')\n",
    "print(f'Phone number found -> {num.group()}')  \n",
    "print(f'Phone number found -> {num.group(0)}')"
   ]
  },
  {
   "cell_type": "markdown",
   "metadata": {},
   "source": [
    "4. Describe a scenario in which using a nontagged category would have a significant impact on the program's outcomes ?\n",
    "\n",
    "\n",
    "    In the following code snippet, the decimal separator is not captured, as it's within a non-capturing group. This approach is beneficial when the separator isn't relevant, and only the numerical values need to be captured."
   ]
  },
  {
   "cell_type": "code",
   "execution_count": 3,
   "metadata": {},
   "outputs": [
    {
     "name": "stdout",
     "output_type": "stream",
     "text": [
      "('135', '456')\n"
     ]
    }
   ],
   "source": [
    "import re\n",
    "\n",
    "text = '135.456'\n",
    "pattern = r'(\\d+)(?:\\.)(\\d+)'  # Rectified the pattern to escape the dot\n",
    "regobj = re.compile(pattern)\n",
    "matobj = regobj.search(text)\n",
    "print(matobj.groups())"
   ]
  },
  {
   "cell_type": "markdown",
   "metadata": {},
   "source": [
    "5. Unlike a normal regex pattern, a look-ahead condition does not consume the characters it examines. Describe a situation in which this could make a difference in the results of your programme ?\n",
    "\n",
    "    A positive look-ahead in a regex pattern can affect the outcome when counting the multiple lines or sentences in a string. Without it, the program may not accurately count due to the characters being consumed prematurely."
   ]
  },
  {
   "cell_type": "markdown",
   "metadata": {},
   "source": [
    "6. In standard expressions, what is the difference between positive look-ahead and negative look-ahead ?\n",
    "\n",
    "    In standard expressions, positive look-ahead allows us to add a condition for what follows the current position. On the other hand, negative look-ahead checks for the absence of a pattern following the current position. Both are useful for specifying conditions in regex patterns."
   ]
  },
  {
   "cell_type": "markdown",
   "metadata": {},
   "source": [
    "7. What is the benefit of referring to groups by name rather than by number in a standard expression?\n",
    "\n",
    "    Referring to groups by name, rather than by number, in a standard expression enhances code clarity and simplifies comprehension."
   ]
  },
  {
   "cell_type": "markdown",
   "metadata": {},
   "source": [
    "8. Can you identify repeated items within a target string using named groups, as in \"The cow jumped over the moon\"?"
   ]
  },
  {
   "cell_type": "code",
   "execution_count": 4,
   "metadata": {},
   "outputs": [
    {
     "name": "stdout",
     "output_type": "stream",
     "text": [
      "['The', 'the']\n"
     ]
    }
   ],
   "source": [
    "import re\n",
    "\n",
    "text = \"The cow jumped over the moon\"\n",
    "pattern = r'(?P<w1>The)'\n",
    "regex_obj = re.compile(pattern, re.IGNORECASE)\n",
    "matches = regex_obj.findall(text)\n",
    "print(matches)"
   ]
  },
  {
   "cell_type": "markdown",
   "metadata": {},
   "source": [
    "9. When parsing a string, what is at least one thing that the Scanner interface does for you that the re.findall feature does not ?\n",
    "\n",
    "    When parsing a string, one thing that the Scanner interface does for you that the `re.findall` feature does not is iterating over all the lines of the file and returning all non-overlapping matches of a pattern in a single step."
   ]
  },
  {
   "cell_type": "markdown",
   "metadata": {},
   "source": [
    "10. Does a scanner object have to be named scanner?\n",
    "\n",
    "    Yes, a scanner object does not have to be named \"scanner\". It can have any valid variable name according to the language syntax rules."
   ]
  }
 ],
 "metadata": {
  "kernelspec": {
   "display_name": "base",
   "language": "python",
   "name": "python3"
  },
  "language_info": {
   "codemirror_mode": {
    "name": "ipython",
    "version": 3
   },
   "file_extension": ".py",
   "mimetype": "text/x-python",
   "name": "python",
   "nbconvert_exporter": "python",
   "pygments_lexer": "ipython3",
   "version": "3.11.5"
  }
 },
 "nbformat": 4,
 "nbformat_minor": 2
}
