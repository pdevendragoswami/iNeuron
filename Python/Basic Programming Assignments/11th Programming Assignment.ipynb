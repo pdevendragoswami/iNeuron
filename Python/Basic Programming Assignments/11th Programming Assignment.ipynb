{
 "cells": [
  {
   "cell_type": "markdown",
   "metadata": {},
   "source": [
    "1. Write a Python program to find words which are greater than given length k ?"
   ]
  },
  {
   "cell_type": "code",
   "execution_count": 18,
   "metadata": {},
   "outputs": [
    {
     "name": "stdout",
     "output_type": "stream",
     "text": [
      "Words greater than length 5 are: ['banana', 'orange', 'pineapple']\n"
     ]
    }
   ],
   "source": [
    "def find_words_greater_than_k(words, k):\n",
    "    result = []\n",
    "    for word in words:\n",
    "        if len(word) > k:\n",
    "            result.append(word)\n",
    "    return result\n",
    "\n",
    "words = ['apple', 'banana', 'orange', 'grape', 'kiwi', 'pineapple']\n",
    "k = 5 \n",
    "print(\"Words greater than length\", k, \"are:\", find_words_greater_than_k(words, k))"
   ]
  },
  {
   "cell_type": "markdown",
   "metadata": {},
   "source": [
    "2. Write a Python program for removing i-th character from a string ?\n"
   ]
  },
  {
   "cell_type": "code",
   "execution_count": 19,
   "metadata": {},
   "outputs": [
    {
     "name": "stdout",
     "output_type": "stream",
     "text": [
      "String after removing 3 th character: exmple\n"
     ]
    }
   ],
   "source": [
    "def remove_ith_character(string, i):\n",
    "    if i < 0 or i >= len(string):\n",
    "        return \"Invalid index\"\n",
    "    else:\n",
    "        return string[:i-1] + string[i:]\n",
    "\n",
    "input_string = \"example\"\n",
    "i = 3\n",
    "print(\"String after removing\", i, \"th character:\", remove_ith_character(input_string, i))"
   ]
  },
  {
   "cell_type": "markdown",
   "metadata": {},
   "source": [
    "3. Write a Python program to split and join a string ?"
   ]
  },
  {
   "cell_type": "code",
   "execution_count": 20,
   "metadata": {},
   "outputs": [
    {
     "name": "stdout",
     "output_type": "stream",
     "text": [
      "Original string: Hello, this is a sample string\n",
      "Split string: ['Hello,', 'this', 'is', 'a', 'sample', 'string']\n",
      "Joined string: Hello, this is a sample string\n"
     ]
    }
   ],
   "source": [
    "def split_and_join(string):\n",
    "    words = string.split()\n",
    "    joined_string = ' '.join(words)\n",
    "    \n",
    "    return words, joined_string\n",
    "\n",
    "\n",
    "input_string = \"Hello, this is a sample string\"\n",
    "words, joined_string = split_and_join(input_string)\n",
    "print(\"Original string:\", input_string)\n",
    "print(\"Split string:\", words)\n",
    "print(\"Joined string:\", joined_string)"
   ]
  },
  {
   "cell_type": "markdown",
   "metadata": {},
   "source": [
    "4. Write a Python to check if a given string is binary string or not ?"
   ]
  },
  {
   "cell_type": "code",
   "execution_count": 21,
   "metadata": {},
   "outputs": [
    {
     "name": "stdout",
     "output_type": "stream",
     "text": [
      "101010101 is a binary string.\n"
     ]
    }
   ],
   "source": [
    "def is_binary_string(string):\n",
    "    for char in string:\n",
    "        if char != '0' and char != '1':\n",
    "            return False\n",
    "    return True\n",
    "\n",
    "input_string = \"101010101\"\n",
    "if is_binary_string(input_string):\n",
    "    print(input_string, \"is a binary string.\")\n",
    "else:\n",
    "    print(input_string, \"is not a binary string.\")"
   ]
  },
  {
   "cell_type": "markdown",
   "metadata": {},
   "source": [
    "5. Write a Python program to find uncommon words from two Strings ?"
   ]
  },
  {
   "cell_type": "code",
   "execution_count": 22,
   "metadata": {},
   "outputs": [
    {
     "name": "stdout",
     "output_type": "stream",
     "text": [
      "Uncommon words: {'orange', 'pineapple', 'mango', 'apple'}\n"
     ]
    }
   ],
   "source": [
    "def find_uncommon_words(string1, string2):\n",
    "    \n",
    "    words1 = string1.split()\n",
    "    words2 = string2.split()\n",
    "    \n",
    "    set1 = set(words1)\n",
    "    set2 = set(words2)\n",
    "    \n",
    "    uncommon_words = set1.symmetric_difference(set2)\n",
    "    return uncommon_words\n",
    "\n",
    "string1 = \"apple banana mango\"\n",
    "string2 = \"banana orange pineapple\"\n",
    "uncommon_words = find_uncommon_words(string1, string2)\n",
    "print(\"Uncommon words:\", uncommon_words)"
   ]
  },
  {
   "cell_type": "code",
   "execution_count": 23,
   "metadata": {},
   "outputs": [
    {
     "name": "stdout",
     "output_type": "stream",
     "text": [
      "Duplicate characters: ['a', 'c', 'S', 'e', 'o', 'l', 't']\n"
     ]
    }
   ],
   "source": [
    "def find_duplicate_characters(string):\n",
    "    unique = set()\n",
    "    duplicates = []\n",
    "    for char in string:\n",
    "        if char ==' ':\n",
    "            continue\n",
    "        if char in unique:\n",
    "            duplicates.append(char)\n",
    "        else:\n",
    "            unique.add(char)\n",
    "\n",
    "    duplicates = list(set(duplicates))\n",
    "    return duplicates\n",
    "\n",
    "\n",
    "input_string = \"Full Stack Data Science Bootcamp 2.0\"\n",
    "duplicate_characters = find_duplicate_characters(input_string)\n",
    "print(\"Duplicate characters:\", duplicate_characters)"
   ]
  },
  {
   "cell_type": "markdown",
   "metadata": {},
   "source": [
    "7. Write a Python Program to check if a string contains any special character?"
   ]
  },
  {
   "cell_type": "code",
   "execution_count": 24,
   "metadata": {},
   "outputs": [
    {
     "data": {
      "text/plain": [
       "'String contains special characters.'"
      ]
     },
     "execution_count": 24,
     "metadata": {},
     "output_type": "execute_result"
    }
   ],
   "source": [
    "import string\n",
    "\n",
    "def contains_special_character(input_string):\n",
    "    special_chars = set(string.punctuation)\n",
    "  \n",
    "    for char in input_string:\n",
    "        if char in special_chars:\n",
    "            return (\"String contains special characters.\")\n",
    "        \n",
    "    return (\"String does not contain special characters.\")\n",
    "\n",
    "\n",
    "input_string = \"Hello! How are you?\"\n",
    "\n",
    "contains_special_character(input_string)"
   ]
  }
 ],
 "metadata": {
  "kernelspec": {
   "display_name": "base",
   "language": "python",
   "name": "python3"
  },
  "language_info": {
   "codemirror_mode": {
    "name": "ipython",
    "version": 3
   },
   "file_extension": ".py",
   "mimetype": "text/x-python",
   "name": "python",
   "nbconvert_exporter": "python",
   "pygments_lexer": "ipython3",
   "version": "3.11.5"
  }
 },
 "nbformat": 4,
 "nbformat_minor": 2
}
