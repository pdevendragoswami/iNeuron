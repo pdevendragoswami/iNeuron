{
 "cells": [
  {
   "cell_type": "markdown",
   "metadata": {},
   "source": [
    "1. Write a Python Program to Add two Matrices ?"
   ]
  },
  {
   "cell_type": "code",
   "execution_count": 1,
   "metadata": {},
   "outputs": [
    {
     "name": "stdout",
     "output_type": "stream",
     "text": [
      "[[10, 10, 10], [10, 10, 10], [10, 10, 10]]\n"
     ]
    }
   ],
   "source": [
    "def add_matrices(matrix1, matrix2):\n",
    "    if len(matrix1) != len(matrix2) or len(matrix1[0]) != len(matrix2[0]):\n",
    "        print(\"Matrices should have the same dimensions for addition.\")\n",
    "        return None\n",
    "    \n",
    "    result = []\n",
    "    for i in range(len(matrix1)):\n",
    "        row = []\n",
    "        for j in range(len(matrix1[0])):\n",
    "            row.append(matrix1[i][j] + matrix2[i][j])\n",
    "        result.append(row)\n",
    "    print(result)\n",
    "    #for row in result:\n",
    "        #print(row)\n",
    "\n",
    "\n",
    "matrix1 = [[1, 2, 3],[4, 5, 6],[7, 8, 9]]\n",
    "\n",
    "matrix2 = [[9, 8, 7],[6, 5, 4],[3, 2, 1]]\n",
    "\n",
    "add_matrices(matrix1, matrix2)"
   ]
  },
  {
   "cell_type": "markdown",
   "metadata": {},
   "source": [
    "2. Write a Python Program to Multiply two Matrices ?"
   ]
  },
  {
   "cell_type": "code",
   "execution_count": 2,
   "metadata": {},
   "outputs": [
    {
     "name": "stdout",
     "output_type": "stream",
     "text": [
      "[[30, 24, 18], [84, 69, 54], [138, 114, 90]]\n"
     ]
    }
   ],
   "source": [
    "def multiply_matrices(matrix1, matrix2):\n",
    "    if len(matrix1[0]) != len(matrix2):\n",
    "        print(\"Number of columns in the first matrix must be equal to the number of rows in the second matrix for multiplication.\")\n",
    "        return None\n",
    "    \n",
    "    result = []\n",
    "    for i in range(len(matrix1)):\n",
    "        row = []\n",
    "        for j in range(len(matrix2[0])):\n",
    "            sum = 0\n",
    "            for k in range(len(matrix2)):\n",
    "                sum += matrix1[i][k] * matrix2[k][j]\n",
    "            row.append(sum)\n",
    "        result.append(row)\n",
    "    print(result)\n",
    "    #for row in result_matrix:\n",
    "        #print(row)\n",
    "        \n",
    "matrix1 = [[1, 2, 3],[4, 5, 6],[7, 8, 9]]\n",
    "\n",
    "matrix2 = [[9, 8, 7],[6, 5, 4],[3, 2, 1]]\n",
    "\n",
    "result_matrix = multiply_matrices(matrix1, matrix2)"
   ]
  },
  {
   "cell_type": "markdown",
   "metadata": {},
   "source": [
    "3. Write a Python Program to transpose a Matrix ?"
   ]
  },
  {
   "cell_type": "code",
   "execution_count": 3,
   "metadata": {},
   "outputs": [
    {
     "name": "stdout",
     "output_type": "stream",
     "text": [
      "Original Matrix:\n",
      "[1, 2, 3]\n",
      "[4, 5, 6]\n",
      "[7, 8, 9]\n",
      "\n",
      "Transposed Matrix:\n",
      "[1, 4, 7]\n",
      "[2, 5, 8]\n",
      "[3, 6, 9]\n"
     ]
    }
   ],
   "source": [
    "def transpose_matrix(matrix):\n",
    "    rows = len(matrix)\n",
    "    cols = len(matrix[0])\n",
    "    transposed_matrix = [[0 for _ in range(rows)] for _ in range(cols)]\n",
    "    for i in range(rows):\n",
    "        for j in range(cols):\n",
    "            transposed_matrix[j][i] = matrix[i][j]\n",
    "\n",
    "    print(\"Original Matrix:\")\n",
    "    for row in matrix:\n",
    "        print(row)\n",
    "\n",
    "    print(\"\\nTransposed Matrix:\")\n",
    "    for row in transposed_matrix:\n",
    "        print(row)\n",
    "\n",
    "\n",
    "matrix = [[1, 2, 3],[4, 5, 6],[7, 8, 9]]\n",
    "\n",
    "transposed_matrix = transpose_matrix(matrix)"
   ]
  },
  {
   "cell_type": "markdown",
   "metadata": {},
   "source": [
    "4. Write a Python Program to sort Words in an Alphabatical Order ?"
   ]
  },
  {
   "cell_type": "code",
   "execution_count": 4,
   "metadata": {},
   "outputs": [
    {
     "name": "stdout",
     "output_type": "stream",
     "text": [
      "Words sorted in alphabetical order:\n",
      "2.0\n",
      "Bootcamp\n",
      "Data\n",
      "Full\n",
      "Science\n",
      "Stack\n"
     ]
    }
   ],
   "source": [
    "def sort_words(sentence):\n",
    "    words = sentence.split()\n",
    "    sorted_words = sorted(words)\n",
    "    return sorted_words\n",
    "\n",
    "sentence = input(\"Enter a sentence: \")\n",
    "sorted_words = sort_words(sentence)\n",
    "\n",
    "print(\"Words sorted in alphabetical order:\")\n",
    "for word in sorted_words:\n",
    "    print(word)"
   ]
  },
  {
   "cell_type": "markdown",
   "metadata": {},
   "source": [
    "5. Write a Python Program to remove Punctuations From a String ?\n"
   ]
  },
  {
   "cell_type": "code",
   "execution_count": 5,
   "metadata": {},
   "outputs": [
    {
     "name": "stdout",
     "output_type": "stream",
     "text": [
      "String without punctuations:\n",
      "Full Stack Data Science Bootcamp 20  iNeuron\n"
     ]
    }
   ],
   "source": [
    "import string\n",
    "\n",
    "def remove_punctuation(text):\n",
    "    punctuation_chars = string.punctuation\n",
    "    # Create a translation table to remove punctuation characters\n",
    "    translation_table = str.maketrans('', '', punctuation_chars)\n",
    "    # Use translate() method to remove punctuation\n",
    "    text_without_punctuation = text.translate(translation_table)\n",
    "    return text_without_punctuation\n",
    "\n",
    "input_text = input(\"Enter a string with punctuations: \")\n",
    "text_without_punctuation = remove_punctuation(input_text)\n",
    "\n",
    "print(\"String without punctuations:\")\n",
    "print(text_without_punctuation)"
   ]
  }
 ],
 "metadata": {
  "kernelspec": {
   "display_name": "base",
   "language": "python",
   "name": "python3"
  },
  "language_info": {
   "codemirror_mode": {
    "name": "ipython",
    "version": 3
   },
   "file_extension": ".py",
   "mimetype": "text/x-python",
   "name": "python",
   "nbconvert_exporter": "python",
   "pygments_lexer": "ipython3",
   "version": "3.11.5"
  }
 },
 "nbformat": 4,
 "nbformat_minor": 2
}
