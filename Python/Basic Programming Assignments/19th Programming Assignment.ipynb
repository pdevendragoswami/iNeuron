{
 "cells": [
  {
   "cell_type": "markdown",
   "metadata": {},
   "source": [
    "1. Create a function that takes a string and returns a string in which each character is repeated once.\n",
    "\n",
    "    Examples:\n",
    "\n",
    "    `double_char(\"String\") ➞ \"SSttrriinngg\"`\n",
    "\n",
    "    `double_char(\"Hello World!\") ➞ \"HHeelllloo WWoorrlldd!!\"`\n",
    "\n",
    "    `doublechar(\"1234!_\") ➞ \"11223344!!__\"`"
   ]
  },
  {
   "cell_type": "code",
   "execution_count": 1,
   "metadata": {},
   "outputs": [
    {
     "name": "stdout",
     "output_type": "stream",
     "text": [
      "SSttrriinngg\n",
      "HHeelllloo  WWoorrlldd!!\n",
      "11223344!!__\n"
     ]
    }
   ],
   "source": [
    "def double_char(string):\n",
    "    result = \"\"\n",
    "    \n",
    "    for char in string:\n",
    "        result += char * 2\n",
    "    \n",
    "    return result\n",
    "\n",
    "print(double_char(\"String\"))  \n",
    "print(double_char(\"Hello World!\"))  \n",
    "print(double_char(\"1234!_\")) "
   ]
  },
  {
   "cell_type": "markdown",
   "metadata": {},
   "source": [
    "2. Create a function that reverses a boolean value and returns the string \"boolean expected\" if another variable type is given.\n",
    "\n",
    "    Examples:\n",
    "\n",
    "    `reverse(True) ➞ False`\n",
    "\n",
    "    `reverse(False) ➞ True`\n",
    "    \n",
    "    `reverse(0) ➞ \"boolean expected\"`\n",
    "    \n",
    "    `reverse(None) ➞ \"boolean expected\"`"
   ]
  },
  {
   "cell_type": "code",
   "execution_count": 2,
   "metadata": {},
   "outputs": [
    {
     "name": "stdout",
     "output_type": "stream",
     "text": [
      "False\n",
      "True\n",
      "boolean expected\n",
      "boolean expected\n"
     ]
    }
   ],
   "source": [
    "def reverse(arg):\n",
    "    if isinstance(arg, bool):\n",
    "        return not arg\n",
    "    else:\n",
    "        return \"boolean expected\"\n",
    "\n",
    "print(reverse(True))   \n",
    "print(reverse(False))\n",
    "print(reverse(0))     \n",
    "print(reverse(None)) "
   ]
  },
  {
   "cell_type": "markdown",
   "metadata": {},
   "source": [
    "3. Create a function that returns the thickness (in meters) of a piece of paper after folding it n number of times. The paper starts off with a thickness of 0.5mm.\n",
    "\n",
    "    Examples:\n",
    "\n",
    "    `num_layers(1) ➞ \"0.001m\"     # Paper folded once is 1mm (equal to 0.001m)`\n",
    "\n",
    "    `num_layers(4) ➞ \"0.008m\"     # Paper folded 4 times is 8mm (equal to 0.008m)`\n",
    "\n",
    "    `num_layers(21) ➞ \"1048.576m\"     # Paper folded 21 times is 1048576mm (equal to 1048.576m)`"
   ]
  },
  {
   "cell_type": "code",
   "execution_count": 3,
   "metadata": {},
   "outputs": [
    {
     "name": "stdout",
     "output_type": "stream",
     "text": [
      "0.001m\n",
      "0.008m\n",
      "1048.576m\n"
     ]
    }
   ],
   "source": [
    "def num_layers(n):\n",
    "    thickness_mm = 0.5 * (2 ** n)\n",
    "    thickness_m = thickness_mm / 1000\n",
    "    return \"{:.3f}m\".format(thickness_m)\n",
    "\n",
    "print(num_layers(1)) \n",
    "print(num_layers(4))   \n",
    "print(num_layers(21))"
   ]
  },
  {
   "cell_type": "markdown",
   "metadata": {},
   "source": [
    "4. Create a function that takes a single string as argument and returns an ordered list containing the indices of all capital letters in the string.\n",
    "\n",
    "    Examples:\n",
    "\n",
    "    `index_of_caps(\"eDaBiT\") ➞ [1, 3, 5]`\n",
    "\n",
    "    `index_of_caps(\"eQuINoX\") ➞ [1, 3, 4, 6]`\n",
    "\n",
    "    `index_of_caps(\"determine\") ➞ []`\n",
    "\n",
    "    `index_of_caps(\"STRIKE\") ➞ [0, 1, 2, 3, 4, 5]`\n",
    "\n",
    "    `index_of_caps(\"sUn\") ➞ [1]`"
   ]
  },
  {
   "cell_type": "code",
   "execution_count": 4,
   "metadata": {},
   "outputs": [
    {
     "name": "stdout",
     "output_type": "stream",
     "text": [
      "[1, 3, 5]\n",
      "[1, 3, 4, 6]\n",
      "[]\n",
      "[0, 1, 2, 3, 4, 5]\n",
      "[1]\n"
     ]
    }
   ],
   "source": [
    "def index_of_caps(word):\n",
    "    indices = []\n",
    "    for index, char in enumerate(word):\n",
    "        if char.isupper():\n",
    "            indices.append(index)\n",
    "    return indices\n",
    "\n",
    "\n",
    "print(index_of_caps(\"eDaBiT\"))   \n",
    "print(index_of_caps(\"eQuINoX\"))\n",
    "print(index_of_caps(\"determine\")) \n",
    "print(index_of_caps(\"STRIKE\"))   \n",
    "print(index_of_caps(\"sUn\")) "
   ]
  },
  {
   "cell_type": "markdown",
   "metadata": {},
   "source": [
    "5. Using list comprehensions, create a function that finds all even numbers from 1 to the given number.\n",
    "\n",
    "    Examples:\n",
    "\n",
    "    `find_even_nums(8) ➞ [2, 4, 6, 8]`\n",
    "\n",
    "    `find_even_nums(4) ➞ [2, 4]`\n",
    "\n",
    "    `find_even_nums(2) ➞ [2]`"
   ]
  },
  {
   "cell_type": "code",
   "execution_count": 5,
   "metadata": {},
   "outputs": [
    {
     "name": "stdout",
     "output_type": "stream",
     "text": [
      "[2, 4, 6, 8]\n",
      "[2, 4]\n",
      "[2]\n"
     ]
    }
   ],
   "source": [
    "def find_even_nums(n):\n",
    "    even_numbers = [i for i in range(1, n + 1) if i % 2 == 0]\n",
    "    return even_numbers\n",
    "\n",
    "\n",
    "print(find_even_nums(8))  \n",
    "print(find_even_nums(4))  \n",
    "print(find_even_nums(2))"
   ]
  }
 ],
 "metadata": {
  "kernelspec": {
   "display_name": "base",
   "language": "python",
   "name": "python3"
  },
  "language_info": {
   "codemirror_mode": {
    "name": "ipython",
    "version": 3
   },
   "file_extension": ".py",
   "mimetype": "text/x-python",
   "name": "python",
   "nbconvert_exporter": "python",
   "pygments_lexer": "ipython3",
   "version": "3.11.5"
  }
 },
 "nbformat": 4,
 "nbformat_minor": 2
}
