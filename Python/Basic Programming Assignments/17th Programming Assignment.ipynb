{
 "cells": [
  {
   "cell_type": "markdown",
   "metadata": {},
   "source": [
    "1. Create a function that takes three arguments a, b, c and returns the sum of the numbers that are evenly divided by c from the range a, b inclusive ?\n",
    "\n",
    "    Examples:\n",
    "\n",
    "    `evenly_divisible(1, 10, 20) ➞ 0     # No number between 1 and 10 can be evenly divided by 20.`\n",
    "\n",
    "    `evenly_divisible(1, 10, 2) ➞ 30     # 2 + 4 + 6 + 8 + 10 = 30 evenly_divisible(1, 10, 3) ➞ 18     # 3 + 6 + 9 = 18`"
   ]
  },
  {
   "cell_type": "code",
   "execution_count": 1,
   "metadata": {},
   "outputs": [
    {
     "name": "stdout",
     "output_type": "stream",
     "text": [
      "0\n",
      "30\n",
      "18\n"
     ]
    }
   ],
   "source": [
    "def evenly_divisible(a, b, c):\n",
    "    total = 0\n",
    "    for num in range(a, b + 1):\n",
    "        if num % c == 0:\n",
    "            total += num\n",
    "    return total\n",
    "\n",
    "\n",
    "print(evenly_divisible(1, 10, 20)) \n",
    "print(evenly_divisible(1, 10, 2))   \n",
    "print(evenly_divisible(1, 10, 3))  "
   ]
  },
  {
   "cell_type": "markdown",
   "metadata": {},
   "source": [
    "2. Create a function that returns True if a given inequality expression is correct and False otherwise ?\n",
    "\n",
    "    Examples:\n",
    "\n",
    "    `correct_signs(\"3 < 7 < 11\") ➞ True`\n",
    "\n",
    "    `correct_signs(\"13 > 44 > 33 > 1\") ➞ False`\n",
    "    \n",
    "    `correct_signs(\"1 < 2 < 6 < 9 > 3\") ➞ True`"
   ]
  },
  {
   "cell_type": "code",
   "execution_count": 2,
   "metadata": {},
   "outputs": [
    {
     "name": "stdout",
     "output_type": "stream",
     "text": [
      "True\n",
      "False\n",
      "True\n"
     ]
    }
   ],
   "source": [
    "def correct_signs(expression):\n",
    "    return eval(expression)\n",
    "\n",
    "\n",
    "print(correct_signs(\"3 < 7 < 11\"))       \n",
    "print(correct_signs(\"13 > 44 > 33 > 1\")) \n",
    "print(correct_signs(\"1 < 2 < 6 < 9 > 3\"))"
   ]
  },
  {
   "cell_type": "markdown",
   "metadata": {},
   "source": [
    "3. Create a function that replaces all the vowels in a string with a specified character ?\n",
    "\n",
    "    Examples:\n",
    "\n",
    "    `replace_vowels(\"the aardvark\", \"#\") ➞ \"th# ##rdv#rk\"`\n",
    "\n",
    "    `replace_vowels(\"minnie mouse\", \"?\") ➞ \"m?nn?? m??s?\"`\n",
    "    \n",
    "    `replace_vowels(\"shakespeare\", \"*\") ➞ \"shksp**r\"`"
   ]
  },
  {
   "cell_type": "code",
   "execution_count": 3,
   "metadata": {},
   "outputs": [
    {
     "name": "stdout",
     "output_type": "stream",
     "text": [
      "th# ##rdv#rk\n",
      "m?nn?? m??s?\n",
      "sh*k*sp**r*\n"
     ]
    }
   ],
   "source": [
    "def replace_vowels(string, char):\n",
    "    vowels = 'aeiouAEIOU'\n",
    "    result = ''\n",
    "    for ch in string:\n",
    "        if ch in vowels:\n",
    "            result += char\n",
    "        else:\n",
    "            result += ch\n",
    "    return result\n",
    "\n",
    "print(replace_vowels(\"the aardvark\", \"#\"))  \n",
    "print(replace_vowels(\"minnie mouse\", \"?\")) \n",
    "print(replace_vowels(\"shakespeare\", \"*\")) "
   ]
  },
  {
   "cell_type": "markdown",
   "metadata": {},
   "source": [
    "4. Write a function that calculates the factorial of a number recursively ?\n",
    "\n",
    "    Examples:\n",
    "\n",
    "    `factorial(5) ➞ 120`\n",
    "\n",
    "    `factorial(3) ➞ 6`\n",
    "\n",
    "    `factorial(1) ➞ 1`\n",
    "    \n",
    "    `factorial(0) ➞ 1`"
   ]
  },
  {
   "cell_type": "code",
   "execution_count": 4,
   "metadata": {},
   "outputs": [
    {
     "name": "stdout",
     "output_type": "stream",
     "text": [
      "120\n",
      "6\n",
      "1\n",
      "1\n"
     ]
    }
   ],
   "source": [
    "def factorial(n):\n",
    "    if n == 0 or n == 1:\n",
    "        return 1\n",
    "    else:\n",
    "        return n * factorial(n - 1)\n",
    "\n",
    "print(factorial(5)) \n",
    "print(factorial(3)) \n",
    "print(factorial(1)) \n",
    "print(factorial(0)) "
   ]
  },
  {
   "cell_type": "markdown",
   "metadata": {},
   "source": [
    "5. Hamming distance is the number of characters that differ between two strings ?\n",
    "\n",
    "    To illustrate:\n",
    "\n",
    "    `String1: \"abcbba\"`\n",
    "\n",
    "    `String2: \"abcbda\"`\n",
    "\n",
    "    Hamming Distance: 1 - \"b\" vs. \"d\" is the only difference.\n",
    "\n",
    "    Create a function that computes the hamming distance between two strings.\n",
    "\n",
    "    Examples:\n",
    "\n",
    "    `hamming_distance(\"abcde\", \"bcdef\") ➞ 5`\n",
    "\n",
    "    `hamming_distance(\"abcde\", \"abcde\") ➞ 0`\n",
    "    \n",
    "    `hamming_distance(\"strong\", \"strung\") ➞ 1`"
   ]
  },
  {
   "cell_type": "code",
   "execution_count": 5,
   "metadata": {},
   "outputs": [
    {
     "name": "stdout",
     "output_type": "stream",
     "text": [
      "5\n",
      "0\n",
      "1\n"
     ]
    }
   ],
   "source": [
    "def hamming_distance(str1, str2):\n",
    "    if len(str1) != len(str2):\n",
    "        raise ValueError(\"Strings must have the same length\")\n",
    "\n",
    "    distance = 0\n",
    "    \n",
    "    for ch1, ch2 in zip(str1, str2):\n",
    "        if ch1 != ch2:\n",
    "            distance += 1\n",
    "    \n",
    "    return distance\n",
    "\n",
    "\n",
    "print(hamming_distance(\"abcde\", \"bcdef\")) \n",
    "print(hamming_distance(\"abcde\", \"abcde\"))  \n",
    "print(hamming_distance(\"strong\", \"strung\")) "
   ]
  }
 ],
 "metadata": {
  "kernelspec": {
   "display_name": "base",
   "language": "python",
   "name": "python3"
  },
  "language_info": {
   "codemirror_mode": {
    "name": "ipython",
    "version": 3
   },
   "file_extension": ".py",
   "mimetype": "text/x-python",
   "name": "python",
   "nbconvert_exporter": "python",
   "pygments_lexer": "ipython3",
   "version": "3.11.5"
  }
 },
 "nbformat": 4,
 "nbformat_minor": 2
}
