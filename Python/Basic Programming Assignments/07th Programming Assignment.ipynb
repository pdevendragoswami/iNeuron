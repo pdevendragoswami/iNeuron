{
 "cells": [
  {
   "cell_type": "markdown",
   "id": "4e8f23b1-3e19-4a06-a0ca-ccda756f8ace",
   "metadata": {},
   "source": [
    "1. Write a Python Program to find sum of array?"
   ]
  },
  {
   "cell_type": "code",
   "execution_count": null,
   "id": "094db3f2-51e9-43a6-b3fb-203ec85ddeb3",
   "metadata": {},
   "outputs": [],
   "source": [
    "def array_sum(array):\n",
    "    total = 0\n",
    "    for i in array:\n",
    "        total += i\n",
    "    return (f\"The sum of given array is {total}\")\n",
    "\n",
    "array_sum([1,2,5,7,3,4])"
   ]
  },
  {
   "cell_type": "markdown",
   "id": "34fdc36b-7d66-41eb-9270-67650ba60ab7",
   "metadata": {},
   "source": [
    "2. Write a Python Program to find largest element in an array?"
   ]
  },
  {
   "cell_type": "code",
   "execution_count": 2,
   "id": "c10aaa6c-e3ca-4adc-a88d-3cf9e58ef682",
   "metadata": {},
   "outputs": [
    {
     "data": {
      "text/plain": [
       "'The largest element of given array is 13'"
      ]
     },
     "execution_count": 2,
     "metadata": {},
     "output_type": "execute_result"
    }
   ],
   "source": [
    "def max_element(array):\n",
    "    max_value = 0\n",
    "    for i in range(len(array)):\n",
    "        if max_value < array[i]:\n",
    "            max_value = array[i]\n",
    "            \n",
    "    return (f\"The largest element of given array is {max_value}\")\n",
    "\n",
    "\n",
    "max_element([1,12,5,7,13,4])"
   ]
  },
  {
   "cell_type": "markdown",
   "id": "bcfdc0e2-5199-461b-852d-a896e10d9132",
   "metadata": {},
   "source": [
    "3. Write a Python Program for array rotation?"
   ]
  },
  {
   "cell_type": "code",
   "execution_count": 3,
   "id": "4183af19-0973-4b1c-8f64-a5126d0660d6",
   "metadata": {},
   "outputs": [
    {
     "data": {
      "text/plain": [
       "'Original array:, [1, 2, 3, 4, 5], Rotated array:, [4, 5, 1, 2, 3]'"
      ]
     },
     "execution_count": 3,
     "metadata": {},
     "output_type": "execute_result"
    }
   ],
   "source": [
    "def rotate_array(arr, k):\n",
    "    n = len(arr)\n",
    "    k = k % n \n",
    "\n",
    "  \n",
    "    rotated_arr = [0] * n\n",
    "\n",
    "    \n",
    "    for i in range(n):\n",
    "        rotated_arr[(i + k) % n] = arr[i]\n",
    "\n",
    "    return (f\"Original array:, {arr}, Rotated array:, {rotated_arr}\")\n",
    "\n",
    "\n",
    "arr = [1, 2, 3, 4, 5]\n",
    "k = 2\n",
    "\n",
    "rotate_array(arr, k)"
   ]
  },
  {
   "cell_type": "markdown",
   "id": "0290d40c-239c-425c-9c92-c65a4d1694de",
   "metadata": {},
   "source": [
    "4. Write a Python Program to Split the array and add the first part to the end?"
   ]
  },
  {
   "cell_type": "code",
   "execution_count": 4,
   "id": "d4b27103-9517-4596-80e1-f682a9dddfae",
   "metadata": {},
   "outputs": [
    {
     "data": {
      "text/plain": [
       "'Original Array:, [1, 2, 3, 4, 5], Array after splitting and adding to the end:, [3, 4, 5, 1, 2]'"
      ]
     },
     "execution_count": 4,
     "metadata": {},
     "output_type": "execute_result"
    }
   ],
   "source": [
    "def split_and_add_to_end(array, split_index):\n",
    "   \n",
    "    first_part = array[:split_index]\n",
    "    second_part = array[split_index:]\n",
    "\n",
    "    result = second_part + first_part\n",
    "\n",
    "    return (f\"Original Array:, {array}, Array after splitting and adding to the end:, {result}\")\n",
    "\n",
    "arr = [1, 2, 3, 4, 5]\n",
    "split_index = 2\n",
    "split_and_add_to_end(arr, split_index)\n"
   ]
  },
  {
   "cell_type": "markdown",
   "id": "8e363c7f-4784-4dc2-8c59-6049dbebb525",
   "metadata": {},
   "source": [
    "5. Write a Python Program to check if given array is Monotonic?"
   ]
  },
  {
   "cell_type": "code",
   "execution_count": 5,
   "id": "75d3813a-b7d0-4900-bf62-c1f942f9730e",
   "metadata": {},
   "outputs": [
    {
     "data": {
      "text/plain": [
       "True"
      ]
     },
     "execution_count": 5,
     "metadata": {},
     "output_type": "execute_result"
    }
   ],
   "source": [
    "def monotonic_array(array):\n",
    "    inc = True\n",
    "    dec = True\n",
    "    for i in range(len(array)-1):\n",
    "            if array[i]<array[i+1]:\n",
    "                dec = False\n",
    "                \n",
    "            if array[i]>array[i+1]:\n",
    "                inc = False\n",
    "    if (inc or dec) == True:\n",
    "        return (f\"The given array is monotonic array\")\n",
    "    else:\n",
    "        return (f\"The given array is not monotonic array\")\n",
    "   \n",
    "    \n",
    "        \n",
    "monotonic_array([8,12,17,23])"
   ]
  },
  {
   "cell_type": "code",
   "execution_count": null,
   "id": "badb655d-f01c-4346-aac8-72379b5158cf",
   "metadata": {},
   "outputs": [],
   "source": []
  },
  {
   "cell_type": "code",
   "execution_count": null,
   "id": "0560365d-37fe-48b5-9cf9-1e9445435616",
   "metadata": {},
   "outputs": [],
   "source": []
  }
 ],
 "metadata": {
  "kernelspec": {
   "display_name": "Python 3 (ipykernel)",
   "language": "python",
   "name": "python3"
  },
  "language_info": {
   "codemirror_mode": {
    "name": "ipython",
    "version": 3
   },
   "file_extension": ".py",
   "mimetype": "text/x-python",
   "name": "python",
   "nbconvert_exporter": "python",
   "pygments_lexer": "ipython3",
   "version": "3.10.8"
  }
 },
 "nbformat": 4,
 "nbformat_minor": 5
}
