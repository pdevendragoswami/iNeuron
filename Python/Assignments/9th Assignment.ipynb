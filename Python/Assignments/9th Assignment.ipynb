{
 "cells": [
  {
   "cell_type": "markdown",
   "metadata": {},
   "source": [
    "1.To what does a relative path refer ?\n",
    "\n",
    "- A relative path refers to the location of a file or directory relative to the current working directory.\n",
    "- It does not include the full path starting from the root directory of the file system. Instead, it describes the path in relation to where the program or script is currently executing.\n",
    "- For example,Suppose I have a file called `test.txt` in: `C:/users/admin/documents/test.txt`,then relative path will be: `documnents/test.txt`."
   ]
  },
  {
   "cell_type": "markdown",
   "metadata": {},
   "source": [
    "2.Where does an absolute path start with your Operating System ?\n",
    "\n",
    "- In Linux based systems the absolute path starts with `/`. For example, the path may look like this: `\"/home/user/admin/documents/example.txt\"`\n",
    "\n",
    "- In Windows based systems absolute path starts with `C:`. For example, the path may look like this: `\"C:\\home\\user\\admin\\documents\\example.txt\"`\n",
    "\n"
   ]
  },
  {
   "cell_type": "code",
   "execution_count": 2,
   "metadata": {},
   "outputs": [
    {
     "name": "stdout",
     "output_type": "stream",
     "text": [
      "c:\\Users\\Devendra\\Projects\\Assignments\\Python\n",
      "c:\\Users\\Devendra\\Projects\\Assignments\n"
     ]
    }
   ],
   "source": [
    "import os\n",
    "\n",
    "print(os.getcwd()) # Prints the current Working Directory\n",
    "\n",
    "path = r'C:\\Users\\Devendra\\Projects\\Assignments'\n",
    "\n",
    "os.chdir(path)  #changing the working directory\n",
    "print(os.getcwd())\n"
   ]
  },
  {
   "cell_type": "markdown",
   "metadata": {},
   "source": [
    "4.What are . and .. folders ?\n",
    "\n",
    "- `.` (dot) represents the current directory(`'C:\\Users\\Devendra\\Projects\\Assignments\\Python'`).\n",
    "- `..` (double dot) represents the parent directory of the current directory (`'C:\\Users\\Devendra\\Projects\\Assignments`).\n",
    "\n"
   ]
  },
  {
   "cell_type": "markdown",
   "metadata": {},
   "source": [
    "5.In `C:\\bacon\\eggs\\spam.txt` which part is the dir name and which part is the base name ?\n",
    "\n",
    "- For C:\\bacon\\eggs\\spam.txt\n",
    "    - The dir name is:  `C:\\bacon\\eggs`\n",
    "    - The Base name is: `spam.txt`\n"
   ]
  },
  {
   "cell_type": "code",
   "execution_count": 7,
   "metadata": {},
   "outputs": [
    {
     "name": "stdout",
     "output_type": "stream",
     "text": [
      "Directory name:  C:\\bacon\\eggs\n",
      "Base name:  spam.txt\n"
     ]
    }
   ],
   "source": [
    "import os\n",
    "path = r'C:\\bacon\\eggs\\spam.txt'\n",
    "print(\"Directory name: \",os.path.dirname(path))\n",
    "print(\"Base name: \",os.path.basename(path))"
   ]
  },
  {
   "cell_type": "markdown",
   "metadata": {},
   "source": [
    "6.What are the three mode arguments that can be passed to the open() function ?\n",
    "\n",
    "The `open()` function can take the following three mode arguments:\n",
    "\n",
    "1. `Read mode ('r')`: This is the default mode. It opens the file for reading. If the file does not exist, it will raise an error.\n",
    "\n",
    "2. `Write mode ('w')`: This mode opens the file for writing. If the file does not exist, it creates a new file. If the file exists, it remove the previous content of the file before writing.\n",
    "\n",
    "3. `Append mode ('a')`: This mode opens the file for writing but does not overwrite the file. Instead, it appends new data to the end of the file. If the file does not exist, it creates a new file.\n",
    "\n"
   ]
  },
  {
   "cell_type": "markdown",
   "metadata": {},
   "source": [
    "7.What happens if an existing file is opened in write mode ?\n",
    "\n",
    "- If an existing file is openend in write mode, then it will overwrite the content.\n",
    "- If file is not exist, it will create a new one.\n",
    "."
   ]
  },
  {
   "cell_type": "markdown",
   "metadata": {},
   "source": [
    "8.How do you tell the difference between read() and readlines() ?\n",
    "\n",
    "- `read()`: This method reads the entire contents of the file as a single string. It reads from the current file position up to the end of the file or up to the number of bytes specified as an argument. If no argument is provided, it reads the entire file.\n",
    "\n",
    "- `readlines()`: This method reads all lines from the file and returns them as a list of strings, where each string represents a line from the file. It reads from the current file position to the end of the file.\n",
    "\n",
    "- In summary, `read()` returns a single string containing the entire file's contents, while `readlines()` returns a list of strings, each string representing a line from the file."
   ]
  },
  {
   "cell_type": "markdown",
   "metadata": {},
   "source": [
    "9.What data structure does a shelf value resemble ?\n",
    "\n",
    "- A shelf value resembles a dictionary data structure and is used to store key-value pairs persistently on disk. "
   ]
  },
  {
   "cell_type": "markdown",
   "metadata": {},
   "source": []
  }
 ],
 "metadata": {
  "kernelspec": {
   "display_name": "base",
   "language": "python",
   "name": "python3"
  },
  "language_info": {
   "codemirror_mode": {
    "name": "ipython",
    "version": 3
   },
   "file_extension": ".py",
   "mimetype": "text/x-python",
   "name": "python",
   "nbconvert_exporter": "python",
   "pygments_lexer": "ipython3",
   "version": "3.11.5"
  }
 },
 "nbformat": 4,
 "nbformat_minor": 2
}
