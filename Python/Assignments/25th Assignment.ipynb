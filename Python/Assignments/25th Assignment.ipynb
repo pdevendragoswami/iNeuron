{
 "cells": [
  {
   "cell_type": "markdown",
   "metadata": {},
   "source": [
    "1. What is the difference between enclosing a list comprehension in square brackets and parentheses?\n",
    "-  Enclosing a list comprehension in square brackets `[]` returns a `list`.\n",
    "-  Enclosing a list comprehension in parentheses `()` returns a `generator` object"
   ]
  },
  {
   "cell_type": "code",
   "execution_count": 1,
   "metadata": {},
   "outputs": [
    {
     "name": "stdout",
     "output_type": "stream",
     "text": [
      "[0, 1, 4, 9, 16]\n",
      "<class 'list'>\n"
     ]
    }
   ],
   "source": [
    "squares_list = [x**2 for x in range(5)]\n",
    "print(squares_list)\n",
    "print(type(squares_list))"
   ]
  },
  {
   "cell_type": "code",
   "execution_count": 2,
   "metadata": {},
   "outputs": [
    {
     "name": "stdout",
     "output_type": "stream",
     "text": [
      "<generator object <genexpr> at 0x00000248087CB780>\n",
      "<class 'generator'>\n"
     ]
    }
   ],
   "source": [
    "squares_generator = (x**2 for x in range(5))\n",
    "print(squares_generator)\n",
    "print(type(squares_generator))"
   ]
  },
  {
   "cell_type": "markdown",
   "metadata": {},
   "source": [
    "2. What is the relationship between generators and iterators?\n",
    "\n",
    "- Iterators and generators are both mechanisms in Python for iterating over sequences of data, but they differ in their implementation and usage.\n",
    "    - Iterators:\n",
    "        - An iterator is an object that contains a countable number of values and is used to iterate over iterable objects like lists, tuples, sets, etc.\n",
    "        - Iterators are implemented using a class. They follow lazy evaluation, meaning that the evaluation of the expression is deferred until the item is specifically requested.\n",
    "        - Lazy evaluation helps conserve memory by processing values only as they are needed, reducing the need to load the entire dataset into memory at once.\n",
    "        - `iter()` is used to create an iterator containing an iterable object, and `next()` is used to call the next element in the iterable object.\n",
    "\n",
    "    - Generators:\n",
    "        - Generators provide an alternative way of creating iterators, using the `yield` statement instead of the `return` statement in a defined function.\n",
    "        - Generators are implemented using functions. They also follow lazy evaluation.\n",
    "        - When a generator function is called, it returns a generator object that can be iterated over.\n",
    "        - The `yield` statement allows the function to return data without exiting the function. It generates a sequence of data in an iterable format.\n",
    "        - Generators are useful for dealing with large datasets as they don't store the entire sequence in memory at once.\n",
    "\n",
    "    In summary, all generators are iterators, but not all iterators are generators. Generators are a specific kind of iterator that is created using generator functions or expressions and allows you to iterate over a sequence of values without creating a full list in memory.\n",
    "\n",
    "\n",
    "\n",
    "\n"
   ]
  },
  {
   "cell_type": "code",
   "execution_count": 3,
   "metadata": {},
   "outputs": [
    {
     "name": "stdout",
     "output_type": "stream",
     "text": [
      "<class 'list_iterator'>\n",
      "iNeuron\n",
      "Full\n",
      "Stack\n",
      "Data Science\n"
     ]
    }
   ],
   "source": [
    "iter_str = iter(['iNeuron', 'Full', 'Stack', 'Data Science'])\n",
    "print(type(iter_str))  \n",
    "print(next(iter_str))  \n",
    "print(next(iter_str)) \n",
    "print(next(iter_str))\n",
    "print(next(iter_str))  "
   ]
  },
  {
   "cell_type": "code",
   "execution_count": 4,
   "metadata": {},
   "outputs": [
    {
     "name": "stdout",
     "output_type": "stream",
     "text": [
      "<class 'generator'>\n",
      "0\n",
      "1\n",
      "4\n",
      "9\n",
      "16\n"
     ]
    }
   ],
   "source": [
    "def square_numbers(number):\n",
    "    for num in range(number+1):\n",
    "        yield num**2\n",
    "\n",
    "out_num = square_numbers(4)\n",
    "print(type(out_num))\n",
    "print(next(out_num))\n",
    "print(next(out_num))\n",
    "print(next(out_num))\n",
    "print(next(out_num))\n",
    "print(next(out_num))"
   ]
  },
  {
   "cell_type": "markdown",
   "metadata": {},
   "source": [
    "3) What are the signs that a function is a generator function?\n",
    "- A generator function use `yield` statement to yield a series of values.\n",
    "- A generator function do not have  `return` statement like regular function.\n",
    "- A generator function always return a iterable object called generator."
   ]
  },
  {
   "cell_type": "markdown",
   "metadata": {},
   "source": [
    "4) What is the purpose of a yield statement?\n",
    "\n",
    "- The yield statement is used within generator functions to produce a sequence of values one at a time. \n",
    "It allows the function to return a value and pause its execution, saving its state, so that it can resume from where it left off when called again.This allows the generators to produce a sequence of values lazily, only generating the next value when requested, which can be more memory-efficient compared to generating all values upfront and storing them in memory.\n"
   ]
  },
  {
   "cell_type": "markdown",
   "metadata": {},
   "source": [
    "5) What is the relationship between map calls and list comprehensions? Make a comparison and contrast between the two ?\n",
    "\n",
    "- Both `map` calls and list comprehensions are used to apply a function to each element of an iterable (like a list) and return a new iterable with the transformed elements. However, they differ in terms of syntax and behavior.\n",
    "\n",
    "    **Map:**\n",
    "    - `map` is a higher-order function that takes a function and one or more iterables as arguments.\n",
    "    - It applies the given function to each element of the iterables, in parallel, and returns an iterator that yields the results.\n",
    "    - `map` returns a map object, which is an iterator. To get the result as a list, you need to explicitly convert it using `list()`.\n",
    "\n",
    "    **List Comprehension:**\n",
    "    - List comprehensions provide a concise way to create lists by applying an expression to each element of an iterable.\n",
    "    - They have a more readable and compact syntax compared to `map`.\n",
    "    - List comprehensions can also include conditions, allowing you to filter elements based on a condition.\n",
    "\n",
    "    **Comparison:**\n",
    "    - List comprehensions are generally more readable and Pythonic, especially for simple transformations or filtering.\n",
    "    - `map` can be more suitable when applying a function that is already defined and for cases where you want to apply the same transformation to multiple iterables in parallel.\n",
    "    - List comprehensions can be more expressive, as they allow for more complex operations and conditions within the comprehension itself.\n",
    "    - `map` returns an iterator, which can be more memory-efficient for large datasets, as it computes values on demand, while list comprehensions create the entire list in memory.\n",
    "\n",
    "    **Contrast:**\n",
    "    - List comprehensions are written within square brackets `[...]`, while `map` is a function call.\n",
    "    - List comprehensions are more concise and readable, especially for simple transformations or filtering.\n",
    "    - `map` can be more suitable when applying a function that is already defined and for cases where you want to apply the same transformation to multiple iterables in parallel.\n",
    "    - List comprehensions allow for more complex operations and conditions within the comprehension itself, while `map` is limited to applying a function to each element.\n",
    "\n",
    "    In summary, both `map` calls and list comprehensions are useful for transforming and processing iterables, but list comprehensions are often preferred for their readability and expressiveness."
   ]
  },
  {
   "cell_type": "markdown",
   "metadata": {},
   "source": []
  }
 ],
 "metadata": {
  "kernelspec": {
   "display_name": "base",
   "language": "python",
   "name": "python3"
  },
  "language_info": {
   "codemirror_mode": {
    "name": "ipython",
    "version": 3
   },
   "file_extension": ".py",
   "mimetype": "text/x-python",
   "name": "python",
   "nbconvert_exporter": "python",
   "pygments_lexer": "ipython3",
   "version": "3.11.5"
  }
 },
 "nbformat": 4,
 "nbformat_minor": 2
}
