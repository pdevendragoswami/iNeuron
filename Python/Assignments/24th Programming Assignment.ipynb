{
 "cells": [
  {
   "cell_type": "markdown",
   "metadata": {},
   "source": [
    "1. Create a function that takes an integer and returns a list from 1 to the given number, where:\n",
    "\n",
    "    1. If the number can be divided evenly by 4, amplify it by 10 (i.e. return 10 times the number).\n",
    "    2. If the number cannot be divided evenly by 4, simply return the number.\n",
    "\n",
    "    Examples:\n",
    "\n",
    "    `amplify(4) ➞ [1, 2, 3, 40]`\n",
    "\n",
    "    `amplify(3) ➞ [1, 2, 3]`\n",
    "    \n",
    "    `amplify(25) ➞ [1, 2, 3, 40, 5, 6, 7, 80, 9, 10, 11, 120, 13, 14, 15, 160, 17, 18, 19, 200, 21, 22, 23, 240, 25]`\n",
    "\n",
    "    Notes:\n",
    "    1. The given integer will always be equal to or greater than 1.\n",
    "    2. Include the number (see example above).\n",
    "    3. To perform this problem with its intended purpose, try doing it with list"
   ]
  },
  {
   "cell_type": "code",
   "execution_count": 1,
   "metadata": {},
   "outputs": [
    {
     "name": "stdout",
     "output_type": "stream",
     "text": [
      "[1, 2, 3, 40]\n",
      "[1, 2, 3]\n",
      "[1, 2, 3, 40, 5, 6, 7, 80, 9, 10, 11, 120, 13, 14, 15, 160, 17, 18, 19, 200, 21, 22, 23, 240, 25]\n"
     ]
    }
   ],
   "source": [
    "def amplify(num):\n",
    "    return [n * 10 if n % 4 == 0 else n for n in range(1, num + 1)]\n",
    "\n",
    "print(amplify(4)) \n",
    "print(amplify(3))\n",
    "print(amplify(25))"
   ]
  },
  {
   "cell_type": "markdown",
   "metadata": {},
   "source": [
    "2. Create a function that takes a list of numbers and return the number that's unique.\n",
    "\n",
    "    Examples:\n",
    "\n",
    "    `unique([3, 3, 3, 7, 3, 3]) ➞ 7`\n",
    "\n",
    "    `unique([0, 0, 0.77, 0, 0]) ➞ 0.77`\n",
    "\n",
    "    `unique([0, 1, 1, 1, 1, 1, 1, 1]) ➞ 0`\n",
    "\n",
    "    Notes:\n",
    "\n",
    "    Test cases will always have exactly one unique number while all others are the same."
   ]
  },
  {
   "cell_type": "code",
   "execution_count": 2,
   "metadata": {},
   "outputs": [
    {
     "name": "stdout",
     "output_type": "stream",
     "text": [
      "7\n",
      "0.77\n",
      "0\n"
     ]
    }
   ],
   "source": [
    "def unique(lst):\n",
    "    count_dict = {}\n",
    "    for num in lst:\n",
    "        count_dict[num] = count_dict.get(num, 0) + 1\n",
    "\n",
    "    for num, count in count_dict.items():\n",
    "        if count == 1:\n",
    "            return num\n",
    "\n",
    "print(unique([3, 3, 3, 7, 3, 3])) \n",
    "print(unique([0, 0, 0.77, 0, 0])) \n",
    "print(unique([0, 1, 1, 1, 1, 1, 1, 1]))"
   ]
  },
  {
   "cell_type": "markdown",
   "metadata": {},
   "source": [
    "3. Your task is to create a Circle constructor that creates a circle with a radius provided by an argument. The circles constructed must have two getters getArea() (PIr^2) and getPerimeter() (2PI*r) which give both respective areas and perimeter (circumference). For help with this class, I have provided you with a Rectangle constructor which you can use as a base example ?\n",
    "    Examples:\n",
    "\n",
    "    `circy = Circle(11)`\n",
    "\n",
    "    `circy.getArea()` #Should return 380.132711084365 \n",
    "    \n",
    "    `circy = Circle(4.44)`\n",
    "\n",
    "    `circy.getPerimeter()` #Should return 27.897342763877365\n",
    "\n",
    "    Notes:\n",
    "\n",
    "    Round results up to the nearest integer"
   ]
  },
  {
   "cell_type": "code",
   "execution_count": 3,
   "metadata": {},
   "outputs": [
    {
     "name": "stdout",
     "output_type": "stream",
     "text": [
      "380\n",
      "69\n",
      "62\n",
      "28\n"
     ]
    }
   ],
   "source": [
    "import math\n",
    "\n",
    "class Circle():\n",
    "    def __init__(self, radius):\n",
    "        self.radius = radius\n",
    "\n",
    "    def getArea(self):\n",
    "        area = math.pi * self.radius ** 2\n",
    "        return round(area)\n",
    "\n",
    "    def getPerimeter(self):\n",
    "        perimeter = 2 * math.pi * self.radius\n",
    "        return round(perimeter)\n",
    "\n",
    "circy = Circle(11)\n",
    "print(circy.getArea()) \n",
    "print(circy.getPerimeter())  \n",
    "\n",
    "circy = Circle(4.44)\n",
    "print(circy.getArea()) \n",
    "print(circy.getPerimeter())"
   ]
  },
  {
   "cell_type": "markdown",
   "metadata": {},
   "source": [
    "4. Create a function that takes a list of strings and return a list, sorted from shortest to longest.\n",
    "\n",
    "    Examples:\n",
    "\n",
    "    `sort_by_length([\"Google\", \"Apple\", \"Microsoft\"]) ➞ [\"Apple\", \"Google\", \"Microsoft\"]`\n",
    "\n",
    "    `sort_by_length([\"Leonardo\", \"Michelangelo\", \"Raphael\", \"Donatello\"]) ➞ [\"Raphael\", \"Leonardo\", \"Donatello\", \"Michelangelo\"]`\n",
    "    \n",
    "    `sort_by_length([\"Turing\", \"Einstein\", \"Jung\"]) ➞ [\"Jung\", \"Turing\", \"Einstein\"]`\n",
    "\n",
    "    Notes:\n",
    "    \n",
    "    All test cases contain lists with strings of different lengths, so you won't have to deal with multiple strings of the same length."
   ]
  },
  {
   "cell_type": "code",
   "execution_count": 4,
   "metadata": {},
   "outputs": [
    {
     "name": "stdout",
     "output_type": "stream",
     "text": [
      "['Apple', 'Google', 'Microsoft']\n",
      "['Raphael', 'Leonardo', 'Donatello', 'Michelangelo']\n",
      "['Jung', 'Turing', 'Einstein']\n"
     ]
    }
   ],
   "source": [
    "def sort_by_length(lst):\n",
    "    sorted_lst = sorted(lst, key=len)\n",
    "    return sorted_lst\n",
    "\n",
    "print(sort_by_length([\"Google\", \"Apple\", \"Microsoft\"]))\n",
    "print(sort_by_length([\"Leonardo\", \"Michelangelo\", \"Raphael\", \"Donatello\"]))  \n",
    "print(sort_by_length([\"Turing\", \"Einstein\", \"Jung\"]))"
   ]
  },
  {
   "cell_type": "markdown",
   "metadata": {},
   "source": [
    "5. Create a function that validates whether three given integers form a Pythagorean triplet. The sum of the squares of the two smallest integers must equal the square of the largest number to be validated.\n",
    "\n",
    "    Examples:\n",
    "\n",
    "    `is_triplet(3, 4, 5) ➞ True     # 3² + 4² = 25     # 5² = 25`\n",
    "    \n",
    "    `is_triplet(13, 5, 12) ➞ True     # 5² + 12² = 169     # 13² = 169`\n",
    "    \n",
    "    `is_triplet(1, 2, 3) ➞ False     # 1² + 2² = 5     # 3² = 9`\n",
    "\n",
    "    Notes: Numbers may not be given in a sorted order."
   ]
  },
  {
   "cell_type": "code",
   "execution_count": 5,
   "metadata": {},
   "outputs": [
    {
     "name": "stdout",
     "output_type": "stream",
     "text": [
      "[3, 4, 5]\n",
      "True\n",
      "[5, 12, 13]\n",
      "True\n",
      "[1, 2, 3]\n",
      "False\n"
     ]
    }
   ],
   "source": [
    "def is_triplet(a, b, c):\n",
    "    numbers = sorted([a, b, c])\n",
    "    print(numbers)\n",
    "    return (numbers[0] ** 2 + numbers[1] ** 2 == numbers[2] ** 2)\n",
    "\n",
    "print(is_triplet(3, 4, 5)) \n",
    "print(is_triplet(13, 5, 12)) \n",
    "print(is_triplet(1, 2, 3))"
   ]
  }
 ],
 "metadata": {
  "kernelspec": {
   "display_name": "base",
   "language": "python",
   "name": "python3"
  },
  "language_info": {
   "codemirror_mode": {
    "name": "ipython",
    "version": 3
   },
   "file_extension": ".py",
   "mimetype": "text/x-python",
   "name": "python",
   "nbconvert_exporter": "python",
   "pygments_lexer": "ipython3",
   "version": "3.11.5"
  }
 },
 "nbformat": 4,
 "nbformat_minor": 2
}
