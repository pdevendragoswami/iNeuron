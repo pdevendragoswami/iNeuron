{
 "cells": [
  {
   "cell_type": "markdown",
   "metadata": {},
   "source": [
    "1. Is the Python Standard Library included with PyInputPlus?\n",
    "\n",
    "- No, the Python Standard Library is not included with PyInputPlus.\n",
    "- PyInputPlus is a separate library which can be installed usinhg the pip: `pip install PyInputPlus`."
   ]
  },
  {
   "cell_type": "markdown",
   "metadata": {},
   "source": [
    "2. Why is PyInputPlus commonly imported with import pyinputplus as pypi?\n",
    "\n",
    "- The module PyInputPlus commonly imported with import pyinputplus as pyip so that we can enter a shorter name when calling the module's functions."
   ]
  },
  {
   "cell_type": "markdown",
   "metadata": {},
   "source": [
    "3. How do you distinguish between inputInt() and inputFloat()?\n",
    "\n",
    "- InputInt() function Accepts an integer value and it always returns an int. It also allows additional parameters like min, max, greaterThan and lessThan for bounds. .\n",
    "\n",
    "- InputFloat() function Accepts a floating-point numeric value and always returns a float. It also allows additional min, max, greaterThan and lessThan parameters."
   ]
  },
  {
   "cell_type": "markdown",
   "metadata": {},
   "source": [
    "4. Using PyInputPlus, how do you ensure that the user enters a whole number between 0 and 99?\n",
    "\n",
    "- Inorder to restrict the input whole number between 0 and 99,we will use `inputInt()` with the 'min' and 'max' function. "
   ]
  },
  {
   "cell_type": "code",
   "execution_count": 3,
   "metadata": {},
   "outputs": [
    {
     "name": "stdout",
     "output_type": "stream",
     "text": [
      "Enter a number: 2\n"
     ]
    }
   ],
   "source": [
    "import pyinputplus as pyip\n",
    "wholenumber = pyip.inputInt(prompt='Enter a number: ', min=0, max=100)\n",
    "print(wholenumber)"
   ]
  },
  {
   "cell_type": "markdown",
   "metadata": {},
   "source": [
    "5. What is transferred to the keyword arguments allowRegexes and blockRegexes?\n",
    "\n",
    "- The `allowRegexes` and `blockRegexes` keyword arguments are used to specify regular expressions that define patterns of text that are either allowed or blocked from being entered by the user.\n",
    "\n",
    "- `allowRegexes`: This argument accepts a list of regular expression patterns. If any of these patterns match the input provided by the user, the input will be considered valid. Only inputs that match one of the patterns in `allowRegexes` will be accepted.\n",
    "\n",
    "- `blockRegexes`: Conversely, this argument also accepts a list of regular expression patterns. If any of these patterns match the input provided by the user, the input will be considered invalid, and the user will be prompted to enter a different value.\n"
   ]
  },
  {
   "cell_type": "markdown",
   "metadata": {},
   "source": [
    "6. If a blank input is entered three times, what does inputStr(limit=3) do?\n",
    "\n",
    "- If a blank input is entered three times while using `inputStr(limit=3)`, it will raise a `TimeoutException`.\n",
    "- This exception is raised when the user exceeds the specified limit for the number of attempts to provide valid input.\n"
   ]
  },
  {
   "cell_type": "markdown",
   "metadata": {},
   "source": [
    "7. If blank input is entered three times, what does inputStr(limit=3, default='hello') do?\n",
    "\n",
    "- Since the default parameter is set to `'hello'`. After blank input is entered three times instead of raising `TimeoutException` exception. the function will return the default value `'hello'`."
   ]
  },
  {
   "cell_type": "markdown",
   "metadata": {},
   "source": []
  }
 ],
 "metadata": {
  "kernelspec": {
   "display_name": "base",
   "language": "python",
   "name": "python3"
  },
  "language_info": {
   "codemirror_mode": {
    "name": "ipython",
    "version": 3
   },
   "file_extension": ".py",
   "mimetype": "text/x-python",
   "name": "python",
   "nbconvert_exporter": "python",
   "pygments_lexer": "ipython3",
   "version": "3.11.5"
  }
 },
 "nbformat": 4,
 "nbformat_minor": 2
}
