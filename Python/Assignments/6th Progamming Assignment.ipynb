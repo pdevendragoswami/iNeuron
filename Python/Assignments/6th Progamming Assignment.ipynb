{
 "cells": [
  {
   "cell_type": "markdown",
   "id": "fe55fe33-39ac-4483-8c1c-11b2a6f9ec92",
   "metadata": {},
   "source": [
    "1. Write a Python Program to Display Fibonacci Sequence Using Recursion?"
   ]
  },
  {
   "cell_type": "code",
   "execution_count": 1,
   "id": "fe32cfea-177b-4c36-af30-cfa8576d5dae",
   "metadata": {},
   "outputs": [
    {
     "name": "stdin",
     "output_type": "stream",
     "text": [
      "Enter the number of terms in the Fibonacci sequence:  10\n"
     ]
    },
    {
     "name": "stdout",
     "output_type": "stream",
     "text": [
      "Fibonacci Sequence: [0, 1, 1, 2, 3, 5, 8, 13, 21, 34]\n"
     ]
    }
   ],
   "source": [
    "def fibonacci(n):\n",
    "    if n <= 0:\n",
    "        return []\n",
    "    elif n == 1:\n",
    "        return [0]\n",
    "    elif n == 2:\n",
    "        return [0, 1]\n",
    "    else:\n",
    "        fib_seq = fibonacci(n - 1)\n",
    "        fib_seq.append(fib_seq[-1] + fib_seq[-2])\n",
    "        return fib_seq\n",
    "\n",
    "n = int(input(\"Enter the number of terms in the Fibonacci sequence: \"))\n",
    "\n",
    "# Display the Fibonacci sequence\n",
    "fibonacci_sequence = fibonacci(n)\n",
    "print(f\"Fibonacci Sequence: {fibonacci_sequence}\")"
   ]
  },
  {
   "cell_type": "markdown",
   "id": "7957139d-a60b-4a29-b773-935841e1e564",
   "metadata": {},
   "source": [
    "2. Write a Python Program to Find Factorial of Number Using Recursion?"
   ]
  },
  {
   "cell_type": "code",
   "execution_count": 3,
   "id": "025323ec-93cc-42d3-bb75-64e64f1a59d9",
   "metadata": {},
   "outputs": [
    {
     "name": "stdin",
     "output_type": "stream",
     "text": [
      "Enter a number 5\n"
     ]
    },
    {
     "name": "stdout",
     "output_type": "stream",
     "text": [
      "The Factorial of 5 is 120\n"
     ]
    }
   ],
   "source": [
    "def factorial(n):\n",
    "    if n == 0 :\n",
    "        return 1\n",
    "    \n",
    "    if n>0 :\n",
    "        return (n* factorial(n-1))\n",
    "    \n",
    "    \n",
    "num = int(input(\"Enter a number\"))\n",
    "\n",
    "fact = factorial(num)\n",
    "\n",
    "print(f'The Factorial of {num} is {fact}')\n",
    "        "
   ]
  },
  {
   "cell_type": "markdown",
   "id": "197087f3-983a-4273-b2cf-c530accd1d04",
   "metadata": {},
   "source": [
    "3. Write a Python Program to calculate your Body Mass Index?"
   ]
  },
  {
   "cell_type": "code",
   "execution_count": 21,
   "id": "d0affe2a-2f73-47e9-be11-7feedb4703d7",
   "metadata": {},
   "outputs": [
    {
     "name": "stdin",
     "output_type": "stream",
     "text": [
      "Enter the weight in kgs:  75\n",
      "Enter the height in meter:  1.75\n"
     ]
    },
    {
     "data": {
      "text/plain": [
       "'The BMI index is 24.5'"
      ]
     },
     "execution_count": 21,
     "metadata": {},
     "output_type": "execute_result"
    }
   ],
   "source": [
    "def bmi_calculator(weight:float,height:float) -> float:\n",
    "    \n",
    "    bmi = round((weight)/(height**2),1)\n",
    "    \n",
    "    return (f\"The BMI index is {bmi}\")\n",
    "\n",
    "weight = float(input('Enter the weight in kgs: '))\n",
    "height = float(input('Enter the height in meter: '))\n",
    "\n",
    "bmi_calculator(weight,height)"
   ]
  },
  {
   "cell_type": "markdown",
   "id": "53b6597d-9cf2-486c-bbb9-c011f366e92e",
   "metadata": {},
   "source": [
    "4. Write a Python Program to calculate the natural logarithm of any number?"
   ]
  },
  {
   "cell_type": "code",
   "execution_count": 16,
   "id": "f179f112-e780-48a3-a8c4-79670029029a",
   "metadata": {},
   "outputs": [
    {
     "name": "stdin",
     "output_type": "stream",
     "text": [
      "Enter the number:  2\n"
     ]
    },
    {
     "data": {
      "text/plain": [
       "'The natural logarithm of 2 is 0.6931471805599453'"
      ]
     },
     "execution_count": 16,
     "metadata": {},
     "output_type": "execute_result"
    }
   ],
   "source": [
    "def natural_log(n:int) -> float:\n",
    "    import math\n",
    "    if n > 0:\n",
    "        natural_log = math.log(n)\n",
    "        return (f\"The natural logarithm of {n} is {natural_log}\")\n",
    "    else:\n",
    "        return (\"Please enter a positive number for the natural logarithm.\")\n",
    "\n",
    "\n",
    "\n",
    "num = int(input('Enter the number: '))\n",
    "\n",
    "natural_log(num)"
   ]
  },
  {
   "cell_type": "markdown",
   "id": "181e99bc-4e1b-4ba8-a163-e7fffc72145b",
   "metadata": {},
   "source": [
    "5. Write a Python Program for cube sum of first n natural numbers?"
   ]
  },
  {
   "cell_type": "code",
   "execution_count": 14,
   "id": "2f7d66de-f0cc-4535-b001-eee6e95007fe",
   "metadata": {},
   "outputs": [
    {
     "name": "stdin",
     "output_type": "stream",
     "text": [
      "Enter the number:  10\n"
     ]
    },
    {
     "data": {
      "text/plain": [
       "'The sum of first 10 numbers is 55 .'"
      ]
     },
     "execution_count": 14,
     "metadata": {},
     "output_type": "execute_result"
    }
   ],
   "source": [
    "def first_n_sum(n:int) -> int:\n",
    "    total = 0\n",
    "    for i in range(1,n+1):\n",
    "        total += i\n",
    "    \n",
    "    return (f\"The sum of first {n} numbers is {total} .\")\n",
    "\n",
    "\n",
    "num = int(input('Enter the number: '))\n",
    "\n",
    "first_n_sum(num)"
   ]
  },
  {
   "cell_type": "code",
   "execution_count": null,
   "id": "d0f97abf-dc7d-4d57-90c5-bce3f9aca4d1",
   "metadata": {},
   "outputs": [],
   "source": []
  },
  {
   "cell_type": "code",
   "execution_count": null,
   "id": "a50980a3-78da-4581-a233-9401a1c98faf",
   "metadata": {},
   "outputs": [],
   "source": []
  }
 ],
 "metadata": {
  "kernelspec": {
   "display_name": "Python 3 (ipykernel)",
   "language": "python",
   "name": "python3"
  },
  "language_info": {
   "codemirror_mode": {
    "name": "ipython",
    "version": 3
   },
   "file_extension": ".py",
   "mimetype": "text/x-python",
   "name": "python",
   "nbconvert_exporter": "python",
   "pygments_lexer": "ipython3",
   "version": "3.10.8"
  }
 },
 "nbformat": 4,
 "nbformat_minor": 5
}
