{
 "cells": [
  {
   "cell_type": "markdown",
   "id": "fb06f5ea-d905-4644-9c55-dc9038a2b13d",
   "metadata": {},
   "source": [
    "1.Write a Python Program to Find LCM?"
   ]
  },
  {
   "cell_type": "code",
   "execution_count": 5,
   "id": "485847c9-ec2e-4661-8ecd-0d2ebfba45cf",
   "metadata": {},
   "outputs": [
    {
     "name": "stdin",
     "output_type": "stream",
     "text": [
      "Enter the first number:  4\n",
      "Enter the second number:  3\n"
     ]
    },
    {
     "name": "stdout",
     "output_type": "stream",
     "text": [
      "The LCM of 4 and 3 is 12\n"
     ]
    }
   ],
   "source": [
    "def calculate_lcm(num1, num2):\n",
    "    \n",
    "    max_num = max(num1, num2)\n",
    "\n",
    "    while True:\n",
    "        if max_num % num1 == 0 and max_num % num2 == 0:\n",
    "            lcm = max_num\n",
    "            break\n",
    "        max_num += 1\n",
    "        \n",
    "    return lcm\n",
    "\n",
    "num1 = int(input(\"Enter the first number: \"))\n",
    "num2 = int(input(\"Enter the second number: \"))\n",
    "\n",
    "\n",
    "lcm = calculate_lcm(num1, num2)\n",
    "print(f\"The LCM of {num1} and {num2} is {lcm}\")\n"
   ]
  },
  {
   "cell_type": "markdown",
   "id": "9c403205-4531-487d-8083-12c3cf039580",
   "metadata": {},
   "source": [
    "2. Write a Python Program to Find HCF?"
   ]
  },
  {
   "cell_type": "code",
   "execution_count": 19,
   "id": "58bd6b8f-3d0e-4bdb-9db8-088e9b242904",
   "metadata": {},
   "outputs": [
    {
     "name": "stdin",
     "output_type": "stream",
     "text": [
      "Enter the first number:  2\n",
      "Enter the second number:  8\n"
     ]
    },
    {
     "name": "stdout",
     "output_type": "stream",
     "text": [
      "The HCF of 2 and 8 is 2\n"
     ]
    }
   ],
   "source": [
    "def calculate_hcf(num1, num2):\n",
    "    \n",
    "    min_num = min(num1, num2)\n",
    "\n",
    "    while True:\n",
    "        if num1 % min_num == 0 and num2 % min_num == 0:\n",
    "            hcf = min_num\n",
    "            break\n",
    "        min_num -= 1\n",
    "        \n",
    "    return hcf\n",
    "\n",
    "num1 = int(input(\"Enter the first number: \"))\n",
    "num2 = int(input(\"Enter the second number: \"))\n",
    "\n",
    "\n",
    "hcf = calculate_hcf(num1, num2)\n",
    "print(f\"The HCF of {num1} and {num2} is {hcf}\")"
   ]
  },
  {
   "cell_type": "markdown",
   "id": "c8a65010-e8a0-47ab-afc0-e95250ccc7f1",
   "metadata": {},
   "source": [
    "3. Write a Python Program to Convert Decimal to Binary, Octal and Hexadecimal?"
   ]
  },
  {
   "cell_type": "code",
   "execution_count": 28,
   "id": "9102a298-8f34-4480-93be-6c5391f81f2e",
   "metadata": {
    "jupyter": {
     "source_hidden": true
    },
    "tags": []
   },
   "outputs": [
    {
     "name": "stdin",
     "output_type": "stream",
     "text": [
      "Enter a decimal number:  23\n"
     ]
    },
    {
     "name": "stdout",
     "output_type": "stream",
     "text": [
      "Decimal: 23\n",
      "Binary:  10111\n",
      "Octal:   27\n",
      "Hexadecimal: 17\n"
     ]
    }
   ],
   "source": [
    "def convert_number(num):\n",
    "    # Convert to binary, octal, and hexadecimal\n",
    "    binary_representation = bin(decimal_number)\n",
    "    \n",
    "    octal_representation = oct(decimal_number)\n",
    "    \n",
    "    hexadecimal_representation = hex(decimal_number)\n",
    "    \n",
    "    # Remove the prefix \"0b\" from the binary representation\n",
    "    binary_representation = binary_representation[2:]\n",
    "\n",
    "    # Remove the prefix \"0o\" from the octal representation\n",
    "    octal_representation = octal_representation[2:]\n",
    "\n",
    "    # Remove the prefix \"0x\" from the hexadecimal representation\n",
    "    hexadecimal_representation = hexadecimal_representation[2:]\n",
    "    \n",
    "    return (binary_representation,octal_representation,hexadecimal_representation)\n",
    "\n",
    "\n",
    "decimal_number = int(input(\"Enter a decimal number: \"))\n",
    "\n",
    "numbers = convert_number(decimal_number)\n",
    "\n",
    "\n",
    "\n",
    "print(f\"Decimal: {decimal_number}\")\n",
    "print(f\"Binary:  {numbers[0]}\")\n",
    "print(f\"Octal:   {numbers[1]}\")\n",
    "print(f\"Hexadecimal: {numbers[2]}\")"
   ]
  },
  {
   "cell_type": "markdown",
   "id": "7d505bd2-49b8-4df7-afbe-02be54d6f896",
   "metadata": {},
   "source": [
    "4. Write a Python Program To Find ASCII value of a character?"
   ]
  },
  {
   "cell_type": "code",
   "execution_count": 1,
   "id": "3a44d4f7-2d92-410f-8466-fcd911b9f013",
   "metadata": {},
   "outputs": [
    {
     "name": "stdin",
     "output_type": "stream",
     "text": [
      "Enter a character:  A\n"
     ]
    },
    {
     "name": "stdout",
     "output_type": "stream",
     "text": [
      "The ASCII value of 'A' is 65\n"
     ]
    }
   ],
   "source": [
    "def ascii(char):\n",
    "    \n",
    "    if len(char) == 1 :\n",
    "        value = ord(char)\n",
    "        return value\n",
    "\n",
    "\n",
    "character = input(\"Enter a character: \")\n",
    "\n",
    "ascii_value = ascii(character)\n",
    "\n",
    "print(f\"The ASCII value of '{character}' is {ascii_value}\")\n",
    "\n",
    "    \n",
    "\n",
    "        "
   ]
  },
  {
   "cell_type": "code",
   "execution_count": 10,
   "id": "c2a10d92-a257-4eb0-bc1f-0a724babdf0d",
   "metadata": {},
   "outputs": [
    {
     "name": "stdin",
     "output_type": "stream",
     "text": [
      "Enter the first number:  2\n",
      "Enter the second number:  5\n",
      "Enter the operation:  /\n"
     ]
    },
    {
     "name": "stdout",
     "output_type": "stream",
     "text": [
      "The Division of 2 and 5 is 0.4\n"
     ]
    }
   ],
   "source": [
    "def calculator(num1,num2,operation):\n",
    "    \n",
    "    if operation == \"+\":\n",
    "        result = num1+num2\n",
    "        return (f\"The Sum of {num1} and {num2} is {result}\")\n",
    "        \n",
    "    elif operation == \"-\":\n",
    "        result = num1-num2\n",
    "        return (f\"The Subtraction from {num1} to {num2} is {result}\")\n",
    "        \n",
    "    elif operation == \"*\":\n",
    "        result = num1*num2\n",
    "        return (f\"The Product of {num1} and {num2} is {result}\")\n",
    "        \n",
    "    elif operation == \"/\":\n",
    "        result = num1/num2\n",
    "        return (f\"The Division of {num1} and {num2} is {result}\")\n",
    "    \n",
    "    \n",
    "\n",
    "num1 = int(input(\"Enter the first number: \"))\n",
    "num2 = int(input(\"Enter the second number: \"))\n",
    "operation = input(\"Enter the operation: \")\n",
    "\n",
    "cal = calculator(num1,num2,operation)\n",
    "\n",
    "\n",
    "print(cal)\n",
    "        \n",
    "        \n",
    "    "
   ]
  },
  {
   "cell_type": "code",
   "execution_count": null,
   "id": "1f23b8f2-69f8-4499-bf01-9d46ac1f98d2",
   "metadata": {},
   "outputs": [],
   "source": []
  }
 ],
 "metadata": {
  "kernelspec": {
   "display_name": "Python 3 (ipykernel)",
   "language": "python",
   "name": "python3"
  },
  "language_info": {
   "codemirror_mode": {
    "name": "ipython",
    "version": 3
   },
   "file_extension": ".py",
   "mimetype": "text/x-python",
   "name": "python",
   "nbconvert_exporter": "python",
   "pygments_lexer": "ipython3",
   "version": "3.10.8"
  }
 },
 "nbformat": 4,
 "nbformat_minor": 5
}
