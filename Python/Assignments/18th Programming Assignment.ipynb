{
 "cells": [
  {
   "cell_type": "markdown",
   "metadata": {},
   "source": [
    "1. Create a function that takes a list of non-negative integers and strings and return a new list without the strings ?\n",
    "\n",
    "    Examples:\n",
    "\n",
    "    `filter_list([1, 2, \"a\", \"b\"]) ➞ [1, 2]`\n",
    "\n",
    "    `filter_list([1, \"a\", \"b\", 0, 15]) ➞ [1, 0, 15]`\n",
    "\n",
    "    `filter_list([1, 2, \"aasf\", \"1\", \"123\", 123]) ➞ [1, 2, 123]`"
   ]
  },
  {
   "cell_type": "code",
   "execution_count": 1,
   "metadata": {},
   "outputs": [
    {
     "name": "stdout",
     "output_type": "stream",
     "text": [
      "[1, 2]\n",
      "[0, 15]\n",
      "[1, 2, 123]\n"
     ]
    }
   ],
   "source": [
    "def filter_list(lst):\n",
    "    return [x for x in lst if not isinstance(x, str) and x>=0]\n",
    "\n",
    "print(filter_list([1, 2, \"a\", \"b\"]))  \n",
    "print(filter_list([-1, \"a\", \"b\", 0, 15]))  \n",
    "print(filter_list([1, 2, \"aasf\", \"1\", \"123\", 123])) "
   ]
  },
  {
   "cell_type": "markdown",
   "metadata": {},
   "source": [
    "2. The \"Reverser\" takes a string as input and returns that string in reverse order, with the opposite case ?\n",
    "\n",
    "    Examples:\n",
    "\n",
    "    `reverse(\"Hello World\") ➞ \"DLROw OLLEh\"`\n",
    "\n",
    "    `reverse(\"ReVeRsE\") ➞ \"eSrEvEr\"`\n",
    "\n",
    "    `reverse(\"Radar\") ➞ \"RADAr\"`"
   ]
  },
  {
   "cell_type": "code",
   "execution_count": 2,
   "metadata": {},
   "outputs": [
    {
     "name": "stdout",
     "output_type": "stream",
     "text": [
      "DLROw OLLEh\n",
      "eSrEvEr\n",
      "RADAr\n"
     ]
    }
   ],
   "source": [
    "def reverse(string):\n",
    "    reversed_string = string[::-1]  \n",
    "    return reversed_string.swapcase() \n",
    "\n",
    "print(reverse(\"Hello World\")) \n",
    "print(reverse(\"ReVeRsE\"))\n",
    "print(reverse(\"Radar\"))  "
   ]
  },
  {
   "cell_type": "markdown",
   "metadata": {},
   "source": [
    "3. You can assign variables from lists like this:\n",
    "\n",
    "    `lst = [1, 2, 3, 4, 5, 6] first = lst[0] middle = lst[1:-1] last = lst[-1] print(first) ➞ outputs 1 print(middle) ➞ outputs [2, 3, 4, 5] print(last) ➞ outputs 6`\n",
    "\n",
    "    With Python 3, you can assign variables from lists in a much more succinct way. Create variables first, middle and last from the given list using destructuring assignment\n",
    "\n",
    "    (check the Resources tab for some examples), where:\n",
    "\n",
    "    `first ➞ 1 middle ➞ [2, 3, 4, 5] last ➞ 6`\n",
    "    \n",
    "    Your task is to unpack the list write your code here into three variables, being first, middle, and last, with middle being everything in between the first and last element. Then print all three variables."
   ]
  },
  {
   "cell_type": "code",
   "execution_count": 3,
   "metadata": {},
   "outputs": [
    {
     "name": "stdout",
     "output_type": "stream",
     "text": [
      "first ➞ 1\n",
      "middle ➞ [2, 3, 4, 5]\n",
      "last ➞ 6\n"
     ]
    }
   ],
   "source": [
    "lst = [1, 2, 3, 4, 5, 6]\n",
    "first, *middle, last = lst\n",
    "\n",
    "print(\"first ➞\", first)\n",
    "print(\"middle ➞\", middle)\n",
    "print(\"last ➞\", last)"
   ]
  },
  {
   "cell_type": "markdown",
   "metadata": {},
   "source": [
    "4. Write a function that calculates the factorial of a number recursively.\n",
    "\n",
    "    Examples:\n",
    "\n",
    "    `factorial(5) ➞ 120`\n",
    "\n",
    "    `factorial(3) ➞ 6`\n",
    "\n",
    "    `factorial(1) ➞ 1`\n",
    "    \n",
    "    `factorial(0) ➞ 1`"
   ]
  },
  {
   "cell_type": "code",
   "execution_count": 4,
   "metadata": {},
   "outputs": [
    {
     "name": "stdout",
     "output_type": "stream",
     "text": [
      "120\n",
      "6\n",
      "1\n",
      "1\n"
     ]
    }
   ],
   "source": [
    "def factorial(n):\n",
    "    if n == 0 or n == 1:\n",
    "        return 1\n",
    "    else:\n",
    "        return n * factorial(n - 1)\n",
    "\n",
    "\n",
    "print(factorial(5))  \n",
    "print(factorial(3)) \n",
    "print(factorial(1))  \n",
    "print(factorial(0)) "
   ]
  },
  {
   "cell_type": "markdown",
   "metadata": {},
   "source": [
    "5. Write a function that moves all elements of one type to the end of the list.\n",
    "    \n",
    "    Examples:\n",
    "    \n",
    "    `move_to_end([1, 3, 2, 4, 4, 1], 1) ➞ [3, 2, 4, 4, 1, 1]`\n",
    "    \n",
    "    Move all the 1s to the end of the array.\n",
    "    \n",
    "    `move_to_end([7, 8, 9, 1, 2, 3, 4], 9) ➞ [7, 8, 1, 2, 3, 4, 9]`\n",
    "    \n",
    "    `move_to_end([\"a\", \"a\", \"a\", \"b\"], \"a\") ➞ [\"b\", \"a\", \"a\", \"a\"]`"
   ]
  },
  {
   "cell_type": "code",
   "execution_count": 5,
   "metadata": {},
   "outputs": [
    {
     "name": "stdout",
     "output_type": "stream",
     "text": [
      "[3, 2, 4, 4, 1, 1]\n",
      "[7, 8, 1, 2, 3, 4, 9]\n",
      "['b', 'a', 'a', 'a']\n"
     ]
    }
   ],
   "source": [
    "def move_to_end(lst, element):\n",
    "\n",
    "    not_element = [x for x in lst if x != element]\n",
    "    only_element = [x for x in lst if x == element]\n",
    "    \n",
    "    return not_element + only_element\n",
    "\n",
    "print(move_to_end([1, 3, 2, 4, 4, 1], 1))  \n",
    "print(move_to_end([7, 8, 9, 1, 2, 3, 4], 9))  \n",
    "print(move_to_end([\"a\", \"a\", \"a\", \"b\"], \"a\"))"
   ]
  }
 ],
 "metadata": {
  "kernelspec": {
   "display_name": "base",
   "language": "python",
   "name": "python3"
  },
  "language_info": {
   "codemirror_mode": {
    "name": "ipython",
    "version": 3
   },
   "file_extension": ".py",
   "mimetype": "text/x-python",
   "name": "python",
   "nbconvert_exporter": "python",
   "pygments_lexer": "ipython3",
   "version": "3.11.5"
  }
 },
 "nbformat": 4,
 "nbformat_minor": 2
}
