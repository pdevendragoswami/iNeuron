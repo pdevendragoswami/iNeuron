{
 "cells": [
  {
   "cell_type": "markdown",
   "metadata": {},
   "source": [
    "1. Write a function that stutters a word as if someone is struggling to read it.\n",
    "\n",
    "    The first two letters are repeated twice with an ellipsis ... and space after each, and then the word is pronounced with a question mark ?\n",
    "\n",
    "    Examples: `stutter(\"incredible\") ➞ \"in... in... incredible?\"`\n",
    "\n",
    "    `stutter(\"enthusiastic\") ➞ \"en... en... enthusiastic?\"`\n",
    "\n",
    "    `stutter(\"outstanding\") ➞ \"ou... ou... outstanding?\"`\n",
    "\n",
    "    Hint :- Assume all input is in lower case and at least two characters long."
   ]
  },
  {
   "cell_type": "code",
   "execution_count": 1,
   "metadata": {},
   "outputs": [
    {
     "name": "stdout",
     "output_type": "stream",
     "text": [
      "in... in... incredible?\n",
      "en... en... enthusiastic?\n",
      "ou... ou... outstanding?\n"
     ]
    }
   ],
   "source": [
    "def stutter(word):\n",
    "    first_two_letters = word[:2]\n",
    "    print (f\"{first_two_letters}... {first_two_letters}... {word}?\")\n",
    "\n",
    "stutter(\"incredible\")    \n",
    "stutter(\"enthusiastic\") \n",
    "stutter(\"outstanding\") "
   ]
  },
  {
   "cell_type": "markdown",
   "metadata": {},
   "source": [
    "2. Create a function that takes an angle in radians and returns the corresponding angle in degrees rounded to one decimal place ?\n",
    "\n",
    "    Examples: `radians_to_degrees(1) ➞ 57.3`\n",
    "\n",
    "    `radians_to_degrees(20) ➞ 1145.9`\n",
    "    \n",
    "    `radians_to_degrees(50) ➞ 2864.8`"
   ]
  },
  {
   "cell_type": "code",
   "execution_count": 2,
   "metadata": {},
   "outputs": [
    {
     "name": "stdout",
     "output_type": "stream",
     "text": [
      "57.3\n",
      "1145.9\n",
      "2864.8\n"
     ]
    }
   ],
   "source": [
    "import math\n",
    "\n",
    "def radians_to_degrees(radians):\n",
    "    degrees = math.degrees(radians)\n",
    "    print(round(degrees, 1))\n",
    "\n",
    "radians_to_degrees(1)   \n",
    "radians_to_degrees(20)\n",
    "radians_to_degrees(50)"
   ]
  },
  {
   "cell_type": "markdown",
   "metadata": {},
   "source": [
    "3. In this challenge, establish if a given integer num is a Curzon number.\n",
    "\n",
    "    If 1 plus 2 elevated to num is exactly divisible by 1 plus 2 multiplied by num, then num is a Curzon number.\n",
    "    \n",
    "    Given a non-negative integer num, implement a function that returns True if num is a Curzon number, or False otherwise.\n",
    "\n",
    "    Examples: `is_curzon(5) ➞ True     # 2 * 5 + 1 = 33     # 2 * 5 + 1 = 11     # 33 is a multiple of 11` \n",
    "    \n",
    "    `is_curzon(10) ➞ False     # 2 * 10 + 1 = 1025     # 2 * 10 + 1 = 21     # 1025 is not a multiple of 21` \n",
    "    \n",
    "    `is_curzon(14) ➞ True     # 2 ** 14 + 1 = 16385     # 2 * 14 + 1 = 29     # 16385 is a multiple of 29`"
   ]
  },
  {
   "cell_type": "code",
   "execution_count": 3,
   "metadata": {},
   "outputs": [
    {
     "name": "stdout",
     "output_type": "stream",
     "text": [
      "True\n",
      "False\n",
      "True\n"
     ]
    }
   ],
   "source": [
    "def is_curzon(num):\n",
    "    numerator = 2 ** num + 1\n",
    "    denominator = 2 * num + 1\n",
    "    return numerator % denominator == 0\n",
    "\n",
    "print(is_curzon(5))   \n",
    "print(is_curzon(10))  \n",
    "print(is_curzon(14)) "
   ]
  },
  {
   "cell_type": "markdown",
   "metadata": {},
   "source": [
    "4. Given the side length x find the area of a hexagon ?\n",
    "\n",
    "    Examples: `area_of_hexagon(1) ➞ 2.6`\n",
    "\n",
    "    `area_of_hexagon(2) ➞ 10.4`\n",
    "    \n",
    "    `area_of_hexagon(3) ➞ 23.4`"
   ]
  },
  {
   "cell_type": "code",
   "execution_count": 4,
   "metadata": {},
   "outputs": [
    {
     "name": "stdout",
     "output_type": "stream",
     "text": [
      "2.6\n",
      "10.4\n",
      "23.4\n"
     ]
    }
   ],
   "source": [
    "import math\n",
    "\n",
    "def area_of_hexagon(x):\n",
    "    area = (3 * math.sqrt(3) / 2) * (x ** 2)\n",
    "    return round(area, 1)\n",
    "\n",
    "\n",
    "print(area_of_hexagon(1)) \n",
    "print(area_of_hexagon(2))  \n",
    "print(area_of_hexagon(3)) "
   ]
  },
  {
   "cell_type": "markdown",
   "metadata": {},
   "source": [
    "5. Create a function that returns a base-2 (binary) representation of a base-10 (decimal) string number.\n",
    "\n",
    "    To convert is simple:\n",
    "\n",
    "    ((2) means base-2 and (10) means base-10)\n",
    "\n",
    "    `010101001(2) = 1 + 8 + 32 + 128.`\n",
    "\n",
    "    Going from right to left, the value of the most right bit is 1, now from that every bit to the left will be x2 the value, value of an 8 bit binary numbers are (256, 128, 64, 32, 16, 8, 4, 2, 1).\n",
    "\n",
    "    Examples:\n",
    "    \n",
    "    `binary(1) ➞ \"1\"     # 1* 1 = 1 binary(5) ➞ \"101\"     # 1 1 + 1 4 = 5 binary(10) ➞ \"1010\"     # 1 2 + 1 8 = 10`"
   ]
  },
  {
   "cell_type": "code",
   "execution_count": 5,
   "metadata": {},
   "outputs": [
    {
     "name": "stdout",
     "output_type": "stream",
     "text": [
      "1\n",
      "101\n",
      "1010\n"
     ]
    }
   ],
   "source": [
    "def binary(decimal):\n",
    "    binary_str = \"\"\n",
    "    while decimal > 0:\n",
    "        binary_str = str(decimal % 2) + binary_str\n",
    "        decimal //= 2\n",
    "    return binary_str if binary_str else \"0\"\n",
    "\n",
    "\n",
    "print(binary(1))   \n",
    "print(binary(5)) \n",
    "print(binary(10)) "
   ]
  }
 ],
 "metadata": {
  "kernelspec": {
   "display_name": "base",
   "language": "python",
   "name": "python3"
  },
  "language_info": {
   "codemirror_mode": {
    "name": "ipython",
    "version": 3
   },
   "file_extension": ".py",
   "mimetype": "text/x-python",
   "name": "python",
   "nbconvert_exporter": "python",
   "pygments_lexer": "ipython3",
   "version": "3.11.5"
  }
 },
 "nbformat": 4,
 "nbformat_minor": 2
}
