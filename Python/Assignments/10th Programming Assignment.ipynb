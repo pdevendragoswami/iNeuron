{
 "cells": [
  {
   "cell_type": "markdown",
   "id": "e7a069f7-581c-425f-924a-ce50a5e2b504",
   "metadata": {},
   "source": [
    "1. Write a Python program to find sum of elements in list?"
   ]
  },
  {
   "cell_type": "code",
   "execution_count": 1,
   "id": "54eee3dd-7ce3-4957-90b6-cbc124db518f",
   "metadata": {},
   "outputs": [
    {
     "data": {
      "text/plain": [
       "'Sum of all the elements of list is 15'"
      ]
     },
     "execution_count": 1,
     "metadata": {},
     "output_type": "execute_result"
    }
   ],
   "source": [
    "def list_sum(list_value):\n",
    "    total = 0\n",
    "    for i in list_value:\n",
    "        total = total+i\n",
    "    return (f\"Sum of all the elements of list is {total}\")\n",
    "\n",
    "list_sum([1,2,3,4,5])"
   ]
  },
  {
   "cell_type": "markdown",
   "id": "4e7c8543-4a1d-4d90-9560-09c51748991f",
   "metadata": {},
   "source": [
    "2. Write a Python program to Multiply all numbers in the list?"
   ]
  },
  {
   "cell_type": "code",
   "execution_count": 2,
   "id": "44082a1b-c275-43fb-be64-e21f0faca128",
   "metadata": {},
   "outputs": [
    {
     "data": {
      "text/plain": [
       "'Product of all the elements of list is 120'"
      ]
     },
     "execution_count": 2,
     "metadata": {},
     "output_type": "execute_result"
    }
   ],
   "source": [
    "def list_product(list_value):\n",
    "    total = 1\n",
    "    for i in list_value:\n",
    "        total = total*i\n",
    "    return (f\"Product of all the elements of list is {total}\")\n",
    "\n",
    "list_product([1,2,3,4,5])"
   ]
  },
  {
   "cell_type": "markdown",
   "id": "3f6972ee-ca9f-4f2a-935d-73c10290931d",
   "metadata": {},
   "source": [
    "3. Write a Python program to find smallest number in a list?"
   ]
  },
  {
   "cell_type": "code",
   "execution_count": 3,
   "id": "06eab79f-5828-4c8e-bfc8-03c3121f2d29",
   "metadata": {},
   "outputs": [
    {
     "data": {
      "text/plain": [
       "'Smallest element of list is 1'"
      ]
     },
     "execution_count": 3,
     "metadata": {},
     "output_type": "execute_result"
    }
   ],
   "source": [
    "def smallest_value(list_value):\n",
    "    min_value = 100000\n",
    "    for i in range(len(list_value)):\n",
    "        if min_value>list_value[i]:\n",
    "            min_value = list_value[i]\n",
    "            \n",
    "    return (f\"Smallest element of list is {min_value}\")\n",
    "\n",
    "smallest_value([5,2,3,1,5])"
   ]
  },
  {
   "cell_type": "markdown",
   "id": "1655f145-1ea5-4516-a7d8-d94307c0892f",
   "metadata": {},
   "source": [
    "4. Write a Python program to find largest number in a list?"
   ]
  },
  {
   "cell_type": "code",
   "execution_count": 4,
   "id": "f09b7b2b-aaa6-42d7-af41-a7a31c2c2b12",
   "metadata": {},
   "outputs": [
    {
     "data": {
      "text/plain": [
       "'Largest element of list is 5'"
      ]
     },
     "execution_count": 4,
     "metadata": {},
     "output_type": "execute_result"
    }
   ],
   "source": [
    "def largest_value(list_value):\n",
    "    max_value = 0\n",
    "    for i in range(len(list_value)):\n",
    "        if max_value<list_value[i]:\n",
    "            max_value = list_value[i]\n",
    "            \n",
    "    return (f\"Largest element of list is {max_value}\")\n",
    "\n",
    "largest_value([1,5,3,4,2])"
   ]
  },
  {
   "cell_type": "markdown",
   "id": "3b654673-b6d3-4ae5-80ef-7de266c9da2e",
   "metadata": {},
   "source": [
    "5. Write a Python program to find second largest number in a list?"
   ]
  },
  {
   "cell_type": "code",
   "execution_count": 5,
   "id": "89ed7c59-3bdf-4afd-bed1-71c41d501db3",
   "metadata": {},
   "outputs": [
    {
     "data": {
      "text/plain": [
       "'Second Largest element of list is 7'"
      ]
     },
     "execution_count": 5,
     "metadata": {},
     "output_type": "execute_result"
    }
   ],
   "source": [
    "def second_largest_value(list_value):\n",
    "    list_value.sort()\n",
    "\n",
    "    return (f\"Second Largest element of list is {list_value[-2]}\")\n",
    "\n",
    "second_largest_value([7,5,8,4,2])"
   ]
  },
  {
   "cell_type": "markdown",
   "id": "344b71b7-869b-4ce2-bf9f-1971ae9f2366",
   "metadata": {},
   "source": [
    "6. Write a Python program to find N largest elements from a list?"
   ]
  },
  {
   "cell_type": "code",
   "execution_count": 6,
   "id": "c444df64-efee-42b5-8e32-7a12be616962",
   "metadata": {},
   "outputs": [
    {
     "data": {
      "text/plain": [
       "'3 Largest element of list is 5'"
      ]
     },
     "execution_count": 6,
     "metadata": {},
     "output_type": "execute_result"
    }
   ],
   "source": [
    "def n_largest_value(list_value,largest_value):\n",
    "    list_value.sort()\n",
    "                        \n",
    "    return (f\"{largest_value} Largest element of list is {list_value[-largest_value]}\")\n",
    "\n",
    "n_largest_value([7,5,8,4,2],3)"
   ]
  },
  {
   "cell_type": "markdown",
   "id": "dcf309f1-7005-4825-853f-22e66ecd3f31",
   "metadata": {},
   "source": [
    "7. Write a Python program to print even numbers in a list?"
   ]
  },
  {
   "cell_type": "code",
   "execution_count": 7,
   "id": "b2d16b82-f6da-4652-9fdc-ad019f9a9542",
   "metadata": {},
   "outputs": [
    {
     "name": "stdout",
     "output_type": "stream",
     "text": [
      "4 is an even number\n",
      "2 is an even number\n"
     ]
    }
   ],
   "source": [
    "def even_num(list_value):\n",
    "    for i in list_value:\n",
    "        if i%2==0:\n",
    "            print(f\"{i} is an even number\")\n",
    "even_num([1,5,3,4,2])"
   ]
  },
  {
   "cell_type": "markdown",
   "id": "8c112069-f1c5-4b13-a268-8e4a8bed0758",
   "metadata": {},
   "source": [
    "8. Write a Python program to print odd numbers in a List?"
   ]
  },
  {
   "cell_type": "code",
   "execution_count": 8,
   "id": "0a4fa297-4fe4-45e8-a4b2-ec7541c4fc1f",
   "metadata": {},
   "outputs": [
    {
     "name": "stdout",
     "output_type": "stream",
     "text": [
      "1 is an odd number\n",
      "5 is an odd number\n",
      "3 is an odd number\n"
     ]
    }
   ],
   "source": [
    "def odd_num(list_value):\n",
    "    for i in list_value:\n",
    "        if i%2!=0:\n",
    "            print(f\"{i} is an odd number\")\n",
    "\n",
    "\n",
    "odd_num([1,5,3,4,2])"
   ]
  },
  {
   "cell_type": "markdown",
   "id": "185556e5-10ca-4c7c-8881-7e366f35716e",
   "metadata": {},
   "source": [
    "9. Write a Python program to Remove empty List from List?"
   ]
  },
  {
   "cell_type": "code",
   "execution_count": 9,
   "id": "107a6db6-5323-496e-b60f-5ee7a5dc4b34",
   "metadata": {},
   "outputs": [
    {
     "name": "stdout",
     "output_type": "stream",
     "text": [
      "[1, 2, 3, 4, [1, 2], [1], 3]\n"
     ]
    }
   ],
   "source": [
    "def remove_empty_list(list_value):\n",
    "    for i in list_value:\n",
    "        if type(i)==list and len(i)==0:\n",
    "            list_value.remove(i)\n",
    "\n",
    "    print(list_value)\n",
    "\n",
    "remove_empty_list([1,2,3,4,[1,2],[],[1],3])"
   ]
  },
  {
   "cell_type": "markdown",
   "id": "8a5c0d7c-e0c4-407d-82ad-15d7899d85a4",
   "metadata": {},
   "source": [
    "11. Write a Python program to Count occurrences of an element in a list?"
   ]
  },
  {
   "cell_type": "code",
   "execution_count": 10,
   "id": "223df64e-f3cc-493c-9fdd-dd4f31c72603",
   "metadata": {},
   "outputs": [
    {
     "name": "stdout",
     "output_type": "stream",
     "text": [
      "The occurance of element 6 in list is 0\n"
     ]
    }
   ],
   "source": [
    "def count_occurance(list_value,element):\n",
    "    count = 0\n",
    "    for i in list_value:\n",
    "        if i==element:\n",
    "            count += 1\n",
    "\n",
    "    print(f\"The occurance of element {element} in list is {count}\")\n",
    "    \n",
    "count_occurance([1,5,3,2,2],6)"
   ]
  },
  {
   "cell_type": "markdown",
   "id": "2ebc6619-5f97-43c2-92c0-165838704c9c",
   "metadata": {},
   "source": [
    "10. Write a Python program to Cloning or Copying a list?"
   ]
  },
  {
   "cell_type": "code",
   "execution_count": 11,
   "id": "2aad246d-e843-4bce-9f25-6a5ca0eaa819",
   "metadata": {},
   "outputs": [
    {
     "name": "stdout",
     "output_type": "stream",
     "text": [
      "Original List: [1, 2, 4],Copied List: [1, 2, 4]\n"
     ]
    }
   ],
   "source": [
    "def copy_list(list_value):\n",
    "    copied_list = list_value.copy()\n",
    "    print(f\"Original List: {list_value},Copied List: {copied_list}\")\n",
    "\n",
    "copy_list([1,2,4])\n",
    "\n"
   ]
  },
  {
   "cell_type": "code",
   "execution_count": null,
   "id": "2464a4a6-2c39-4144-b9c9-412df3f7b766",
   "metadata": {},
   "outputs": [],
   "source": [
    "\n"
   ]
  },
  {
   "cell_type": "code",
   "execution_count": null,
   "id": "78b8dbc4-7600-48bd-b37c-485623d5e16e",
   "metadata": {},
   "outputs": [],
   "source": []
  }
 ],
 "metadata": {
  "kernelspec": {
   "display_name": "Python 3 (ipykernel)",
   "language": "python",
   "name": "python3"
  },
  "language_info": {
   "codemirror_mode": {
    "name": "ipython",
    "version": 3
   },
   "file_extension": ".py",
   "mimetype": "text/x-python",
   "name": "python",
   "nbconvert_exporter": "python",
   "pygments_lexer": "ipython3",
   "version": "3.10.8"
  }
 },
 "nbformat": 4,
 "nbformat_minor": 5
}
