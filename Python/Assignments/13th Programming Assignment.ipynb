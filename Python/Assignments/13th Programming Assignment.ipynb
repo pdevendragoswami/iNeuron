{
 "cells": [
  {
   "cell_type": "markdown",
   "metadata": {},
   "source": [
    "1. Write a program that calculates and prints the value according to the given formula:\n",
    "\n",
    "    Q = Square root of [(2 * C * D)/H]\n",
    "\n",
    "    Following are the fixed values of C and H:\n",
    "    C is 50. H is 30.\n",
    "\n",
    "    D is the variable whose values should be input to your program in a comma-separated sequence.\n",
    "\n",
    "    Example: Let us assume the following comma separated input sequence is given to the program:100,150,180\n",
    "\n",
    "    The output of the program should be: 18,22,24"
   ]
  },
  {
   "cell_type": "code",
   "execution_count": 1,
   "metadata": {},
   "outputs": [
    {
     "name": "stdout",
     "output_type": "stream",
     "text": [
      "18,22,24\n"
     ]
    }
   ],
   "source": [
    "import math\n",
    "\n",
    "def calculate_Q(input_sequence, C=50, H=30):\n",
    "    values = input_sequence.split(',')\n",
    "    results = []\n",
    "    for value in values:\n",
    "        D = int(value)\n",
    "        Q = math.sqrt((2 * C * D) / H)\n",
    "        results.append(int(Q))\n",
    "    result = (','.join(map(str, results)))\n",
    "    print(result)\n",
    "\n",
    "input_sequence = input(\"Enter comma-separated values of D: \")\n",
    "calculate_Q(input_sequence)"
   ]
  },
  {
   "cell_type": "markdown",
   "metadata": {},
   "source": [
    "2. Write a program which takes 2 digits, X,Y as input and generates a 2-dimensional array.\n",
    "\n",
    "    The element value in the i-th row and j-th column of the array should be i*j.\n",
    "\n",
    "    Note: i=0,1.., X-1; j=0,1,¡Y-1.\n",
    "\n",
    "    Example: Suppose the following inputs are given to the program: 3,5\n",
    "\n",
    "    Then, the output of the program should be:[[0, 0, 0, 0, 0], [0, 1, 2, 3, 4], [0, 2, 4, 6, 8]]"
   ]
  },
  {
   "cell_type": "code",
   "execution_count": 2,
   "metadata": {},
   "outputs": [
    {
     "data": {
      "text/plain": [
       "[[0, 0, 0, 0, 0], [0, 1, 2, 3, 4], [0, 2, 4, 6, 8]]"
      ]
     },
     "execution_count": 2,
     "metadata": {},
     "output_type": "execute_result"
    }
   ],
   "source": [
    "def generate_2D_array(X, Y):\n",
    "    array = []\n",
    "    for i in range(X):\n",
    "        row = []\n",
    "        for j in range(Y):\n",
    "            row.append(i * j)\n",
    "        array.append(row)\n",
    "    return array\n",
    "\n",
    "X, Y = map(int, input(\"Enter two digits (X, Y): \").split(','))\n",
    "\n",
    "generate_2D_array(X, Y)"
   ]
  },
  {
   "cell_type": "markdown",
   "metadata": {},
   "source": [
    "3. Write a program that accepts a comma separated sequence of words as input and prints the words in a comma-separated sequence after sorting them alphabetically ?\n",
    "\n",
    "    Suppose the following input is supplied to the program: without,hello,bag,world\n",
    "\n",
    "    Then, the output should be: bag,hello,without,world"
   ]
  },
  {
   "cell_type": "code",
   "execution_count": 3,
   "metadata": {},
   "outputs": [
    {
     "data": {
      "text/plain": [
       "'bag,hello,without,world'"
      ]
     },
     "execution_count": 3,
     "metadata": {},
     "output_type": "execute_result"
    }
   ],
   "source": [
    "def sort_words(input_string):\n",
    "    words = input_string.split(',')\n",
    "    sorted_words = sorted(words)\n",
    "    result =  (','.join(sorted_words))\n",
    "    return result\n",
    "\n",
    "input_sequence = input(\"Enter comma-separated words: \")\n",
    "sort_words(input_sequence)"
   ]
  },
  {
   "cell_type": "markdown",
   "metadata": {},
   "source": [
    "4. Write a program that accepts a sequence of whitespace separated words as input and prints the words after removing all duplicate words and sorting them alphanumerically.\n",
    "\n",
    "    Suppose the following input is supplied to the program: hello world and practice makes perfect and hello world again\n",
    "\n",
    "    Then, the output should be: again and hello makes perfect practice world"
   ]
  },
  {
   "cell_type": "code",
   "execution_count": 4,
   "metadata": {},
   "outputs": [
    {
     "data": {
      "text/plain": [
       "'again and hello makes perfect practice world'"
      ]
     },
     "execution_count": 4,
     "metadata": {},
     "output_type": "execute_result"
    }
   ],
   "source": [
    "def remove_duplicates_and_sort(input_string):\n",
    "    words = input_string.split()\n",
    "    unique_words = sorted(set(words))\n",
    "    result = (' '.join(unique_words))\n",
    "    return result\n",
    "\n",
    "input_sequence = input(\"Enter whitespace-separated words: \")\n",
    "remove_duplicates_and_sort(input_sequence)"
   ]
  },
  {
   "cell_type": "markdown",
   "metadata": {},
   "source": [
    "5. Write a program that accepts a sentence and calculate the number of letters and digits.\n",
    "\n",
    "    Suppose the following input is supplied to the program: hello world! 123\n",
    "\n",
    "    Then, the output should be:\n",
    "\n",
    "    LETTERS 10\n",
    "\n",
    "    DIGITS 3"
   ]
  },
  {
   "cell_type": "code",
   "execution_count": 5,
   "metadata": {},
   "outputs": [
    {
     "name": "stdout",
     "output_type": "stream",
     "text": [
      "LETTERS 10\n",
      "DIGITS 3\n"
     ]
    }
   ],
   "source": [
    "def count_letters_and_digits(sentence):\n",
    "    letters = 0\n",
    "    digits = 0\n",
    "    for char in sentence:\n",
    "        if char.isalpha():\n",
    "            letters += 1\n",
    "        elif char.isdigit():\n",
    "            digits += 1\n",
    "    return letters, digits\n",
    "\n",
    "input_sentence = input(\"Enter a sentence: \")\n",
    "letters, digits = count_letters_and_digits(input_sentence)\n",
    "print(\"LETTERS\", letters)\n",
    "print(\"DIGITS\", digits)"
   ]
  },
  {
   "cell_type": "markdown",
   "metadata": {},
   "source": [
    "6. A website requires the users to input username and password to register. Write a program to check the validity of password input by users.\n",
    "\n",
    "    Following are the criteria for checking the password:\n",
    "\n",
    "    At least 1 letter between [a-z]\n",
    "\n",
    "    At least 1 number between [0-9]\n",
    "\n",
    "    At least 1 letter between [A-Z]\n",
    "\n",
    "    At least 1 character from [$#@]\n",
    "\n",
    "    Minimum length of transaction password: 6\n",
    "\n",
    "    Maximum length of transaction password: 12\n",
    "\n",
    "    Your program should accept a sequence of comma separated passwords and will check them according to the above criteria. Passwords that match the criteria are to be printed, each separated by a comma.\n",
    "\n",
    "    Example:\n",
    "\n",
    "    If the following passwords are given as input to the program: ABd1234@1,a F1#,2w3E*,2We3345\n",
    "\n",
    "    Then, the output of the program should be:ABd1234@1"
   ]
  },
  {
   "cell_type": "code",
   "execution_count": 6,
   "metadata": {},
   "outputs": [
    {
     "name": "stdout",
     "output_type": "stream",
     "text": [
      "ABd1234@1\n"
     ]
    }
   ],
   "source": [
    "import re\n",
    "\n",
    "def is_valid_password(password):\n",
    "    if len(password) < 6 or len(password) > 12:\n",
    "        return False\n",
    "    if not re.search(\"[a-z]\", password):\n",
    "        return False\n",
    "    if not re.search(\"[A-Z]\", password):\n",
    "        return False\n",
    "    if not re.search(\"[0-9]\", password):\n",
    "        return False\n",
    "    if not re.search(\"[$#@]\", password):\n",
    "        return False\n",
    "    return True\n",
    "\n",
    "input_passwords = input(\"Enter comma-separated passwords: \")\n",
    "passwords = input_passwords.split(',')\n",
    "\n",
    "valid_passwords = [password for password in passwords if is_valid_password(password)]\n",
    "print(','.join(valid_passwords))"
   ]
  },
  {
   "cell_type": "code",
   "execution_count": null,
   "metadata": {},
   "outputs": [],
   "source": []
  }
 ],
 "metadata": {
  "kernelspec": {
   "display_name": "base",
   "language": "python",
   "name": "python3"
  },
  "language_info": {
   "codemirror_mode": {
    "name": "ipython",
    "version": 3
   },
   "file_extension": ".py",
   "mimetype": "text/x-python",
   "name": "python",
   "nbconvert_exporter": "python",
   "pygments_lexer": "ipython3",
   "version": "3.11.5"
  }
 },
 "nbformat": 4,
 "nbformat_minor": 2
}
