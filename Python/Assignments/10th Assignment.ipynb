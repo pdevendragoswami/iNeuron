{
 "cells": [
  {
   "cell_type": "markdown",
   "metadata": {},
   "source": [
    "1. How do you distinguish between shutil.copy() and shutil.copytree()?\n",
    "\n",
    "- `shutil.copy()`: It is used to copy a file from one location to another. It takes two arguments: the path to the source file and the path to the destination file. \n",
    "If `dst` is a directory, the file is copied into that directory with the same base name. If `dst` is a file path, the file is copied and renamed to the specified destination path.If the destination file already exists, it will be overwritten.\n",
    "\n",
    "- `shutil.copytree()`: It is used to recursively copy an entire directory tree from one location to another. It takes two arguments: the path to the source directory and the path to the destination directory. If the destination directory already exists, it will raise an error.\n",
    "\n",
    "    In summary, `shutil.copy()` is used to copy individual files, while `shutil.copytree()` is used to copy entire directory trees."
   ]
  },
  {
   "cell_type": "markdown",
   "metadata": {},
   "source": [
    "2. What function is used to rename files?\n",
    "\n",
    "- To rename files in Python, we use the `os.rename()` function."
   ]
  },
  {
   "cell_type": "markdown",
   "metadata": {},
   "source": [
    "3. What is the difference between the delete functions in the send2trash and shutil modules?\n",
    "\n",
    "- send2trash:\n",
    "  - send2trash module provides a function called send2trash.send2trash() which is used to move files or directories to the recycle bin/trash instead of directly deleting them.\n",
    "\n",
    "- Shutil:\n",
    "  -  Shutil module provides a function called as shutil.rmtree() which is used to recursively delete a directory tree, which means it deletes the specified directory and all its contents without moving them to the trash.\n",
    "  - This operation is irreversible and directly removes the files from the file system.\n",
    "\n",
    "    In summary, `send2trash` sends files and directories to the recycle bin/trash for potential recovery, while `shutil` directly deletes them from the filesystem.\n"
   ]
  },
  {
   "cell_type": "markdown",
   "metadata": {},
   "source": [
    "4. ZipFile objects have a close() method just like File objects’ close() method. What ZipFile method is equivalent to File objects’ open() method?\n",
    "\n",
    "- The equivalent method in `ZipFile` objects to File objects' `open()` method is `ZipFile()` itself. "
   ]
  },
  {
   "cell_type": "markdown",
   "metadata": {},
   "source": [
    "5. Create a programme that searches a folder tree for files with a certain file extension (such as .pdf or .jpg). Copy these files from whatever location they are in to a new folder"
   ]
  },
  {
   "cell_type": "code",
   "execution_count": 1,
   "metadata": {},
   "outputs": [
    {
     "name": "stdout",
     "output_type": "stream",
     "text": [
      "Folder Name ➞ C:\\Users\\Devendra\\Projects\\Assignments\\Python\n",
      "\n",
      "Sub Folders ➞ []\n",
      "\n",
      "Files ➞ ['10th Assignment.ipynb', '7th Assignment.ipynb', '8th Assignment.ipynb', '9th Assignment.ipynb']\n",
      "\n",
      "Copied C:\\Users\\Devendra\\Projects\\Assignments\\Python\\10th Assignment.ipynb to C:\\Users\\Devendra\\Projects\\Assignments\\test\\10th Assignment.ipynb\n",
      "Copied C:\\Users\\Devendra\\Projects\\Assignments\\Python\\7th Assignment.ipynb to C:\\Users\\Devendra\\Projects\\Assignments\\test\\7th Assignment.ipynb\n",
      "Copied C:\\Users\\Devendra\\Projects\\Assignments\\Python\\8th Assignment.ipynb to C:\\Users\\Devendra\\Projects\\Assignments\\test\\8th Assignment.ipynb\n",
      "Copied C:\\Users\\Devendra\\Projects\\Assignments\\Python\\9th Assignment.ipynb to C:\\Users\\Devendra\\Projects\\Assignments\\test\\9th Assignment.ipynb\n"
     ]
    }
   ],
   "source": [
    "import os\n",
    "import shutil\n",
    "\n",
    "def find_and_copy_files(source_folder, target_folder, file_extension):\n",
    "\n",
    "    os.makedirs(target_folder, exist_ok=True)\n",
    "    \n",
    "    for foldername, subfolders, filenames in os.walk(source_folder):\n",
    "        print(f'Folder Name ➞ {foldername}',end='\\n\\n')\n",
    "        print(f'Sub Folders ➞ {subfolders}',end='\\n\\n')\n",
    "        print(f'Files ➞ {filenames}',end='\\n\\n')\n",
    "        for filename in filenames:\n",
    "            if filename.endswith(file_extension):\n",
    "                source_file = os.path.join(foldername, filename)\n",
    "                target_file = os.path.join(target_folder, filename)\n",
    "                shutil.copy(source_file, target_file)\n",
    "                print(f\"Copied {source_file} to {target_file}\")\n",
    "\n",
    "# Example usage\n",
    "source_folder = r\"C:\\Users\\Devendra\\Projects\\Assignments\\Python\"\n",
    "target_folder = r\"C:\\Users\\Devendra\\Projects\\Assignments\\test\"\n",
    "file_extension = '.ipynb'\n",
    "\n",
    "find_and_copy_files(source_folder, target_folder, file_extension)\n"
   ]
  },
  {
   "cell_type": "code",
   "execution_count": null,
   "metadata": {},
   "outputs": [],
   "source": []
  }
 ],
 "metadata": {
  "kernelspec": {
   "display_name": "base",
   "language": "python",
   "name": "python3"
  },
  "language_info": {
   "codemirror_mode": {
    "name": "ipython",
    "version": 3
   },
   "file_extension": ".py",
   "mimetype": "text/x-python",
   "name": "python",
   "nbconvert_exporter": "python",
   "pygments_lexer": "ipython3",
   "version": "3.11.5"
  }
 },
 "nbformat": 4,
 "nbformat_minor": 2
}
