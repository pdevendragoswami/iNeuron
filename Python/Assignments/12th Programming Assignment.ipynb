{
 "cells": [
  {
   "cell_type": "markdown",
   "metadata": {},
   "source": [
    "1.Write a Python program to Extract Unique values dictionary values?\n"
   ]
  },
  {
   "cell_type": "code",
   "execution_count": 1,
   "metadata": {},
   "outputs": [
    {
     "name": "stdout",
     "output_type": "stream",
     "text": [
      "Unique values: {1, 2, 3, 4, 5}\n"
     ]
    }
   ],
   "source": [
    "def extract_unique_values(dictionary):\n",
    "    unique_values = set()\n",
    "    for value in dictionary.values():\n",
    "        if isinstance(value, list):\n",
    "            unique_values.update(value)\n",
    "        else:\n",
    "            unique_values.add(value)\n",
    "    return unique_values\n",
    "\n",
    "my_dict = {'a': 1, 'b': 2, 'c': 4, 'd': 2, 'e': [1, 2, 3, 5]}\n",
    "unique_values = extract_unique_values(my_dict)\n",
    "print(\"Unique values:\", unique_values)"
   ]
  },
  {
   "cell_type": "markdown",
   "metadata": {},
   "source": [
    "2.Write a Python program to find the sum of all items in a dictionary?\n"
   ]
  },
  {
   "cell_type": "code",
   "execution_count": 2,
   "metadata": {},
   "outputs": [
    {
     "name": "stdout",
     "output_type": "stream",
     "text": [
      "Sum of all items in the dictionary: 60\n"
     ]
    }
   ],
   "source": [
    "def sum_of_dictionary_items(dictionary):\n",
    "    total_sum = 0\n",
    "    for value in dictionary.values():\n",
    "        total_sum += value\n",
    "    return total_sum\n",
    "\n",
    "my_dict = {'a': 10, 'b': 20, 'c': 30}\n",
    "total_sum = sum_of_dictionary_items(my_dict)\n",
    "print(\"Sum of all items in the dictionary:\", total_sum)"
   ]
  },
  {
   "cell_type": "markdown",
   "metadata": {},
   "source": [
    "3.Write a Python program to Merging two Dictionaries?\n"
   ]
  },
  {
   "cell_type": "code",
   "execution_count": 3,
   "metadata": {},
   "outputs": [
    {
     "name": "stdout",
     "output_type": "stream",
     "text": [
      "Merged dictionary: {'a': 1, 'b': 2, 'c': 3, 'd': 4}\n"
     ]
    }
   ],
   "source": [
    "def merge_dicts(dict1, dict2):\n",
    "    dict1.update(dict2)   # Update it with the second dictionary\n",
    "    return dict1\n",
    "\n",
    "dict1 = {'a': 1, 'b': 2}\n",
    "dict2 = {'c': 3, 'd': 4}\n",
    "merged_dict = merge_dicts(dict1, dict2)\n",
    "print(\"Merged dictionary:\", merged_dict)"
   ]
  },
  {
   "cell_type": "markdown",
   "metadata": {},
   "source": [
    "4.Write a Python program to convert key-values list to flat dictionary?"
   ]
  },
  {
   "cell_type": "code",
   "execution_count": 4,
   "metadata": {},
   "outputs": [
    {
     "name": "stdout",
     "output_type": "stream",
     "text": [
      "Flat dictionary: {'a': 1, 'b': 2, 'c': 3}\n"
     ]
    }
   ],
   "source": [
    "def list_to_flat_dictionary(key_value_list):\n",
    "    flat_dictionary = {key: value for key, value in key_value_list}\n",
    "    return flat_dictionary\n",
    "\n",
    "key_value_list = [('a', 1), ('b', 2), ('c', 3)]\n",
    "flat_dictionary = list_to_flat_dictionary(key_value_list)\n",
    "print(\"Flat dictionary:\", flat_dictionary)"
   ]
  },
  {
   "cell_type": "code",
   "execution_count": 5,
   "metadata": {},
   "outputs": [
    {
     "name": "stdout",
     "output_type": "stream",
     "text": [
      "Flat dictionary: {'a': 1, 'b': 2, 'c': 3}\n"
     ]
    }
   ],
   "source": [
    "def list_to_flat_dictionary(key_value_list):\n",
    "    flat_dictionary = dict(key_value_list)\n",
    "    return flat_dictionary\n",
    "\n",
    "key_value_list = [('a', 1), ('b', 2), ('c', 3)]\n",
    "flat_dictionary = list_to_flat_dictionary(key_value_list)\n",
    "print(\"Flat dictionary:\", flat_dictionary)"
   ]
  },
  {
   "cell_type": "markdown",
   "metadata": {},
   "source": [
    "5.Write a Python program to insertion at the beginning in OrderedDict?"
   ]
  },
  {
   "cell_type": "code",
   "execution_count": 6,
   "metadata": {},
   "outputs": [
    {
     "name": "stdout",
     "output_type": "stream",
     "text": [
      "Original OrderedDict: OrderedDict([('b', 2), ('c', 3)])\n",
      "OrderedDict after insertion: OrderedDict([('a', 1), ('b', 2), ('c', 3)])\n"
     ]
    }
   ],
   "source": [
    "from collections import OrderedDict\n",
    "\n",
    "def insert_at_beginning(ordered_dict, key, value):\n",
    "    ordered_dict[key] = value\n",
    "    ordered_dict.move_to_end(key, last=False)\n",
    "  \n",
    "\n",
    "ordered_dict = OrderedDict([('b', 2), ('c', 3)])\n",
    "print(\"Original OrderedDict:\", ordered_dict)\n",
    "\n",
    "insert_at_beginning(ordered_dict, 'a', 1)\n",
    "print(\"OrderedDict after insertion:\", ordered_dict)"
   ]
  },
  {
   "cell_type": "markdown",
   "metadata": {},
   "source": [
    "6.Write a Python program to check order of character in string using OrderedDict()?"
   ]
  },
  {
   "cell_type": "code",
   "execution_count": 7,
   "metadata": {},
   "outputs": [
    {
     "name": "stdout",
     "output_type": "stream",
     "text": [
      "Initial dictionary: {'a': 1000, 'f': 200, 'd': 300, 'c': 400, 'b': 500, 'e': 600}\n",
      "Sorted dictionary by keys: OrderedDict([('a', 1000), ('b', 500), ('c', 400), ('d', 300), ('e', 600), ('f', 200)])\n"
     ]
    }
   ],
   "source": [
    "from collections import OrderedDict\n",
    "\n",
    "def sort_dict_by_keys(initial_dict):\n",
    "    sorted_dict = OrderedDict(sorted(initial_dict.items()))\n",
    "    return sorted_dict\n",
    "\n",
    "\n",
    "initial_dict = {'a': 1000, 'f': 200, 'd': 300, 'c': 400, 'b': 500, 'e': 600}\n",
    "print(\"Initial dictionary:\", initial_dict)\n",
    "\n",
    "final_dict = sort_dict_by_keys(initial_dict)\n",
    "print(\"Sorted dictionary by keys:\", final_dict)"
   ]
  },
  {
   "cell_type": "markdown",
   "metadata": {},
   "source": [
    "7.Write a Python program to sort Python Dictionaries by Key or Value?\n"
   ]
  },
  {
   "cell_type": "code",
   "execution_count": 8,
   "metadata": {},
   "outputs": [
    {
     "name": "stdout",
     "output_type": "stream",
     "text": [
      "Sorted by key: {'Banana': 60, 'Grape': 13, 'Mango': 100, 'PineApple': 22}\n",
      "Sorted by value: {'Grape': 13, 'PineApple': 22, 'Banana': 60, 'Mango': 100}\n"
     ]
    }
   ],
   "source": [
    "def sort_dict(in_dict, sort_type):\n",
    "    if sort_type == 'key':\n",
    "        return dict(sorted(in_dict.items(), key=lambda x: x[0]))\n",
    "    elif sort_type == 'value':\n",
    "        return dict(sorted(in_dict.items(), key=lambda x: x[1]))\n",
    "\n",
    "d_items = {'Mango': 100, 'PineApple': 22, 'Banana': 60, 'Grape': 13}\n",
    "\n",
    "sorted_by_key = sort_dict(d_items, 'key')\n",
    "print(\"Sorted by key:\", sorted_by_key)\n",
    "\n",
    "sorted_by_value = sort_dict(d_items, 'value')\n",
    "print(\"Sorted by value:\", sorted_by_value)"
   ]
  }
 ],
 "metadata": {
  "kernelspec": {
   "display_name": "base",
   "language": "python",
   "name": "python3"
  },
  "language_info": {
   "codemirror_mode": {
    "name": "ipython",
    "version": 3
   },
   "file_extension": ".py",
   "mimetype": "text/x-python",
   "name": "python",
   "nbconvert_exporter": "python",
   "pygments_lexer": "ipython3",
   "version": "3.11.5"
  }
 },
 "nbformat": 4,
 "nbformat_minor": 2
}
