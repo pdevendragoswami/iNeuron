{
 "cells": [
  {
   "cell_type": "markdown",
   "id": "10e8d540-8ea5-461e-852b-eecdef7239f9",
   "metadata": {},
   "source": [
    "1. Write a Python program to check if the given number is a Disarium Number?"
   ]
  },
  {
   "cell_type": "code",
   "execution_count": 1,
   "id": "a3e1a1df-3ea8-492a-8019-274555669250",
   "metadata": {},
   "outputs": [
    {
     "data": {
      "text/plain": [
       "'135 is disarium number.'"
      ]
     },
     "execution_count": 1,
     "metadata": {},
     "output_type": "execute_result"
    }
   ],
   "source": [
    "def disarium_number(number):\n",
    "    num_str = str(number)\n",
    "    total = 0\n",
    "    for i in range(len(num_str)):\n",
    "        total += int(num_str[i])**(i+1)\n",
    "        \n",
    "    if total == number:\n",
    "        return (f\"{number} is disarium number.\")\n",
    "    else:\n",
    "        return (f\"{number} is not a disarium number.\")\n",
    "    \n",
    "disarium_number(135)"
   ]
  },
  {
   "cell_type": "markdown",
   "id": "426bc412-20d6-40db-8d95-423d02acbe36",
   "metadata": {},
   "source": [
    "2. Write a Python program to print all disarium numbers between 1 to 100?"
   ]
  },
  {
   "cell_type": "code",
   "execution_count": 9,
   "id": "8270c6ce-c7d0-4e7e-bcff-d50af382840d",
   "metadata": {},
   "outputs": [
    {
     "data": {
      "text/plain": [
       "[1, 2, 3, 4, 5, 6, 7, 8, 9, 89]"
      ]
     },
     "execution_count": 9,
     "metadata": {},
     "output_type": "execute_result"
    }
   ],
   "source": [
    "disarium_num = []\n",
    "\n",
    "for number in range(1,101):\n",
    "    num_str = str(number)\n",
    "    total = 0\n",
    "    for i in range(len(num_str)):\n",
    "        total += int(num_str[i])**(i+1)\n",
    "        \n",
    "    if total == number:\n",
    "        disarium_num.append(number)\n",
    "        \n",
    "disarium_num   "
   ]
  },
  {
   "cell_type": "markdown",
   "id": "e992ba66-fd50-4b25-87bd-d5f1e3e8f581",
   "metadata": {},
   "source": [
    "3. Write a Python program to check if the given number is Happy Number?"
   ]
  },
  {
   "cell_type": "code",
   "execution_count": 4,
   "id": "945674bc-f482-4a1a-89d3-70c8a85182f0",
   "metadata": {},
   "outputs": [
    {
     "name": "stdin",
     "output_type": "stream",
     "text": [
      "Enter a number to check if it's a Happy Number:  4\n"
     ]
    },
    {
     "name": "stdout",
     "output_type": "stream",
     "text": [
      "4 is not a Happy Number\n"
     ]
    }
   ],
   "source": [
    "def happy_number(n):\n",
    "    def get_next(n):\n",
    "        total = 0\n",
    "        while n > 0:\n",
    "            digit = n % 10\n",
    "            total += digit ** 2\n",
    "            n //= 10\n",
    "        return total\n",
    "\n",
    "    seen = set()\n",
    "    while n != 1 and n not in seen:\n",
    "        seen.add(n)\n",
    "        n = get_next(n)\n",
    "    return n == 1\n",
    "\n",
    "number = int(input(\"Enter a number to check if it's a Happy Number: \"))\n",
    "\n",
    "if happy_number(number):\n",
    "    print(number, \"is a Happy Number\")\n",
    "else:\n",
    "    print(number, \"is not a Happy Number\")\n"
   ]
  },
  {
   "cell_type": "markdown",
   "id": "9c178888-f0cf-42d8-944f-a05d27a432ec",
   "metadata": {},
   "source": [
    "4. Write a Python program to print all happy numbers between 1 and 100?"
   ]
  },
  {
   "cell_type": "code",
   "execution_count": null,
   "id": "68ab8d36-72f4-4995-806c-5ad58c403380",
   "metadata": {},
   "outputs": [],
   "source": [
    "\n",
    "happy_numbers = []\n",
    "\n",
    "for num in range(1, 101):\n",
    "    if happy_number(num):\n",
    "        happy_numbers.append(num)\n",
    "\n",
    "print(\"Happy Numbers between 1 and 100 are:\")\n",
    "for happy_number in happy_numbers:\n",
    "    print(happy_number, end=\" \")\n"
   ]
  },
  {
   "cell_type": "markdown",
   "id": "c5520bc1-bd07-46c2-a577-7b44b81c60c0",
   "metadata": {},
   "source": [
    "5. Write a Python program to determine whether the given number is a Harshad Number?"
   ]
  },
  {
   "cell_type": "code",
   "execution_count": 5,
   "id": "2b029edb-623b-4d60-a1e8-1d83bd4257bc",
   "metadata": {},
   "outputs": [
    {
     "data": {
      "text/plain": [
       "'The number 12 is harshad number'"
      ]
     },
     "execution_count": 5,
     "metadata": {},
     "output_type": "execute_result"
    }
   ],
   "source": [
    "def harshad_number(n):\n",
    "    str_num = str(n)\n",
    "    total = 0\n",
    "    for i in str_num:\n",
    "        total += int(i)\n",
    "        \n",
    "    if n%total == 0:\n",
    "        return (f\"The number {n} is harshad number\")\n",
    "    else:\n",
    "        return (f\"The number {n} is not a harshad number\")\n",
    "    \n",
    "harshad_number(12)"
   ]
  },
  {
   "cell_type": "markdown",
   "id": "098000e2-922b-4848-892f-fcb037c03bcc",
   "metadata": {},
   "source": [
    "6. Write a Python program to print all pronic numbers between 1 and 100?"
   ]
  },
  {
   "cell_type": "code",
   "execution_count": 9,
   "id": "2c0a7047-9087-46bb-8da3-daf6e808c927",
   "metadata": {},
   "outputs": [
    {
     "data": {
      "text/plain": [
       "[1,\n",
       " 2,\n",
       " 3,\n",
       " 4,\n",
       " 5,\n",
       " 6,\n",
       " 7,\n",
       " 8,\n",
       " 9,\n",
       " 10,\n",
       " 12,\n",
       " 18,\n",
       " 20,\n",
       " 21,\n",
       " 24,\n",
       " 27,\n",
       " 30,\n",
       " 36,\n",
       " 40,\n",
       " 42,\n",
       " 45,\n",
       " 48,\n",
       " 50,\n",
       " 54,\n",
       " 60,\n",
       " 63,\n",
       " 70,\n",
       " 72,\n",
       " 80,\n",
       " 81,\n",
       " 84,\n",
       " 90,\n",
       " 100]"
      ]
     },
     "execution_count": 9,
     "metadata": {},
     "output_type": "execute_result"
    }
   ],
   "source": [
    "harshad_num = []\n",
    "for number in range(1,101):\n",
    "    str_num = str(number)\n",
    "    total = 0\n",
    "    for i in str_num:\n",
    "        total += int(i)\n",
    "        \n",
    "    if number%total == 0:\n",
    "        harshad_num.append(number)\n",
    "\n",
    "harshad_num"
   ]
  }
 ],
 "metadata": {
  "kernelspec": {
   "display_name": "Python 3 (ipykernel)",
   "language": "python",
   "name": "python3"
  },
  "language_info": {
   "codemirror_mode": {
    "name": "ipython",
    "version": 3
   },
   "file_extension": ".py",
   "mimetype": "text/x-python",
   "name": "python",
   "nbconvert_exporter": "python",
   "pygments_lexer": "ipython3",
   "version": "3.10.8"
  }
 },
 "nbformat": 4,
 "nbformat_minor": 5
}
