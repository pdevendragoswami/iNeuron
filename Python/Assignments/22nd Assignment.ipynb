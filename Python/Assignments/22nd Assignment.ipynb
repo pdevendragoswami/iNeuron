{
 "cells": [
  {
   "cell_type": "markdown",
   "metadata": {},
   "source": [
    "1. What is the result of the code, and explain\n",
    ">>> X = 'iNeuron'\n",
    "\n",
    ">>> def func():\n",
    "\n",
    "                print(X)\n",
    "    \n",
    ">>> func()"
   ]
  },
  {
   "cell_type": "code",
   "execution_count": null,
   "metadata": {},
   "outputs": [],
   "source": [
    "X = 'iNeuron'\n",
    "def func():\n",
    "    print(X)\n",
    "    \n",
    "func()"
   ]
  },
  {
   "cell_type": "markdown",
   "metadata": {},
   "source": [
    "- When func() is called,the print statement is executed and it search for variable 'X' in the local scope which is not defined locally.\n",
    "-  Hence the variable is not found, and it looks in the global scope where it finds X='iNeuron,hence output is 'iNeuron'."
   ]
  },
  {
   "cell_type": "markdown",
   "metadata": {},
   "source": [
    "2. What is the result of the code, and explain?\n",
    ">>> X = 'iNeuron'\n",
    "\n",
    ">>> def func():\n",
    "\n",
    "            X = 'NI!'\n",
    ">>> func()\n",
    "\n",
    ">>> print(X)"
   ]
  },
  {
   "cell_type": "code",
   "execution_count": null,
   "metadata": {},
   "outputs": [],
   "source": [
    "X = 'iNeuron'\n",
    "def func():\n",
    "    X = 'NI!'\n",
    "    \n",
    "func()\n",
    "print(X)"
   ]
  },
  {
   "cell_type": "markdown",
   "metadata": {},
   "source": [
    "- The output will be the 'iNeuron' as print(X) is executed after the func().\n",
    "- Since print(X) is in the global scope, it accesses the global variable X, which retains its original value 'iNeuron'. \n",
    "- Thus, when print(X) is called, it prints 'iNeuron'. The local variable X defined inside the func() function does not affect the value of the global variable X."
   ]
  },
  {
   "cell_type": "markdown",
   "metadata": {},
   "source": [
    "3. What does this code print, and why?\n",
    ">>> X = 'iNeuron'\n",
    "\n",
    ">>> def func():\n",
    "\n",
    "            X = 'NI'\n",
    "        \n",
    "            print(X)\n",
    "\n",
    "        \n",
    ">>> func()\n",
    "\n",
    ">>> print(X)\n"
   ]
  },
  {
   "cell_type": "code",
   "execution_count": null,
   "metadata": {},
   "outputs": [],
   "source": [
    "X = 'iNeuron'\n",
    "def func():\n",
    "    X = 'NI'\n",
    "    print(X)\n",
    "    \n",
    "func()\n",
    "print(X)"
   ]
  },
  {
   "cell_type": "markdown",
   "metadata": {},
   "source": [
    "- The output will be 'NI' and 'iNeuron'.\n",
    "-  As func() is called, the print(X) statement prints the local variable 'X' which is 'NI'.\n",
    "- After that print(X) is executed which is outside the function and in the global scope which retains its original value 'iNeuron' and prints 'iNeuron'."
   ]
  },
  {
   "cell_type": "markdown",
   "metadata": {},
   "source": [
    "4. What output does this code produce? Why?\n",
    "\n",
    ">>> X = 'iNeuron'\n",
    "\n",
    ">>> def func():\n",
    "\n",
    "                global X\n",
    "\n",
    "                X = 'NI'\n",
    "        \n",
    ">>> func()\n",
    "\n",
    ">>> print(X)"
   ]
  },
  {
   "cell_type": "code",
   "execution_count": null,
   "metadata": {},
   "outputs": [],
   "source": [
    "X = 'iNeuron'\n",
    "\n",
    "def func():\n",
    "    global X\n",
    "    X = 'NI'\n",
    "\n",
    "func()\n",
    "print(X)"
   ]
  },
  {
   "cell_type": "markdown",
   "metadata": {},
   "source": [
    "- The output will be 'NI'. \n",
    "- The initial value of 'X' is 'iNeuron' in the global scope.\n",
    "- Inside the func(), we access the variable 'X' by global keyword and update its value to 'NI'.\n",
    "- When func() is called,the value of 'X' is get updated to 'NI'.\n",
    "- After that, print(X) is executed with the global variable which is updated to 'NI'."
   ]
  },
  {
   "cell_type": "markdown",
   "metadata": {},
   "source": [
    "5. What about this code—what’s the output, and why?\n",
    "\n",
    ">>> X = 'iNeuron'\n",
    "\n",
    ">>> def func():\n",
    "\n",
    "            X = 'NI'\n",
    "\n",
    "            def nested():\n",
    "\n",
    "                print(X)\n",
    "\n",
    "            nested()\n",
    ">>> func()\n",
    "\n",
    ">>> X\n"
   ]
  },
  {
   "cell_type": "code",
   "execution_count": null,
   "metadata": {},
   "outputs": [],
   "source": [
    "X = 'iNeuron'\n",
    "\n",
    "def func():\n",
    "    X = 'NI'\n",
    "    def nested():\n",
    "        print(X)\n",
    "    nested()\n",
    "\n",
    "func()\n",
    "X"
   ]
  },
  {
   "cell_type": "markdown",
   "metadata": {},
   "source": [
    "- The output will be 'NI' and 'iNeuron'.\n",
    "- When the func() is called,the value of variable 'X' is assigned 'NI' in local scope.\n",
    "- After that, nested() is called, in which the print(X) statement is executed and value of X is printed which is 'NI'.\n",
    "- Since X is a outside the function and in global scope, therefore it retains its original value 'iNeuron'."
   ]
  },
  {
   "cell_type": "markdown",
   "metadata": {},
   "source": [
    "6. How about this code: what is its output in Python 3, and explain?\n",
    "\n",
    ">>> def func():\n",
    "\n",
    "            X = 'NI'\n",
    "\n",
    "            def nested():\n",
    "\n",
    "                nonlocal X\n",
    "\n",
    "                X = 'Spam'\n",
    "\n",
    "            nested()\n",
    "\n",
    "            print(X)\n",
    "\n",
    ">>> func()"
   ]
  },
  {
   "cell_type": "code",
   "execution_count": null,
   "metadata": {},
   "outputs": [],
   "source": [
    "def func():\n",
    "    X = 'NI'\n",
    "    def nested():\n",
    "        nonlocal X\n",
    "        X = 'Spam'\n",
    "    nested()\n",
    "    print(X)\n",
    "    \n",
    "func()"
   ]
  },
  {
   "cell_type": "markdown",
   "metadata": {},
   "source": [
    "-  The output will be the 'Spam'.\n",
    "-  Nonlocal keyword is used to declare a variable as not local.Hence the statement X = \"Spam\" is modified in the global scope.\n",
    "- When the function is called, the value to X is assigned 'NI' in local scope.\n",
    "- After that, nested() is called, where value of X is updated to 'Spam' in global scope.\n",
    "- And then print(X) is executed which gives the output as 'Spam'"
   ]
  }
 ],
 "metadata": {
  "kernelspec": {
   "display_name": "base",
   "language": "python",
   "name": "python3"
  },
  "language_info": {
   "codemirror_mode": {
    "name": "ipython",
    "version": 3
   },
   "file_extension": ".py",
   "mimetype": "text/x-python",
   "name": "python",
   "nbconvert_exporter": "python",
   "pygments_lexer": "ipython3",
   "version": "3.11.5"
  }
 },
 "nbformat": 4,
 "nbformat_minor": 2
}
