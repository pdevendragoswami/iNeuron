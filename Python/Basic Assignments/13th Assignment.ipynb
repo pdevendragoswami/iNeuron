{
 "cells": [
  {
   "cell_type": "markdown",
   "metadata": {},
   "source": [
    "1. What advantages do Excel spreadsheets have over CSV spreadsheets?\n",
    "\n",
    "- The Advantages of Excel over CSV are:\n",
    "    - Excel (XLS and XLSX) file formats are better for storing and analysing complex data.\n",
    "    - An Excel not only stores data but can also do operations on the data using macros, formulas etc\n",
    "    - CSV files are plain-text files, Does not contain formatting, formulas, macros, etc. It is also known as flat files."
   ]
  },
  {
   "cell_type": "markdown",
   "metadata": {},
   "source": [
    "2.What do you pass to csv.reader() and csv.writer() to create reader and writer objects?"
   ]
  },
  {
   "cell_type": "code",
   "execution_count": 1,
   "metadata": {},
   "outputs": [
    {
     "name": "stdout",
     "output_type": "stream",
     "text": [
      "['Name', 'Age', 'City']\n",
      "['John', 30, 'New York']\n",
      "['Alice', 25, 'Los Angeles']\n",
      "['Bob', 35, 'Chicago']\n"
     ]
    }
   ],
   "source": [
    "import csv\n",
    "\n",
    "data = [['Name', 'Age', 'City'],['John', 30, 'New York'],\n",
    "        ['Alice', 25, 'Los Angeles'],['Bob', 35, 'Chicago']]\n",
    "\n",
    "with open('output.csv', 'w', newline='') as file:\n",
    "    csv_writer = csv.writer(file)\n",
    "    for row in data:\n",
    "        csv_writer.writerow(row)\n",
    "\n",
    "\n",
    "with open('output.csv', 'r') as file:\n",
    "    csv_reader = csv.reader(file)\n",
    "    for row in data:\n",
    "        print(row)"
   ]
  },
  {
   "cell_type": "markdown",
   "metadata": {},
   "source": [
    "3. What modes do File objects for reader and writer objects need to be opened in?\n",
    "\n",
    "- Reader Objects: The file object passed to csv.reader() should be opened in read ('r') mode.\n",
    "\n",
    "- Writer Objects: The file object passed to csv.writer() should be opened in write ('w') mode."
   ]
  },
  {
   "cell_type": "markdown",
   "metadata": {},
   "source": [
    "4. What method takes a list argument and writes it to a CSV file?\n",
    "\n",
    "- There are 2 methods for writing to a CSV file.\n",
    "    - writerow() - is used to write a single row at a time.\n",
    "    - writerows() - is used to write multiple rows at a time.\n",
    "\n",
    "    writerow() method takes a list argument and write it to a CSV file where each element in the list corresponds to a field in the CSV row.\n"
   ]
  },
  {
   "cell_type": "code",
   "execution_count": 2,
   "metadata": {},
   "outputs": [],
   "source": [
    "import csv\n",
    "\n",
    "with open('output.csv', 'w', newline='') as file:\n",
    "    csv_writer = csv.writer(file)\n",
    "    for row in data:\n",
    "        csv_writer.writerow(row)"
   ]
  },
  {
   "cell_type": "markdown",
   "metadata": {},
   "source": [
    "5. What do the keyword arguments delimiter and line terminator do?\n",
    "\n",
    "- The keyword arguments delimiter and lineterminator are used to control the formatting of CSV files when writing them using the csv.writer() function.\n",
    "\n",
    "    - delimiter: is used to separate fields in a CSV file. By default, the delimiter is a comma (,). For example, delimiter='\\t' would use a tab character as the delimiter.\n",
    "\n",
    "    - lineterminator: is used to terminate rows in a CSV file. By default, the line terminator is '\\r\\n'. For example, lineterminator='\\r\\n' would use a carriage return followed by a newline character as the line terminator.\n"
   ]
  },
  {
   "cell_type": "markdown",
   "metadata": {},
   "source": [
    "6. What function takes a string of JSON data and returns a Python data structure?\\\n",
    "\n",
    "- `json.loads()` method takes a string of JSON data and returns a Python data structure\n"
   ]
  },
  {
   "cell_type": "code",
   "execution_count": 3,
   "metadata": {},
   "outputs": [
    {
     "name": "stdout",
     "output_type": "stream",
     "text": [
      "Data type of json_string: <class 'str'>\n",
      "{'name': 'John', 'age': 30, 'city': 'New York'}\n",
      "Data type of data: <class 'dict'>\n"
     ]
    }
   ],
   "source": [
    "import json\n",
    "\n",
    "json_string = '{\"name\": \"John\", \"age\": 30, \"city\": \"New York\"}'\n",
    "data = json.loads(json_string)\n",
    "\n",
    "print(f\"Data type of json_string: {type(json_string)}\")\n",
    "print(data)\n",
    "print(f\"Data type of data: {type(data)}\")"
   ]
  },
  {
   "cell_type": "markdown",
   "metadata": {},
   "source": [
    "7. What function takes a Python data structure and returns a string of JSON data?\n",
    "\n",
    "- `json.dumps()` method takes a python data structure and returns a string of JSON data"
   ]
  },
  {
   "cell_type": "code",
   "execution_count": 4,
   "metadata": {},
   "outputs": [
    {
     "name": "stdout",
     "output_type": "stream",
     "text": [
      "Data type of data: <class 'dict'>\n",
      "{\"name\": \"John\", \"age\": 30, \"city\": \"New York\"}\n",
      "Data type of json_string: <class 'str'>\n"
     ]
    }
   ],
   "source": [
    "import json\n",
    "\n",
    "data = {'name': 'John', 'age': 30, 'city': 'New York'}\n",
    "json_string = json.dumps(data)\n",
    "\n",
    "print(f\"Data type of data: {type(data)}\")\n",
    "print(json_string)\n",
    "print(f\"Data type of json_string: {type(json_string)}\")"
   ]
  }
 ],
 "metadata": {
  "kernelspec": {
   "display_name": "base",
   "language": "python",
   "name": "python3"
  },
  "language_info": {
   "codemirror_mode": {
    "name": "ipython",
    "version": 3
   },
   "file_extension": ".py",
   "mimetype": "text/x-python",
   "name": "python",
   "nbconvert_exporter": "python",
   "pygments_lexer": "ipython3",
   "version": "3.11.5"
  }
 },
 "nbformat": 4,
 "nbformat_minor": 2
}
