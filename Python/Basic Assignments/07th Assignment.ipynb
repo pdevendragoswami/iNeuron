{
 "cells": [
  {
   "cell_type": "markdown",
   "metadata": {},
   "source": [
    "1. What is the name of the feature responsible for generating Regex objects?\n",
    "\n",
    "-  're' module is responsible for generting Regex objects."
   ]
  },
  {
   "cell_type": "markdown",
   "metadata": {},
   "source": [
    "2. Why do raw strings often appear in Regex objects?\n",
    "\n",
    "- In Regex objects,backslash is used to escape character('\\\\'), which can lead issue during regular expression.\n",
    "- Raw strings (strings prefixed with r like r\"some string\") are used to avoid issues with backslashes (\\\\)."
   ]
  },
  {
   "cell_type": "markdown",
   "metadata": {},
   "source": [
    "3. What is the return value of the search() method?\n",
    "\n",
    "- The search() method returns a match object if it finds a match anywhere in the string else it returns None."
   ]
  },
  {
   "cell_type": "code",
   "execution_count": 1,
   "metadata": {},
   "outputs": [
    {
     "name": "stdout",
     "output_type": "stream",
     "text": [
      "Match found:  <re.Match object; span=(0, 7), match='iNeuron'>\n"
     ]
    }
   ],
   "source": [
    "import re\n",
    "\n",
    "pattern = r'ineuron'\n",
    "\n",
    "text = \"iNeuron is an online edtech platform.\"\n",
    "\n",
    "match = re.search(pattern, text,flags=re.IGNORECASE)\n",
    "\n",
    "if match:\n",
    "    print(\"Match found: \", match)  \n",
    "else:\n",
    "    print(\"No match found: \",match)"
   ]
  },
  {
   "cell_type": "markdown",
   "metadata": {},
   "source": [
    "4. From a Match item, how do you get the actual strings that match the pattern?\n",
    "\n",
    "- group() method is used to get the actual strings that match the pattern from a Match item."
   ]
  },
  {
   "cell_type": "code",
   "execution_count": 2,
   "metadata": {},
   "outputs": [
    {
     "name": "stdout",
     "output_type": "stream",
     "text": [
      "Match found:  iNeuron\n"
     ]
    }
   ],
   "source": [
    "import re\n",
    "\n",
    "pattern = r'ineuron'\n",
    "\n",
    "text = \"iNeuron is an online edutech platform.\"\n",
    "\n",
    "match = re.search(pattern, text,flags=re.IGNORECASE)\n",
    "\n",
    "if match:\n",
    "    print(\"Match found: \", match.group())  \n",
    "else:\n",
    "    print(\"No match found: \",match)"
   ]
  },
  {
   "cell_type": "markdown",
   "metadata": {},
   "source": [
    "5.  In the regex which created from the r'(\\d\\d\\d)-(\\d\\d\\d-\\d\\d\\d\\d)', what does group zero cover? Group 2? Group 1?\n",
    "\n",
    "- In Regex,\n",
    "\n",
    "    - the group zero cover the entire pattern.\n",
    "\n",
    "    - the group one cover the set of first three digit.\n",
    "\n",
    "    - the group two cover the set of second three digit followed by hypen and then four digit.\n"
   ]
  },
  {
   "cell_type": "markdown",
   "metadata": {},
   "source": [
    "6. In standard expression syntax, parentheses and intervals have distinct meanings. How can you tell a regex that you want it to fit real parentheses and periods?\n",
    "\n",
    "- To match parentheses and interval in regex, we escape them using a backslash `\\`.\n",
    "    - for parentheses `(` and `)`, use `\\(` and `\\)`.\n",
    "    - for a period `.`, use `\\.`.\n",
    "\n",
    "\n"
   ]
  },
  {
   "cell_type": "markdown",
   "metadata": {},
   "source": [
    "7. The findall() method returns a string list or a list of string tuples. What causes it to return one of the two options?\n",
    "\n",
    "- If the regex pattern does not find any groups, a list of strings matched is returned.\n",
    "- If the regex pattern find one or more groups, a list of tuple is returned.\n"
   ]
  },
  {
   "cell_type": "markdown",
   "metadata": {},
   "source": [
    "8. In standard expressions, what does the | character mean?\n",
    "\n",
    "- In regular expressions, the | character represents the logical OR operator."
   ]
  },
  {
   "cell_type": "markdown",
   "metadata": {},
   "source": [
    "9. In regular expressions, what does the ? character stand for?\n",
    "\n",
    "- In regular expressions, the ? character is used to match zero or one occurrences of the preceding element."
   ]
  },
  {
   "cell_type": "markdown",
   "metadata": {},
   "source": [
    "10.In regular expressions, what is the difference between the + and * characters?\n",
    "\n",
    "- The + character matches one or more occurrences of the preceding element. It requires at least one occurrence of the preceding element for a match.\n",
    "\n",
    "- The * character matches zero or more occurrences of the preceding element. It allows for the preceding element to occur zero times or any number of times."
   ]
  },
  {
   "cell_type": "markdown",
   "metadata": {},
   "source": [
    "11. What is the difference between {4} and {4,5} in regular expression?\n",
    "\n",
    "- In regular expressions:\n",
    "    - {4} specifies exactly 4 occurrences of the preceding element.\n",
    "    - {4,5} specifies a range where the preceding element must occur between 4 and 5 times, inclusive."
   ]
  },
  {
   "cell_type": "markdown",
   "metadata": {},
   "source": [
    "12. What do you mean by the \\d, \\w, and \\s shorthand character classes signify in regular expressions?\n",
    "\n",
    "- In regular expressions, the shorthand character classes `\\d`, `\\w`, and `\\s` have the following meanings:\n",
    "    - `\\d`: Matches any digit character (equivalent to `[0-9]`).\n",
    "    - `\\w`: Matches any word character, including letters, digits, and underscores (equivalent to `[a-zA-Z0-9_]`).\n",
    "    - `\\s`: Matches any whitespace character, including spaces, tabs, and newline character (equivalent to `[\\t\\n\\f\\r\\p{Z}]`)."
   ]
  },
  {
   "cell_type": "markdown",
   "metadata": {},
   "source": [
    "13. What do means by \\D, \\W, and \\S shorthand character classes signify in regular expressions?\n",
    "\n",
    "- In regular expressions, the shorthand character classes `\\D`, `\\W`, and `\\S`  have the following meanings:\n",
    "    - `\\D`: Matches any character that is not a digit (equivalent to `[^0-9]`).\n",
    "    - `\\W`: Matches any character that is not a word character (equivalent to `[^a-zA-Z0-9_]`).\n",
    "    - `\\S`: Matches any character that is not a whitespace character.\n",
    "\n"
   ]
  },
  {
   "cell_type": "markdown",
   "metadata": {},
   "source": [
    "14. What is the difference between .*? and .*?\n",
    "\n",
    "- In regular expressions, `.*?` and `.*?` are identical. Both represent a non-greedy mode which returns the shortest string that meets the condition."
   ]
  },
  {
   "cell_type": "markdown",
   "metadata": {},
   "source": [
    "15. What is the syntax for matching both numbers and lowercase letters with a character class?\n",
    "\n",
    "- To match both numbers and lowercase letters using a character class, we use `[0-9a-z]`.\n"
   ]
  },
  {
   "cell_type": "markdown",
   "metadata": {},
   "source": [
    "16. What is the procedure for making a normal expression in regax case insensitive?\n",
    "-   We can make a regular expression case-insensitive by using the `re.IGNORECASE` flag or `re.I` shorthand."
   ]
  },
  {
   "cell_type": "markdown",
   "metadata": {},
   "source": [
    "17. What does the . character normally match? What does it match if re.DOTALL is passed as 2nd argument in re.compile()?\n",
    "\n",
    "- In regular expressions, the `.` (dot) character normally matches any single character except newline (`\\n`).\n",
    "- If the `re.DOTALL` flag is passed as the second argument in the `re.compile()` function, the dot will match any character including newline (`\\n`).   "
   ]
  },
  {
   "cell_type": "markdown",
   "metadata": {},
   "source": [
    "18. If numReg = re.compile(r'\\d+'), what will numRegex.sub('X', '11 drummers, 10 pipers, five rings, 4 hen') return?\n",
    "\n",
    "- The `sub()` method in  `re` module is used to substitute occurrences of a pattern in a string with a replacement string. \n",
    "- It will replace all sequences of digits with the string `'X'`.\n",
    "- Original string: `'11 drummers, 10 pipers, five rings, 4 hen'`\n",
    "- After substitution: `'X drummers, X pipers, five rings, X hen'`\n"
   ]
  },
  {
   "cell_type": "markdown",
   "metadata": {},
   "source": [
    "19. What does passing re.VERBOSE as the 2nd argument to re.compile() allow to do?\n",
    "\n",
    "- Passing `re.VERBOSE` as the second argument to `re.compile()` allows us to write regular expressions in a more readable and organized manner by ignoring whitespace and comments within the pattern.(allow us to add whitespace and comments)\n"
   ]
  },
  {
   "cell_type": "code",
   "execution_count": 3,
   "metadata": {},
   "outputs": [],
   "source": [
    "import re\n",
    "\n",
    "# Without re.VERBOSE\n",
    "pattern1 = re.compile(r'\\d{3}-\\d{3}-\\d{4}')\n",
    "\n",
    "# With re.VERBOSE\n",
    "pattern2 = re.compile(r'''\n",
    "    \\d{3}  # Match first three digits\n",
    "    -      # Match dash\n",
    "    \\d{3}  # Match next three digits\n",
    "    -      # Match dash\n",
    "    \\d{4}  # Match last four digits\n",
    "''', re.VERBOSE)"
   ]
  },
  {
   "cell_type": "markdown",
   "metadata": {},
   "source": [
    "20. How would you write a regex that match a number with comma for every three digits? It must match the given following:\n",
    "\n",
    "\n",
    "`'42'`,`'1`,`234'`, `'6,368,745'` but not the following: `'12,34,567'` (which has only two digits between the commas) `'1234'` (which lacks commas)\n",
    "\n"
   ]
  },
  {
   "cell_type": "code",
   "execution_count": 4,
   "metadata": {},
   "outputs": [
    {
     "name": "stdout",
     "output_type": "stream",
     "text": [
      "'42' is a match\n",
      "'1,234' is a match\n",
      "'6,368,745' is a match\n",
      "'12,34,567' is not a match\n",
      "'1234' is not a match\n"
     ]
    }
   ],
   "source": [
    "import re\n",
    "\n",
    "pattern = re.compile(r'^\\d{1,3}(,\\d{3})*$')\n",
    "\n",
    "strings = ['42', '1,234', '6,368,745', '12,34,567', '1234']\n",
    "\n",
    "for s in strings:\n",
    "    if pattern.match(s):\n",
    "        print(f\"'{s}' is a match\")\n",
    "    else:\n",
    "        print(f\"'{s}' is not a match\")"
   ]
  },
  {
   "cell_type": "markdown",
   "metadata": {},
   "source": [
    "21. How would you write a regex that matches the full name of someone whose last name is Watanabe? You can assume that the first name that comes before it will always be one word that begins with a capital letter. The regex must match the following:\n",
    "\n",
    "`'Haruto Watanabe'`\n",
    "\n",
    "`'Alice Watanabe'`\n",
    "\n",
    "`'RoboCop Watanabe'`\n",
    "\n",
    "but not the following:\n",
    "\n",
    "`'haruto Watanabe'` (where the first name is not capitalized)\n",
    "\n",
    "`'Mr. Watanabe'` (where the preceding word has a nonletter character)\n",
    "\n",
    "`'Watanabe'` (which has no first name)\n",
    "\n",
    "`'Haruto watanabe'` (where Watanabe is not capitalized)\n",
    "\n",
    "\n",
    "Ans: pattern = `r'[A-Z]{1}[a-z]*\\sWatanabe'`\n"
   ]
  },
  {
   "cell_type": "code",
   "execution_count": 5,
   "metadata": {},
   "outputs": [
    {
     "name": "stdout",
     "output_type": "stream",
     "text": [
      "Output:  Haruto Watanabe -> <re.Match object; span=(0, 15), match='Haruto Watanabe'>\n",
      "Output:  Alice Watanabe -> <re.Match object; span=(0, 14), match='Alice Watanabe'>\n",
      "Output:  RoboCop Watanabe -> <re.Match object; span=(4, 16), match='Cop Watanabe'>\n",
      "Output:  haruto Watanabe -> None\n",
      "Output:  Mr. Watanabe -> None\n",
      "Output:  Watanabe -> None\n",
      "Output:  Haruto watanabe -> None\n"
     ]
    }
   ],
   "source": [
    "import re\n",
    "pattern = r'[A-Z]{1}[a-z]*\\sWatanabe'\n",
    "namex = re.compile(pattern)\n",
    "for name in ['Haruto Watanabe','Alice Watanabe','RoboCop Watanabe','haruto Watanabe','Mr. Watanabe','Watanabe','Haruto watanabe']:\n",
    "    print('Output: ',name,'->',namex.search(name))"
   ]
  },
  {
   "cell_type": "markdown",
   "metadata": {},
   "source": [
    "22. How would you write a regex that matches a sentence where the first word is either Alice, Bob,or Carol; the second word is either eats, pets, or throws; the third word is apples, cats, or baseballs; and the sentence ends with a period? This regex should be case-insensitive. It must match the following:\n",
    "\n",
    "`'Alice eats apples.'`\n",
    "\n",
    "`'Bob pets cats.'`\n",
    "\n",
    "`'Carol throws baseballs.'`\n",
    "\n",
    "`'Alice throws Apples.'`\n",
    "\n",
    "`'BOB EATS CATS.'`\n",
    "\n",
    "but not the following:\n",
    "\n",
    "`'RoboCop eats apples.'`\n",
    "\n",
    "`'ALICE THROWS FOOTBALLS.'`\n",
    "\n",
    "`'Carol eats 7 cats.'`\n",
    "\n",
    "Ans: pattern = `r'(Alice|Bob|Carol)\\s(eats|pets|throws)\\s(apples|cats|baseballs)\\.'`"
   ]
  },
  {
   "cell_type": "code",
   "execution_count": 6,
   "metadata": {},
   "outputs": [
    {
     "name": "stdout",
     "output_type": "stream",
     "text": [
      "Output:  Alice eats apples. -> <re.Match object; span=(0, 18), match='Alice eats apples.'>\n",
      "Output:  Bob pets cats. -> <re.Match object; span=(0, 14), match='Bob pets cats.'>\n",
      "Output:  Carol throws baseballs. -> <re.Match object; span=(0, 23), match='Carol throws baseballs.'>\n",
      "Output:  Alice throws Apples. -> <re.Match object; span=(0, 20), match='Alice throws Apples.'>\n",
      "Output:  BOB EATS CATS. -> <re.Match object; span=(0, 14), match='BOB EATS CATS.'>\n",
      "Output:  RoboCop eats apples. -> None\n",
      "Output:  ALICE THROWS FOOTBALLS. -> None\n",
      "Output:  Carol eats 7 cats. -> None\n"
     ]
    }
   ],
   "source": [
    "import re\n",
    "pattern = r'(Alice|Bob|Carol)\\s(eats|pets|throws)\\s(apples|cats|baseballs)\\.'\n",
    "casex = re.compile(pattern,re.IGNORECASE)\n",
    "for ele in ['Alice eats apples.','Bob pets cats.','Carol throws baseballs.','Alice throws Apples.','BOB EATS CATS.','RoboCop eats apples.'\n",
    ",'ALICE THROWS FOOTBALLS.','Carol eats 7 cats.']:\n",
    "    print('Output: ',ele,'->',casex.search(ele))"
   ]
  },
  {
   "cell_type": "code",
   "execution_count": null,
   "metadata": {},
   "outputs": [],
   "source": []
  }
 ],
 "metadata": {
  "kernelspec": {
   "display_name": "assignment",
   "language": "python",
   "name": "python3"
  },
  "language_info": {
   "codemirror_mode": {
    "name": "ipython",
    "version": 3
   },
   "file_extension": ".py",
   "mimetype": "text/x-python",
   "name": "python",
   "nbconvert_exporter": "python",
   "pygments_lexer": "ipython3",
   "version": "3.11.5"
  }
 },
 "nbformat": 4,
 "nbformat_minor": 2
}
