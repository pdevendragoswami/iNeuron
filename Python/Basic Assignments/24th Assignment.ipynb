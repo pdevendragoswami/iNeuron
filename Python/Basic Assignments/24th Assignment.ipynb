{
 "cells": [
  {
   "cell_type": "markdown",
   "metadata": {},
   "source": [
    "1. What is the relationship between def statements and lambda expressions ?\n",
    "\n",
    "- `def` statement is used to create a normal function using `def` keyword while Lambda expression is used to create to anonymous function using the `lambda` keyword.\n",
    "\n",
    "- `def` statement is used for creating regular,named functions while `lambda` expression is used for creating small and single expression function.\n",
    "\n",
    "- function with `def` statement can multiple statement and use return statement to return the value while `lambda` function only contain a single expression and the result is automatically returned"
   ]
  },
  {
   "cell_type": "code",
   "execution_count": 4,
   "metadata": {},
   "outputs": [
    {
     "name": "stdout",
     "output_type": "stream",
     "text": [
      "5\n",
      "5\n"
     ]
    }
   ],
   "source": [
    "# Defining a function using def\n",
    "def add(a, b):\n",
    "    return a + b\n",
    "\n",
    "result = add(2, 3)\n",
    "print(result)  \n",
    "\n",
    "\n",
    "# Using a lambda expression\n",
    "add_lambda = lambda a, b: a + b\n",
    "result_lambda = add_lambda(2, 3)\n",
    "print(result_lambda)  "
   ]
  },
  {
   "cell_type": "markdown",
   "metadata": {},
   "source": [
    "2. What is the benefit of lambda?\n",
    "\n",
    "- The following are some of the benefits of lambda expressions:\n",
    "    - It is a single expression anonymous function.\n",
    "    - It can be used as argument to another function, such as in the `map`,`filter` and `sorted` function.\n",
    "    - It enable the creation of moderate to small functions in a single line,\n",
    "    - Fuctions created using lambda expressions can be assigned to a variable and can be used by simply calling the variable.\n"
   ]
  },
  {
   "cell_type": "markdown",
   "metadata": {},
   "source": [
    "3. Compare and contrast map, filter, and reduce.\n",
    "\n",
    "- map():\n",
    "    - The `map` function applies a given function to each item of an iterable (like a list) and returns a new iterable with the results.\n",
    "    - It takes two arguments: the function to apply and the iterable to apply it to.\n",
    "\n",
    "- filter():\n",
    "   - The `filter` function filters elements from an iterable based on a given function that returns True or False (a predicate function).\n",
    "   - It takes two arguments: the predicate function and the iterable to filter.\n",
    "\n",
    "\n",
    "- reduce():\n",
    "   - The `reduce` function applies a rolling computation to sequential pairs of elements in an iterable.\n",
    "   - It takes three arguments: a binary function (a function taking two arguments), the iterable, and an optional initializer value.\n",
    "   - It repeatedly applies the binary function to the current result and the next element of the iterable until all elements have been processed.\n",
    "   \n",
    "   Comparison:\n",
    "\n",
    "   - `map` and `filter` both return iterators that are typically used in combination with list comprehension or converted to lists. `reduce`, on the other hand, returns a single value.\n",
    "   - `map` applies a function to each element, `filter` removes elements based on a condition, and `reduce` aggregates elements pairwise.\n",
    "   - `map` and `filter` are straightforward and commonly used. `reduce` is not commonly used due to its potential complexity and readability issues, and often list comprehensions or other methods are preferred for aggregation tasks.\n"
   ]
  },
  {
   "cell_type": "code",
   "execution_count": 5,
   "metadata": {},
   "outputs": [
    {
     "name": "stdout",
     "output_type": "stream",
     "text": [
      "Map -> [1, 4, 9, 16]\n",
      "Filter -> [1, 3]\n",
      "Reduce -> 10\n"
     ]
    }
   ],
   "source": [
    "from functools import reduce\n",
    "\n",
    "# map function\n",
    "print('Map ->',list(map(lambda x:x**2, [1,2,3,4])))\n",
    "\n",
    "# fitler function\n",
    "print('Filter ->',list(filter(lambda x:x%2 !=0, [1,2,3,4])))\n",
    "\n",
    "# reduce function\n",
    "print('Reduce ->',reduce(lambda x,y:x+y, [1,2,3,4]))\n"
   ]
  },
  {
   "cell_type": "markdown",
   "metadata": {},
   "source": [
    "4. What are function annotations, and how are they used?\n",
    "- Function annotations are a way to attach metadata to the parameters and return value of a function. These annotations are optional and do not affect the function's behavior, but they provide additional information about the types of the function's parameters and return value. \n",
    "\n",
    "- Function annotations are defined using a colon (:) after the parameter name or return arrow (->) after the parameter list, followed by the annotation expression."
   ]
  },
  {
   "cell_type": "code",
   "execution_count": 6,
   "metadata": {},
   "outputs": [],
   "source": [
    "def add(x: int, y: int) -> int:\n",
    "    return x + y"
   ]
  },
  {
   "cell_type": "markdown",
   "metadata": {},
   "source": [
    "5. What are recursive functions, and how are they used?\n",
    "- A recursive function is a function that calls itself during its execution.\n",
    "-  They are often used to solve problems that can be broken down into smaller, simpler versions of the same problem."
   ]
  },
  {
   "cell_type": "markdown",
   "metadata": {},
   "source": [
    "6. What are some general design guidelines for coding functions?\n",
    "\n",
    "- Some of the general design guidelines for coding functions are:\n",
    "    - Always include the docstring to explain the functionality of the function.\n",
    "    - Avoid using or limited use of global variables\n",
    "    - Maintain consistent identation to enhance code readability and follow PEP-8 for indentation and code layouy.\n",
    "    -  Avoid starting variable names with digits.\n",
    "    -  Use descriptive names that convey the purpose of your functions, variables, and constants\n",
    "    - Local variables should be named using CamelCase format (ex: localVariable) whereas Global variables names should be using PascalCase (ex:GlobalVariable).\n",
    "    - Aim for functions that perform a single, well-defined task.\n",
    "    - Break down complex functions into smaller, more manageable ones for improved modularity, reusability, and readability.\n",
    "    - : Define constants with descriptive names instead of using numeric literals or hard-coded values directly within functions.\n",
    "    - Include appropriate error handling and input validation within functions "
   ]
  },
  {
   "cell_type": "markdown",
   "metadata": {},
   "source": [
    "7. Name three or more ways that functions can communicate results to a caller.\n",
    "- A Function can communicate results to a caller in various way:\n",
    "    - `return` statement\n",
    "    - `print` statement\n",
    "    -  `global` variable\n",
    "    - `yield` statement"
   ]
  }
 ],
 "metadata": {
  "kernelspec": {
   "display_name": "base",
   "language": "python",
   "name": "python3"
  },
  "language_info": {
   "codemirror_mode": {
    "name": "ipython",
    "version": 3
   },
   "file_extension": ".py",
   "mimetype": "text/x-python",
   "name": "python",
   "nbconvert_exporter": "python",
   "pygments_lexer": "ipython3",
   "version": "3.11.5"
  }
 },
 "nbformat": 4,
 "nbformat_minor": 2
}
