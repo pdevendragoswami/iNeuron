{
 "cells": [
  {
   "cell_type": "markdown",
   "metadata": {},
   "source": [
    "1. Add the current date to the text file today.txt as a string."
   ]
  },
  {
   "cell_type": "code",
   "execution_count": 1,
   "metadata": {},
   "outputs": [],
   "source": [
    "from datetime import datetime\n",
    "\n",
    "current_date = datetime.now().strftime(\"%Y-%m-%d %H:%M:%S\")\n",
    "\n",
    "with open(\"today.txt\", \"a\") as file:\n",
    "    file.write(current_date)"
   ]
  },
  {
   "cell_type": "markdown",
   "metadata": {},
   "source": [
    "2. Read the text file today.txt into the string today_string"
   ]
  },
  {
   "cell_type": "code",
   "execution_count": 2,
   "metadata": {},
   "outputs": [
    {
     "name": "stdout",
     "output_type": "stream",
     "text": [
      "2024-02-26 20:23:34\n"
     ]
    }
   ],
   "source": [
    "with open(\"today.txt\", \"r\") as file:\n",
    "    today_string = file.read()\n",
    "\n",
    "print(today_string)"
   ]
  },
  {
   "cell_type": "markdown",
   "metadata": {},
   "source": [
    "3. Parse the date from today_string."
   ]
  },
  {
   "cell_type": "code",
   "execution_count": 3,
   "metadata": {},
   "outputs": [
    {
     "name": "stdout",
     "output_type": "stream",
     "text": [
      "2024-02-26 20:23:34\n"
     ]
    }
   ],
   "source": [
    "from datetime import datetime\n",
    "\n",
    "parsed_date = datetime.strptime(today_string.strip(), \"%Y-%m-%d %H:%M:%S\")\n",
    "\n",
    "print(parsed_date)"
   ]
  },
  {
   "cell_type": "markdown",
   "metadata": {},
   "source": [
    "4. List the files in your current directory"
   ]
  },
  {
   "cell_type": "code",
   "execution_count": 4,
   "metadata": {},
   "outputs": [
    {
     "name": "stdout",
     "output_type": "stream",
     "text": [
      "10th Assignment.ipynb\n",
      "11th Assignment.ipynb\n",
      "12th Assignment.ipynb\n",
      "13th Assignment.ipynb\n",
      "14th Assignment.ipynb\n",
      "15th Assignment.ipynb\n",
      "16th Assignment.ipynb\n",
      "17th Assignment.ipynb\n",
      "18th Assignment.ipynb\n",
      "19th Assignment.ipynb\n",
      "20th Assignment.ipynb\n",
      "21th Assignment.ipynb\n",
      "22nd Assignment.ipynb\n",
      "23rd Assignment.ipynb\n",
      "24th Assignment.ipynb\n",
      "25st Assignment.ipynb\n",
      "7th Assignment.ipynb\n",
      "8th Assignment.ipynb\n",
      "9th Assignment.ipynb\n",
      "books.csv\n",
      "books.db\n",
      "cat.jpg\n",
      "logs.txt\n",
      "output.csv\n",
      "programLog.txt\n",
      "rotated_cat.jpg\n",
      "today.txt\n",
      "__pycache__\n"
     ]
    }
   ],
   "source": [
    "import os\n",
    "\n",
    "files = os.listdir()\n",
    "\n",
    "for file in files:\n",
    "    print(file)"
   ]
  },
  {
   "cell_type": "markdown",
   "metadata": {},
   "source": [
    "5. Create a list of all of the files in your parent directory (minimum five files should be available)."
   ]
  },
  {
   "cell_type": "code",
   "execution_count": 5,
   "metadata": {},
   "outputs": [
    {
     "data": {
      "text/plain": [
       "['10th Assignment.ipynb',\n",
       " '11th Assignment.ipynb',\n",
       " '12th Assignment.ipynb',\n",
       " '13th Assignment.ipynb',\n",
       " '14th Assignment.ipynb',\n",
       " '15th Assignment.ipynb',\n",
       " '16th Assignment.ipynb',\n",
       " '17th Assignment.ipynb',\n",
       " '18th Assignment.ipynb',\n",
       " '19th Assignment.ipynb',\n",
       " '20th Assignment.ipynb',\n",
       " '21th Assignment.ipynb',\n",
       " '22nd Assignment.ipynb',\n",
       " '23rd Assignment.ipynb',\n",
       " '24th Assignment.ipynb',\n",
       " '25st Assignment.ipynb',\n",
       " '7th Assignment.ipynb',\n",
       " '8th Assignment.ipynb',\n",
       " '9th Assignment.ipynb',\n",
       " 'books.csv',\n",
       " 'books.db',\n",
       " 'cat.jpg',\n",
       " 'logs.txt',\n",
       " 'output.csv',\n",
       " 'programLog.txt',\n",
       " 'rotated_cat.jpg',\n",
       " 'today.txt',\n",
       " '__pycache__']"
      ]
     },
     "execution_count": 5,
     "metadata": {},
     "output_type": "execute_result"
    }
   ],
   "source": [
    "import os \n",
    "os.listdir()"
   ]
  },
  {
   "cell_type": "markdown",
   "metadata": {},
   "source": [
    "6. Use multiprocessing to create three separate processes. Make each one wait a random number of seconds between one and five, print the current time, and then exit."
   ]
  },
  {
   "cell_type": "code",
   "execution_count": 6,
   "metadata": {},
   "outputs": [],
   "source": [
    "import multiprocessing\n",
    "import random\n",
    "import time\n",
    "from datetime import datetime\n",
    "\n",
    "def worker():\n",
    "\n",
    "    sleep_time = random.randint(1, 5)\n",
    "\n",
    "    time.sleep(sleep_time)\n",
    "    \n",
    "    current_time = datetime.now().strftime(\"%Y-%m-%d %H:%M:%S\")\n",
    "    print(f\"Process {multiprocessing.current_process().name}: Current time is {current_time}\")\n",
    "\n",
    "if __name__ == \"__main__\":\n",
    "    # Create three separate processes\n",
    "    processes = []\n",
    "    for i in range(3):\n",
    "        process = multiprocessing.Process(target=worker, name=f\"Worker-{i+1}\")\n",
    "        processes.append(process)\n",
    "        process.start()\n",
    "    \n",
    "    # Wait for all processes to finish\n",
    "    for process in processes:\n",
    "        process.join()"
   ]
  },
  {
   "cell_type": "markdown",
   "metadata": {},
   "source": [
    "7. Create a date object of your day of birth."
   ]
  },
  {
   "cell_type": "code",
   "execution_count": 7,
   "metadata": {},
   "outputs": [
    {
     "name": "stdout",
     "output_type": "stream",
     "text": [
      "1998-10-15 00:00:00\n"
     ]
    }
   ],
   "source": [
    "from datetime import datetime\n",
    "\n",
    "birthday = datetime(1998, 10, 15)\n",
    "\n",
    "print(birthday)"
   ]
  },
  {
   "cell_type": "markdown",
   "metadata": {},
   "source": [
    "8. What day of the week was your day of birth?"
   ]
  },
  {
   "cell_type": "code",
   "execution_count": 8,
   "metadata": {},
   "outputs": [
    {
     "name": "stdout",
     "output_type": "stream",
     "text": [
      "My 'birthday' was on a Thursday.\n"
     ]
    }
   ],
   "source": [
    "from datetime import datetime\n",
    "\n",
    "birthday = datetime(1998, 10, 15)\n",
    "day_of_week = birthday.strftime(\"%A\")\n",
    "\n",
    "print(f\"My 'birthday' was on a {day_of_week}.\")"
   ]
  },
  {
   "cell_type": "markdown",
   "metadata": {},
   "source": [
    "9. When will you be (or when were you) 10,000 days old?"
   ]
  },
  {
   "cell_type": "code",
   "execution_count": 9,
   "metadata": {},
   "outputs": [
    {
     "name": "stdout",
     "output_type": "stream",
     "text": [
      "I will be (or was) 10,000 days old on:, 2026-03-02 00:00:00\n"
     ]
    }
   ],
   "source": [
    "from datetime import datetime, timedelta\n",
    "\n",
    "birthday = datetime(1998, 10, 15)\n",
    "\n",
    "ten_thousand_days_old = birthday + timedelta(days=10000)\n",
    "\n",
    "print(f\"I will be (or was) 10,000 days old on:, {ten_thousand_days_old}\")"
   ]
  }
 ],
 "metadata": {
  "kernelspec": {
   "display_name": "base",
   "language": "python",
   "name": "python3"
  },
  "language_info": {
   "codemirror_mode": {
    "name": "ipython",
    "version": 3
   },
   "file_extension": ".py",
   "mimetype": "text/x-python",
   "name": "python",
   "nbconvert_exporter": "python",
   "pygments_lexer": "ipython3",
   "version": "3.11.5"
  }
 },
 "nbformat": 4,
 "nbformat_minor": 2
}
