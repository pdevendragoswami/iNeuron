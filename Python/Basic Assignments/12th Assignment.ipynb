{
 "cells": [
  {
   "cell_type": "markdown",
   "metadata": {},
   "source": [
    "1. In what modes should the PdfFileReader() and PdfFileWriter() File objects will be opened?\n",
    "-  PdfFileReader() file objects should be opened in read binary mode('rb').\n",
    "-  PdfFileWriter() file objects should be opened in write binary mode('wb)."
   ]
  },
  {
   "cell_type": "markdown",
   "metadata": {},
   "source": [
    "2. From a PdfFileReader object, how do you get a Page object for page 5?\n",
    "\n",
    "- `getPage()` method is used to get a Page object from a specific page in PdfFileReader object.\n"
   ]
  },
  {
   "cell_type": "code",
   "execution_count": null,
   "metadata": {},
   "outputs": [],
   "source": [
    "from PyPDF2 import PdfFileReader\n",
    "\n",
    "file_path = \"test.pdf\"\n",
    "\n",
    "with open(file_path, 'rb') as file:\n",
    "    pdf_reader = PdfFileReader(file)\n",
    "    for page in range(pdf_reader.getNumPages()):\n",
    "        pdf_reader.getPage(page)\n"
   ]
  },
  {
   "cell_type": "markdown",
   "metadata": {},
   "source": [
    "3. What PdfFileReader variable stores the number of pages in the PDF document?\n",
    "\n",
    "- `getNumPages()` method of PdfFileReader class returns the number pages in a PDF document\n"
   ]
  },
  {
   "cell_type": "code",
   "execution_count": null,
   "metadata": {},
   "outputs": [],
   "source": [
    "from PyPDF2 import PdfFileReader\n",
    "\n",
    "file_path = \"test.pdf\"\n",
    "\n",
    "with open(file_path, 'rb') as file:\n",
    "    pdf_reader = PdfFileReader(file)\n",
    "    \n",
    "    # Get the number of pages in the PDF document\n",
    "    num_pages = pdf_reader.numPages\n",
    "\n",
    "    print(\"Number of pages in the PDF:\", num_pages)\n"
   ]
  },
  {
   "cell_type": "markdown",
   "metadata": {},
   "source": [
    "4. If a PdfFileReader object’s PDF is encrypted with the password swordfish, what must you do before you can obtain Page objects from it?\n",
    "\n",
    "- First, we have to read the Pdf using the PdfFileReader class.\n",
    "- After that, we will check whether a PDF is encrypred or not by attribute called `isEncrypted`\n",
    "- If PDF is encrypted with the password, we need to decrypt the PDF by providing the correct password.\n",
    "- We use the `decrypt()` method of the PdfFileReader object and pass the password as an argument to decrypt the password.\n",
    "- At the end, we read the content of the PDF.\n"
   ]
  },
  {
   "cell_type": "code",
   "execution_count": null,
   "metadata": {},
   "outputs": [],
   "source": [
    "from PyPDF2 import PdfFileReader\n",
    "\n",
    "file_path = \"encrypted_pdf_file.pdf\"\n",
    "\n",
    "with open(file_path, 'rb') as file:\n",
    "    pdf_reader = PdfFileReader(file)\n",
    "    \n",
    "    if pdf_reader.isEncrypted:\n",
    "        pdf_reader.decrypt(\"swordfish\")\n",
    "    \n",
    "    num_pages = pdf_reader.getNumPages()\n",
    "    print(\"Number of pages in the PDF:\", num_pages)"
   ]
  },
  {
   "cell_type": "markdown",
   "metadata": {},
   "source": [
    "5. What methods do you use to rotate a page?\n",
    "\n",
    "- PyPDF2 Package provides 2 methods to rotate a page:\n",
    "\n",
    "    - `rotateClockWise()` - For Clockwise rotation\n",
    "    - `rotateCounterClockWise()` -> For Counter Clockwise rotation\n",
    "\n",
    "    It only allow us the rotate by specified angle (90,180,270) degrees."
   ]
  },
  {
   "cell_type": "markdown",
   "metadata": {},
   "source": [
    "6. What is the difference between a Run object and a Paragraph object?\n",
    "\n",
    "-  Paragraph object:\n",
    "    A Paragraph object represents a single paragraph of text. It contains one or more Run objects. Paragraphs are used to group related text together. They can have their own formatting, such as alignment, indentation, spacing, and borders. A document consists of multiple paragraphs, each representing a separate block of text.\n",
    "\n",
    "\n",
    "- Run Object:\n",
    "   A Run object represents a contiguous run of text within a paragraph that has the same formatting properties.\n",
    "   It is the smallest unit of text manipulation in a document. It can include characters, symbols, and spaces. Runs are used to apply specific formatting, such as font style, size, color, bold, italic, etc., to a portion of text within a paragraph. A paragraph can contain multiple runs with different formatting.\n",
    "\n",
    "\n"
   ]
  },
  {
   "cell_type": "markdown",
   "metadata": {},
   "source": [
    "7. How do you obtain a list of Paragraph objects for a Document object that’s stored in a variable named doc?\n",
    "\n",
    "- We can obtain a list of Paragraph objects for a Document object stored in a variable named `doc` by using the `paragraphs` attribute of the `Document` object. Each item in the list represents a paragraph in the document.\n"
   ]
  },
  {
   "cell_type": "code",
   "execution_count": null,
   "metadata": {},
   "outputs": [],
   "source": [
    "from docx import Document\n",
    "\n",
    "doc = Document(\"sample_file.docx\") # Path of the Docx file\n",
    "\n",
    "print(doc.paragraphs) # Prints the list of Paragraph objects for a Document\n",
    "\n",
    "for paragraph in doc.paragraphs:\n",
    "    print(paragraph.text) # Prints the text in the paragraph"
   ]
  },
  {
   "cell_type": "markdown",
   "metadata": {},
   "source": [
    "8. What type of object has bold, underline, italic, strike, and outline variables?\n",
    "Ans: Run object has bold, underline, italic, strike, and outline variables. The text in a Word document is more than just a string. It has font, size, color, and other styling information associated with it.\n",
    "\n",
    "A style in Word is a collection of these attributes. A Run object is a contiguous run of text with the same style. A new Run object is needed whenever the text style changes."
   ]
  },
  {
   "cell_type": "markdown",
   "metadata": {},
   "source": [
    "9. What is the difference between False, True, and None for the bold variable?\n",
    "- bold = True  # Style Set to Bold\n",
    "- bold = False # Style Not Set to Bold\n",
    "- bold = None # Style is Not Applicable"
   ]
  },
  {
   "cell_type": "markdown",
   "metadata": {},
   "source": [
    "10. How do you create a Document object for a new Word document?"
   ]
  },
  {
   "cell_type": "code",
   "execution_count": null,
   "metadata": {},
   "outputs": [],
   "source": [
    "from docx import Document\n",
    "document = Document()\n",
    "document.add_paragraph(\"iNeuron Full Stack DataScience Course\")\n",
    "document.save('mydocument.docx')"
   ]
  },
  {
   "cell_type": "markdown",
   "metadata": {},
   "source": [
    "11. How do you add a paragraph with the text 'Hello, there!' to a Document object stored in a variable named doc?"
   ]
  },
  {
   "cell_type": "code",
   "execution_count": null,
   "metadata": {},
   "outputs": [],
   "source": [
    "from docx import Document\n",
    "doc = Document()\n",
    "doc.add_paragraph('Hello, there!')\n",
    "doc.save('hello.docx')"
   ]
  },
  {
   "cell_type": "markdown",
   "metadata": {},
   "source": [
    "12. What integers represent the levels of headings available in Word documents?\n",
    "- In Word documents, heading levels can be specified using the `level` attribute within the `add_heading` method. There are 9 levels available, numbered from 0 to 9. Each level corresponds to a specific hierarchy within the document's headings.\n",
    "    - Level 0 creates a headline with a horizontal line below the text.\n",
    "    - Levels 1 to 9 represent main headings and subsequent subheadings, with decreasing font sizes and formatting conventions."
   ]
  }
 ],
 "metadata": {
  "kernelspec": {
   "display_name": "base",
   "language": "python",
   "name": "python3"
  },
  "language_info": {
   "codemirror_mode": {
    "name": "ipython",
    "version": 3
   },
   "file_extension": ".py",
   "mimetype": "text/x-python",
   "name": "python",
   "nbconvert_exporter": "python",
   "pygments_lexer": "ipython3",
   "version": "3.11.5"
  }
 },
 "nbformat": 4,
 "nbformat_minor": 2
}
