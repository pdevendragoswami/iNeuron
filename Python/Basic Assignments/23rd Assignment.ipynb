{
 "cells": [
  {
   "cell_type": "markdown",
   "metadata": {},
   "source": [
    "1. What is the result of the code, and why?\n",
    "\n",
    ">>> def func(a, b=6, c=8):\n",
    "\n",
    "            print(a, b, c)\n",
    "\n",
    ">>> func(1, 2)"
   ]
  },
  {
   "cell_type": "code",
   "execution_count": 1,
   "metadata": {},
   "outputs": [
    {
     "name": "stdout",
     "output_type": "stream",
     "text": [
      "1 2 8\n"
     ]
    }
   ],
   "source": [
    "def func(a,b=6,c=8):\n",
    "    print(a,b,c)\n",
    "    \n",
    "func(1,2)"
   ]
  },
  {
   "cell_type": "markdown",
   "metadata": {},
   "source": [
    "- The output of the code is 1 2 8.\n",
    "- Since we are passing only 2 values and function consider them in order of a and b, therefore c take the default value provided in function."
   ]
  },
  {
   "cell_type": "markdown",
   "metadata": {},
   "source": [
    "2. What is the result of this code, and why?\n",
    "\n",
    ">>> def func(a, b, c=5):\n",
    "\n",
    "                print(a, b, c)\n",
    "\n",
    ">>> func(1, c=3, b=2)"
   ]
  },
  {
   "cell_type": "code",
   "execution_count": 2,
   "metadata": {},
   "outputs": [
    {
     "name": "stdout",
     "output_type": "stream",
     "text": [
      "1 2 3\n"
     ]
    }
   ],
   "source": [
    "def func(a,b,c=5):\n",
    "    print(a,b,c)\n",
    "\n",
    "func(1,c=3,b=2)"
   ]
  },
  {
   "cell_type": "markdown",
   "metadata": {},
   "source": [
    "- The output of the code is 1 2 3.\n",
    "- Since we are passing only 3 values in which we define two parameter b and c to their respective value.\n",
    "- Also it take first value for a in order of parameters in function"
   ]
  },
  {
   "cell_type": "markdown",
   "metadata": {},
   "source": [
    "3. How about this code: what is its result, and why?\n",
    "\n",
    ">>> def func(a, *pargs):\n",
    "\n",
    "                print(a, pargs)\n",
    "\n",
    ">>> func(1, 2, 3)"
   ]
  },
  {
   "cell_type": "code",
   "execution_count": 3,
   "metadata": {},
   "outputs": [
    {
     "name": "stdout",
     "output_type": "stream",
     "text": [
      "1 (2, 3)\n"
     ]
    }
   ],
   "source": [
    "def func(a, *pargs):\n",
    "    print(a,pargs)\n",
    "    \n",
    "func(1,2,3)"
   ]
  },
  {
   "cell_type": "markdown",
   "metadata": {},
   "source": [
    "- The output of the code is 1 (2,3).\n",
    "- Since *pargs stands for variable length arguments and store data in tuple form.\n",
    "- *pargs is used when we don't know about the no of arguments to be passed to a function.\n",
    "- It take 1st value for variable a as the order of parameter of function and remaining as **pargs."
   ]
  },
  {
   "cell_type": "markdown",
   "metadata": {},
   "source": [
    "4. What does this code print, and why?\n",
    "\n",
    ">>> def func(a, **kargs):\n",
    "\n",
    "            print(a, kargs)\n",
    "\n",
    ">>> func(a=1, c=3, b=2)"
   ]
  },
  {
   "cell_type": "code",
   "execution_count": 4,
   "metadata": {},
   "outputs": [
    {
     "name": "stdout",
     "output_type": "stream",
     "text": [
      "1 {'c': 3, 'b': 2}\n"
     ]
    }
   ],
   "source": [
    "def func(a,**kargs):\n",
    "    print(a,kargs)\n",
    "    \n",
    "func(a=1,c=3,b=2)"
   ]
  },
  {
   "cell_type": "markdown",
   "metadata": {},
   "source": [
    "- The output of the code is 1 {'c': 3, 'b': 2}.\n",
    "- **args stands for variable length keyword arguments and store data in dict format.\n",
    "- **args is used when we want pass key value pairs as input to a function.\n",
    "- It take 1st value for variable a as assigned and remaining as **args."
   ]
  },
  {
   "cell_type": "markdown",
   "metadata": {},
   "source": [
    "5. What gets printed by this, and explain?\n",
    "\n",
    ">>> def func(a, b, c=8, d=5):\n",
    "\n",
    "            print(a, b, c, d)\n",
    "\n",
    ">>> func(1, *(5, 6))"
   ]
  },
  {
   "cell_type": "code",
   "execution_count": 5,
   "metadata": {},
   "outputs": [
    {
     "name": "stdout",
     "output_type": "stream",
     "text": [
      "1 5 6 5\n"
     ]
    }
   ],
   "source": [
    "def func(a,b,c=8,d=5):\n",
    "    print(a,b,c,d)\n",
    "    \n",
    "func(1,*(5,6))"
   ]
  },
  {
   "cell_type": "markdown",
   "metadata": {},
   "source": [
    "- The output of the above is 1 5 6 5.\n",
    "- Since we provided 3 values to the function,'a' take the value 1 from the first argument,'b' take the take the value 5 from the second argument and 'c' take the value 6 from the third argument.\n",
    "- Since the argument is not provided for the 'd', it take the default value 5 which is defined inside function."
   ]
  },
  {
   "cell_type": "markdown",
   "metadata": {},
   "source": [
    "6. what is the result of this, and explain?\n",
    "\n",
    ">>> def func(a, b, c):\n",
    "\n",
    "            a = 2; b[0] = 'x'; c['a'] = 'y'\n",
    "\n",
    "\n",
    ">>> l=1; m=[1]; n={'a':0}\n",
    "\n",
    ">>> func(l, m, n)"
   ]
  },
  {
   "cell_type": "code",
   "execution_count": 6,
   "metadata": {},
   "outputs": [
    {
     "data": {
      "text/plain": [
       "(1, ['x'], {'a': 'y'})"
      ]
     },
     "execution_count": 6,
     "metadata": {},
     "output_type": "execute_result"
    }
   ],
   "source": [
    "def func(a, b, c): \n",
    "\n",
    "    a = 2; b[0] = 'x'; c['a'] = 'y'\n",
    "\n",
    "l=1; m=[1]; n={'a':0}\n",
    "\n",
    "func(l, m, n)\n",
    "l,m,n"
   ]
  },
  {
   "cell_type": "markdown",
   "metadata": {},
   "source": [
    "- The output of above code is 1, ['x'], {'a': 'y'}.\n",
    "- l, m, and n are initialized with the values 1, [1], and {'a': 0} respectively.\n",
    "- Inside func, a is assigned the value 2, b[0] is assigned the value 'x', and c['a'] is assigned the value 'y'.\n",
    "- When the function func is called with arguments l, m, and n, l remains unaffected because it's an immutable type (integer), but m and n are mutable types (list and dictionary respectively), so they can be modified in place.\n",
    "- After calling func, the value of l remains 1, but m becomes ['x'] and n becomes {'a': 'y'}. This happens because lists and dictionaries are mutable, so changes made to them inside the function are reflected outside the function as well."
   ]
  }
 ],
 "metadata": {
  "kernelspec": {
   "display_name": "base",
   "language": "python",
   "name": "python3"
  },
  "language_info": {
   "codemirror_mode": {
    "name": "ipython",
    "version": 3
   },
   "file_extension": ".py",
   "mimetype": "text/x-python",
   "name": "python",
   "nbconvert_exporter": "python",
   "pygments_lexer": "ipython3",
   "version": "3.11.5"
  }
 },
 "nbformat": 4,
 "nbformat_minor": 2
}
