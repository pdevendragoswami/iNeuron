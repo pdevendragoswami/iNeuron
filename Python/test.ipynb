{
 "cells": [
  {
   "cell_type": "code",
   "execution_count": 1,
   "metadata": {},
   "outputs": [],
   "source": [
    "import os"
   ]
  },
  {
   "cell_type": "code",
   "execution_count": 2,
   "metadata": {},
   "outputs": [],
   "source": [
    "folder_path = os.getcwd()"
   ]
  },
  {
   "cell_type": "code",
   "execution_count": 3,
   "metadata": {},
   "outputs": [
    {
     "data": {
      "text/plain": [
       "'c:\\\\Users\\\\Devendra\\\\Projects\\\\Assignments\\\\iNeuron\\\\Python'"
      ]
     },
     "execution_count": 3,
     "metadata": {},
     "output_type": "execute_result"
    }
   ],
   "source": [
    "folder_path"
   ]
  },
  {
   "cell_type": "code",
   "execution_count": 4,
   "metadata": {},
   "outputs": [],
   "source": [
    "full_path = os.path.join(folder_path,'Basic Assignments')"
   ]
  },
  {
   "cell_type": "code",
   "execution_count": 5,
   "metadata": {},
   "outputs": [
    {
     "data": {
      "text/plain": [
       "'c:\\\\Users\\\\Devendra\\\\Projects\\\\Assignments\\\\iNeuron\\\\Python\\\\Basic Assignments'"
      ]
     },
     "execution_count": 5,
     "metadata": {},
     "output_type": "execute_result"
    }
   ],
   "source": [
    "full_path"
   ]
  },
  {
   "cell_type": "code",
   "execution_count": 6,
   "metadata": {},
   "outputs": [],
   "source": [
    "files = os.listdir(full_path)"
   ]
  },
  {
   "cell_type": "code",
   "execution_count": 7,
   "metadata": {},
   "outputs": [
    {
     "data": {
      "text/plain": [
       "['01st Assignment.ipynb',\n",
       " '02nd Assignment.ipynb',\n",
       " '03rd Assignment.ipynb',\n",
       " '04th Assignment.ipynb',\n",
       " '05th Assignment.ipynb',\n",
       " '06th Assignment.ipynb',\n",
       " '07th Assignment.ipynb',\n",
       " '08th Assignment.ipynb',\n",
       " '09th Assignment.ipynb',\n",
       " '10th Assignment.ipynb',\n",
       " '11th Assignment.ipynb',\n",
       " '12th Assignment.ipynb',\n",
       " '13th Assignment.ipynb',\n",
       " '14th Assignment.ipynb',\n",
       " '15th Assignment.ipynb',\n",
       " '16th Assignment.ipynb',\n",
       " '17th Assignment.ipynb',\n",
       " '18th Assignment.ipynb',\n",
       " '19th Assignment.ipynb',\n",
       " '20th Assignment.ipynb',\n",
       " '21st Assignment.ipynb',\n",
       " '22nd Assignment.ipynb',\n",
       " '23rd Assignment.ipynb',\n",
       " '24th Assignment.ipynb',\n",
       " '25th Assignment.ipynb']"
      ]
     },
     "execution_count": 7,
     "metadata": {},
     "output_type": "execute_result"
    }
   ],
   "source": [
    "files"
   ]
  },
  {
   "cell_type": "code",
   "execution_count": 16,
   "metadata": {},
   "outputs": [
    {
     "name": "stdout",
     "output_type": "stream",
     "text": [
      "['10th', 'Assignment.ipynb']\n",
      "['10th', 'Programming', 'Assignment.ipynb']\n",
      "['11th', 'Assignment.ipynb']\n",
      "['11th', 'Programming', 'Assignment.ipynb']\n",
      "['12th', 'Assignment.ipynb']\n",
      "['12th', 'Programming', 'Assignment.ipynb']\n",
      "['13th', 'Assignment.ipynb']\n",
      "['13th', 'Programming', 'Assignment.ipynb']\n",
      "['14th', 'Assignment.ipynb']\n",
      "['14th', 'Programming', 'Assignment.ipynb']\n",
      "['15th', 'Assignment.ipynb']\n",
      "['15th', 'Programming', 'Assignment.ipynb']\n",
      "['16th', 'Assignment.ipynb']\n",
      "['16th', 'Programming', 'Assignment.ipynb']\n",
      "['17th', 'Assignment.ipynb']\n",
      "['17th', 'Programming', 'Assignment.ipynb']\n",
      "['18th', 'Assignment.ipynb']\n",
      "['18th', 'Programming', 'Assignment.ipynb']\n",
      "['19th', 'Assignment.ipynb']\n",
      "['19th', 'Programming', 'Assignment.ipynb']\n",
      "['1st', 'Assignment.ipynb']\n",
      "['1st', 'Programming', 'Assignment.ipynb']\n",
      "['20th', 'Assignment.ipynb']\n",
      "['20th', 'Programming', 'Assignment.ipynb']\n",
      "['21st', 'Programming', 'Assignment.ipynb']\n",
      "['21th', 'Assignment.ipynb']\n",
      "['22nd', 'Assignment.ipynb']\n",
      "['22nd', 'Programming', 'Assignment.ipynb']\n",
      "['23rd', 'Assignment.ipynb']\n",
      "['23rd', 'Programming', 'Assignment.ipynb']\n",
      "['24th', 'Assignment.ipynb']\n",
      "['24th', 'Programming', 'Assignment.ipynb']\n",
      "['25th', 'Assignment.ipynb']\n",
      "['25th', 'Programming', 'Assignment.ipynb']\n",
      "['2nd', 'Assignment.ipynb']\n",
      "['2nd', 'Programming', 'Assignment.ipynb']\n",
      "['3rd', 'Assignment.ipynb']\n",
      "['3rd', 'Programming', 'Assignment.ipynb']\n",
      "['4th', 'Assignment.ipynb']\n",
      "['4th', 'Programming', 'Assignment.ipynb']\n",
      "['5th', 'Assignment.ipynb']\n",
      "['5th', 'Programming', 'Assigment.ipynb']\n",
      "['6th', 'Assignment.ipynb']\n",
      "['6th', 'Progamming', 'Assignment.ipynb']\n",
      "['7th', 'Assignment.ipynb']\n",
      "['7th', 'Programming', 'Assignment.ipynb']\n",
      "['8th', 'Assignment.ipynb']\n",
      "['8th', 'Programming', 'Assignment.ipynb']\n",
      "['9th', 'Assignment.ipynb']\n",
      "['9th', 'Programming', 'Assigment.ipynb']\n"
     ]
    }
   ],
   "source": [
    "import shutil\n",
    "\n",
    "for file in files:\n",
    "    temp_name = file.split(\" \")\n",
    "    print(temp_name)\n",
    "    if 'Programming' in temp_name:\n",
    "        shutil.move(os.path.join(full_path,file),os.path.join(folder_path,'Basic Programming Assignments'))\n",
    "        "
   ]
  },
  {
   "cell_type": "code",
   "execution_count": null,
   "metadata": {},
   "outputs": [],
   "source": []
  }
 ],
 "metadata": {
  "kernelspec": {
   "display_name": "base",
   "language": "python",
   "name": "python3"
  },
  "language_info": {
   "codemirror_mode": {
    "name": "ipython",
    "version": 3
   },
   "file_extension": ".py",
   "mimetype": "text/x-python",
   "name": "python",
   "nbconvert_exporter": "python",
   "pygments_lexer": "ipython3",
   "version": "3.11.5"
  }
 },
 "nbformat": 4,
 "nbformat_minor": 2
}
