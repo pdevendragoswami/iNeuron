{
 "cells": [
  {
   "cell_type": "markdown",
   "id": "b4bb0519",
   "metadata": {},
   "source": [
    "1. What does one mean by the term \"machine learning\" ?\n",
    "\n",
    "    Machine Learning is subset of AI that provides stats tools to perform,explore analyze,visualize the data and make prediction data."
   ]
  },
  {
   "cell_type": "markdown",
   "id": "07658be2",
   "metadata": {},
   "source": [
    "2. Can you think of 4 distinct types of issues where it shines ?\n",
    "\n",
    "    Image Recognition: Machine learning excels in recognizing objects, people, and places within digital images. A prominent example is automatic friend tagging suggestions on social media platforms, where machine learning algorithms detect and identify faces in uploaded photos.\n",
    "\n",
    "    Speech Recognition: Machine learning powers speech recognition technology, which converts spoken language into text. Popular virtual assistants like Google Assistant, Siri, and Alexa utilize machine learning algorithms to accurately transcribe voice commands, enhancing user interaction and accessibility.\n",
    "\n",
    "    Traffic Prediction: Machine learning enables the prediction of traffic conditions by analyzing real-time vehicle location data from sources like Google Maps and sensor information. By leveraging historical traffic patterns and current data, machine learning models can forecast traffic congestion levels, aiding in route planning and optimization.\n",
    "\n",
    "    Product Recommendations: E-commerce and entertainment platforms leverage machine learning algorithms to analyze user behavior and preferences, facilitating personalized product recommendations. Companies like Amazon and Netflix use these algorithms to suggest relevant products and content to users, enhancing the overall user experience and driving engagement.\n"
   ]
  },
  {
   "cell_type": "markdown",
   "id": "e4c09e54",
   "metadata": {},
   "source": [
    "3. What is a labeled training set, and how does it work ?\n",
    "\n",
    "    A labeled training set pairs data examples with known outcomes. Machine learning algorithms use this set to learn patterns between input features and labels. Once trained, the model can predict outcomes for new data. To evaluate its performance, we test it with another set of known outcomes."
   ]
  },
  {
   "cell_type": "markdown",
   "id": "12f74952",
   "metadata": {},
   "source": [
    "4. What are the two most important tasks that are supervised ?\n",
    "\n",
    "    The primary tasks in supervised learning are regression and classification."
   ]
  },
  {
   "cell_type": "markdown",
   "id": "3a9270b6",
   "metadata": {},
   "source": [
    "5. Can you think of four examples of unsupervised tasks ?\n",
    "\n",
    "    Four examples of unsupervised learning tasks include clustering, visualization, dimensionality reduction, and association rule learning."
   ]
  },
  {
   "cell_type": "markdown",
   "id": "067cb548",
   "metadata": {},
   "source": [
    "6. State the machine learning model that would be best to make a robot walk through various unfamiliar terrains ?\n",
    "        \n",
    "    The ideal machine learning model for enabling a robot to navigate unfamiliar terrains is reinforcement learning. This approach allows the robot to learn and adapt its walking behavior based on the feedback it receives from the terrain, optimizing its movements over time.\n"
   ]
  },
  {
   "cell_type": "markdown",
   "id": "84ed2006",
   "metadata": {},
   "source": [
    "7. Which algorithm will you use to divide your customers into different groups ?\n",
    "\n",
    "    The best approach for segmenting customers into different groups depends on whether or not we have predefined group labels. If we do, supervised learning algorithms like decision trees, support vector machines, and k-nearest neighbors, would be suitable. Otherwise, unsupervised learning algorithms like K-means, hierarchical clustering, and dbscan clustering would be more appropriate."
   ]
  },
  {
   "cell_type": "markdown",
   "id": "deeca7de",
   "metadata": {},
   "source": [
    "8. Will you consider the problem of spam detection to be a supervised or unsupervised learning problem ?\n",
    "\n",
    "    Spam detection is a supervised machine learning problem beacause of known labels (spam or no spam)."
   ]
  },
  {
   "cell_type": "markdown",
   "id": "b82dd896",
   "metadata": {},
   "source": [
    "9. What is the concept of an online learning system ?\n",
    "\n",
    "    An online learning system is a type of machine learning system that continuously learns and updates its model as new data streams in, often in small increments or batches."
   ]
  },
  {
   "cell_type": "markdown",
   "id": "cba60131",
   "metadata": {},
   "source": [
    "10. What is out-of-core learning, and how does it differ from core learning ?\n",
    "\n",
    "    Out-of-core learning refers to a system that can handle datasets too large to fit into computer memory at once. It uses an online learning approach, processing data in small chunks. This differs from core learning, where the entire dataset fits into memory for batch processing."
   ]
  },
  {
   "cell_type": "markdown",
   "id": "50fbe8e1",
   "metadata": {},
   "source": [
    "11. What kind of learning algorithm makes predictions using a similarity measure ?\n",
    "\n",
    "    Algorithms that make predictions based on similarity measures are known as instance-based algorithms."
   ]
  },
  {
   "cell_type": "markdown",
   "id": "a6188611",
   "metadata": {},
   "source": [
    "12. What's the difference between a model parameter and a hyperparameter in a learning algorithm ?\n",
    "\n",
    "    A model parameter influences how a model predicts new data and is learned from the training data, such as the slope in a linear model. In contrast, a hyperparameter is a parameter of the learning algorithm itself, not tied to any specific model. Hyperparameters are set before training and dictate the learning process, like the learning rate in gradient descent."
   ]
  },
  {
   "cell_type": "markdown",
   "id": "e1bf03a1",
   "metadata": {},
   "source": [
    "13. What are the criteria that model-based learning algorithms look for? What is the most popular method they use to achieve success? What method do they use to make predictions ?\n",
    "\n",
    "    Model-based learning algorithms aim to find the optimal values of parameters in a model to achieve the best results for new instances. Typically, they use a cost function to minimize parameter values. The most common approach for success is optimization methods like gradient descent. To make predictions, the model utilizes both the features of the new instance and the optimized parameter values within its function."
   ]
  },
  {
   "cell_type": "markdown",
   "id": "265a1598",
   "metadata": {},
   "source": [
    "14. Can you name four of the most important Machine Learning challenges ?\n",
    "\n",
    "    Four main challenges in machine learning are:\n",
    "\n",
    "    Overfitting: When a model is too complex and learns noise in the data.\n",
    "\n",
    "    Underfitting: When a model is too simple and fails to capture patterns.\n",
    "\n",
    "    Data scarcity: Not having enough data for effective training.\n",
    "    \n",
    "    Non-representative data: When the training data doesn't reflect real-world scenarios accurately.\n"
   ]
  },
  {
   "cell_type": "markdown",
   "id": "187e02c4",
   "metadata": {},
   "source": [
    "15. What happens if the model performs well on the training data but fails to generalize the results to new situations? Can you think of three different options ?\n",
    "\n",
    "    If the model performs poorly on new instances, it indicates overfitting to the training data. To address this, we can performe the following steps:\n",
    "\n",
    "    Increasing the amount of data.\n",
    "\n",
    "    Using a simpler model.\n",
    "        \n",
    "    Removing outliers or noise from the dataset."
   ]
  },
  {
   "cell_type": "markdown",
   "id": "7740396f",
   "metadata": {},
   "source": [
    "16. What exactly is a test set, and why would you need one?\n",
    "\n",
    "    A test set is a dataset used to evaluate the performance of a trained model. It helps us to evaluate how well the model generalizes to new, unseen data.  Having a test set is crucial for determining the effectiveness of the model and ensuring its reliability in real-world scenarios."
   ]
  },
  {
   "cell_type": "markdown",
   "id": "bc904903",
   "metadata": {},
   "source": [
    "17. What is a validation set's purpose ?\n",
    "\n",
    "    Validation set is used to assess the performance of a trained model during the training process and to make decisions regarding model selection, hyperparameter tuning, and feature selection."
   ]
  },
  {
   "cell_type": "markdown",
   "id": "7d4a62f1",
   "metadata": {},
   "source": [
    "18. What precisely is the train-dev kit, when will you need it, how do you put it to use ?\n",
    "\n",
    "    The \"train-dev set\" is a subset of the training data split into training and development (or validation) sets. It's used to evaluate model performance and tune hyperparameters without needing a separate validation set. Cross-validation is another method where the training data is split into subsets for both training and validation, allowing for thorough model evaluation without sacrificing data. Both approaches are valuable depending on the situation."
   ]
  },
  {
   "cell_type": "markdown",
   "id": "e5472660",
   "metadata": {},
   "source": [
    "19. What could go wrong if you use the test set to tune hyperparameters ?\n",
    "\n",
    "    If we use the test set to tune hyperparameters, it may lead to overfitting to the test set. This means the model might perform well on the test set but poorly on new, unseen data as it's specifically optimized for that particular set."
   ]
  }
 ],
 "metadata": {
  "language_info": {
   "name": "python"
  }
 },
 "nbformat": 4,
 "nbformat_minor": 5
}
