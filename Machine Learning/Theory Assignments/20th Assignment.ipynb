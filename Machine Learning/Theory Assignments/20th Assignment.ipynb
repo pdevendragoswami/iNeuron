{
 "cells": [
  {
   "cell_type": "markdown",
   "id": "9c2bd3eb",
   "metadata": {},
   "source": [
    "\n",
    "Assignment 20 Solutions\n",
    "1. What is the underlying concept of Support Vector Machines ?\n",
    " \n",
    "2. What is the concept of a support vector ?\n",
    " \n",
    "3. When using SVMs, why is it necessary to scale the inputs ?\n",
    " \n",
    "4. When an SVM classifier classifies a case, can it output a confidence score? What about a percentage chance ?\n",
    " \n",
    "5. Should you train a model on a training set with millions of instances and hundreds of features using the primal or dual form of the SVM problem ?\n",
    " \n",
    "6. Let's say you've used an RBF kernel to train an SVM classifier, but it appears to underfit the training collection. Is it better to raise or lower (gamma)? What about the letter C ?\n",
    " \n",
    "7. To solve the soft margin linear SVM classifier problem with an off-the-shelf QP solver, how should the QP parameters (H, f, A, and b) be set ?\n",
    " \n",
    "8. On a linearly separable dataset, train a LinearSVC. Then, using the same dataset, train an SVC and an SGDClassifier. See if you can get them to make a model that is similar to yours ?\n",
    " \n",
    "9. On the MNIST dataset, train an SVM classifier. You'll need to use one-versus-the-rest to assign all 10 digits because SVM classifiers are binary classifiers. To accelerate up the process, you might want to tune the hyperparameters using small validation sets. What level of precision can you achieve ?\n",
    " \n",
    "10. On the California housing dataset, train an SVM regressor ?\n",
    " "
   ]
  }
 ],
 "metadata": {
  "language_info": {
   "name": "python"
  }
 },
 "nbformat": 4,
 "nbformat_minor": 5
}
