{
 "cells": [
  {
   "cell_type": "markdown",
   "id": "74183cb2",
   "metadata": {},
   "source": [
    "# Assignment 7"
   ]
  }
 ],
 "metadata": {},
 "nbformat": 4,
 "nbformat_minor": 5
}
