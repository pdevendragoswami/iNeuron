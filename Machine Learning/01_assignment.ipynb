{
 "cells": [
  {
   "cell_type": "markdown",
   "id": "b4bb0519",
   "metadata": {},
   "source": [
    "# Assignment 1"
   ]
  }
 ],
 "metadata": {},
 "nbformat": 4,
 "nbformat_minor": 5
}
