{
 "cells": [
  {
   "cell_type": "markdown",
   "id": "48ea561f",
   "metadata": {},
   "source": [
    "# Assignment 23"
   ]
  }
 ],
 "metadata": {},
 "nbformat": 4,
 "nbformat_minor": 5
}
