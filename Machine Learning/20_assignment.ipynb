{
 "cells": [
  {
   "cell_type": "markdown",
   "id": "9c2bd3eb",
   "metadata": {},
   "source": [
    "# Assignment 20"
   ]
  }
 ],
 "metadata": {},
 "nbformat": 4,
 "nbformat_minor": 5
}
