{
 "cells": [
  {
   "cell_type": "markdown",
   "id": "cdb8a1e5",
   "metadata": {},
   "source": [
    "# Assignment 19"
   ]
  }
 ],
 "metadata": {},
 "nbformat": 4,
 "nbformat_minor": 5
}
